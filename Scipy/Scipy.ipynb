{
 "cells": [
  {
   "cell_type": "markdown",
   "id": "f2f10db9-15eb-4ac0-9ad3-f360a5801cc6",
   "metadata": {},
   "source": [
    "# Scipy\n",
    "Scientific Python. Usually used to optimize, numerically integrate and differentiate complex function. It also has a big database of physical constants."
   ]
  },
  {
   "cell_type": "markdown",
   "id": "7362e366-7369-4cf6-b363-110a749d8aa3",
   "metadata": {},
   "source": [
    "### Integration\n",
    "Let us integrate $$\\int_0^{\\pi/8}\\sqrt{\\tan(x)}dx$$"
   ]
  },
  {
   "cell_type": "code",
   "execution_count": null,
   "id": "557550a1-b1e2-4358-b5f2-52d3ef4c1375",
   "metadata": {},
   "outputs": [],
   "source": [
    "from scipy import integrate\n",
    "from numpy import tan, pi, e "
   ]
  },
  {
   "cell_type": "code",
   "execution_count": null,
   "id": "adc252d8-0b07-4c01-af4f-4f9016e5c3a6",
   "metadata": {},
   "outputs": [],
   "source": [
    "def tanRoot(x):\n",
    "    return tan(x)**.5"
   ]
  },
  {
   "cell_type": "code",
   "execution_count": null,
   "id": "371d6b8b-0ed1-4986-858e-1ecc4903363c",
   "metadata": {},
   "outputs": [],
   "source": [
    "result = integrate.quad(tanRoot, 0, pi/8.)\n",
    "result"
   ]
  },
  {
   "cell_type": "code",
   "execution_count": null,
   "id": "902b98e9-1fbc-4800-b4f7-1b2efb83b73b",
   "metadata": {},
   "outputs": [],
   "source": [
    "a = lambda x, y: x + y"
   ]
  },
  {
   "cell_type": "code",
   "execution_count": null,
   "id": "779a73b0-bd89-4b61-a294-b3fc87be25e1",
   "metadata": {},
   "outputs": [],
   "source": [
    "result = integrate.dblquad(lambda x, y: x**2 + y ** 2, \n",
    "                             0, 2, 0, 2)\n",
    "result"
   ]
  },
  {
   "cell_type": "code",
   "execution_count": null,
   "id": "99583ec1-9188-430c-8abd-b7aafc36d018",
   "metadata": {},
   "outputs": [],
   "source": [
    "from numpy import inf"
   ]
  },
  {
   "cell_type": "markdown",
   "id": "82181b41-42cd-4e11-be72-b936be425f28",
   "metadata": {},
   "source": [
    "$$\\Gamma(x)=\\int_0^{\\infty} t^{x-1}e^{-t}dt, x>0$$"
   ]
  },
  {
   "cell_type": "code",
   "execution_count": null,
   "id": "ce91ff40-7a90-414c-b902-d862846e74ba",
   "metadata": {},
   "outputs": [],
   "source": [
    "def gamma(x,t):\n",
    "    return t**(x-1)*e**(-t)"
   ]
  },
  {
   "cell_type": "code",
   "execution_count": null,
   "id": "8e968b74-0645-484c-9273-b628f015dca9",
   "metadata": {},
   "outputs": [],
   "source": [
    "for x in range(1,11):\n",
    "    result, error=integrate.quad(lambda t: gamma(x, t), 0, inf) #lambda empieza a ser útil\n",
    "    print(\"%s +- %s\"%(result, error))"
   ]
  },
  {
   "cell_type": "markdown",
   "id": "92c25f86-3d0a-4627-ac2c-f5829e5b47a3",
   "metadata": {},
   "source": [
    "#### Exercise\n",
    "- Use an integral to approximate $\\pi$.\n",
    "- Use an integral to approximate $e$."
   ]
  },
  {
   "cell_type": "code",
   "execution_count": null,
   "id": "9c12f27f-784e-49dd-9318-4b22e5623654",
   "metadata": {},
   "outputs": [],
   "source": [
    "integrate.quad(lambda x: (1 - x ** 2)**0.5, -1, 1)[0] * 2"
   ]
  },
  {
   "cell_type": "code",
   "execution_count": null,
   "id": "dcf52142-ee32-4e9c-9c71-fc0578fc96b7",
   "metadata": {},
   "outputs": [],
   "source": [
    "import matplotlib.pyplot as plt\n",
    "import numpy as np"
   ]
  },
  {
   "cell_type": "code",
   "execution_count": null,
   "id": "75ae5fca-5612-44fb-9852-971c701a3cda",
   "metadata": {},
   "outputs": [],
   "source": [
    "x=np.linspace(1,10)\n",
    "result = integrate.quad(lambda t: gamma(x, t), 0, inf)\n",
    "result"
   ]
  },
  {
   "cell_type": "code",
   "execution_count": null,
   "id": "2b9556e3-dbaf-4e93-85c7-9f2c887447d8",
   "metadata": {},
   "outputs": [],
   "source": [
    "vectorized_fun = np.vectorize(lambda x: integrate.quad(lambda t: gamma(x, t), 0, inf))\n",
    "vectorized_fun"
   ]
  },
  {
   "cell_type": "code",
   "execution_count": null,
   "id": "09386edf-6025-4f78-8799-da57eed04018",
   "metadata": {},
   "outputs": [],
   "source": [
    "result = vectorized_fun(x)\n",
    "result"
   ]
  },
  {
   "cell_type": "code",
   "execution_count": null,
   "id": "edb8bbeb-4f91-4f10-b3d2-ad5cb2a950a4",
   "metadata": {},
   "outputs": [],
   "source": [
    "plt.errorbar(x, result[0], yerr=result[1], marker=\".\")"
   ]
  },
  {
   "cell_type": "markdown",
   "id": "036c87e9-30e2-40e5-9767-e156b3502897",
   "metadata": {},
   "source": [
    "### Findiff\n",
    "Package dedicated to numerical calculation of derivatives using finite differences."
   ]
  },
  {
   "cell_type": "code",
   "execution_count": null,
   "id": "8e7bf104-8e98-48d8-8114-ac0029107376",
   "metadata": {},
   "outputs": [],
   "source": [
    "import findiff"
   ]
  },
  {
   "cell_type": "code",
   "execution_count": null,
   "id": "59ec74bf-894f-409a-abea-9d2428700b3e",
   "metadata": {},
   "outputs": [],
   "source": [
    "import numpy as np\n",
    "x = np.linspace(0, 1, 100)\n",
    "f = np.sin(x)  # as an example\n",
    "dx = 0.1\n",
    "# Define the derivative:\n",
    "d_dx = findiff.FinDiff(0, dx, 1)\n",
    "\n",
    "# Apply it:\n",
    "df_dx = d_dx(f) \n",
    "df_dx"
   ]
  },
  {
   "cell_type": "code",
   "execution_count": null,
   "id": "96bed202-a9f9-4f96-920d-9f30d46795de",
   "metadata": {},
   "outputs": [],
   "source": [
    "d2_dx2 = findiff.FinDiff(0, dx, 2, acc=4)\n",
    "d2f_dx2 = d2_dx2(f)\n",
    "d2f_dx2"
   ]
  },
  {
   "cell_type": "markdown",
   "id": "05c16c0e-0ee4-4170-9e4b-589bbc59df50",
   "metadata": {},
   "source": [
    "## Integration of differential equations\n",
    "The equation of motion for a simple pendulum (without damping and small angles) is given by: \n",
    "$$\\frac{d^2\\theta}{dt^2} +\\frac{g}{L}\\sin\\theta=0.$$\n",
    "\n",
    "Solve the above equation using `scipy.integrate.solve_ivp`. Assume initial conditions $\\theta(0)=\\pi/6$ and $d\\theta/dt(0)=0.$"
   ]
  },
  {
   "cell_type": "code",
   "execution_count": 3,
   "id": "a73d8a7f-5464-4b7e-ba93-42fb5611d74f",
   "metadata": {},
   "outputs": [
    {
     "data": {
      "image/png": "[encoded data removed]",
      "text/plain": [
       "<Figure size 640x480 with 1 Axes>"
      ]
     },
     "metadata": {},
     "output_type": "display_data"
    }
   ],
   "source": [
    "import numpy as np\n",
    "from scipy.integrate import solve_ivp\n",
    "import matplotlib.pyplot as plt\n",
    "\n",
    "# Constants\n",
    "g = 9.81  # Gravity\n",
    "L = 2.0   # Length of the pendulum\n",
    "\n",
    "# Define the ODE system\n",
    "def pendulum(t, y):\n",
    "    theta, omega = y\n",
    "    dydt = [omega, -(g/L) * np.sin(theta)]\n",
    "    return dydt\n",
    "\n",
    "# Initial conditions: theta(0) = pi/6, dtheta/dt(0) = 0\n",
    "y0 = [np.pi/6, 0]\n",
    "\n",
    "# Time range\n",
    "t_span = [0, 10]\n",
    "t_eval = np.linspace(0, 10, 100)\n",
    "\n",
    "# Solve ODE\n",
    "sol = solve_ivp(pendulum, t_span, y0, t_eval=t_eval)\n",
    "\n",
    "# Plot the results\n",
    "plt.plot(sol.t, sol.y[0], label='Theta (Angle)')\n",
    "plt.xlabel('Time [s]')\n",
    "plt.ylabel('Angle [rad]')\n",
    "plt.title('Simple Pendulum Motion')\n",
    "plt.legend()\n",
    "plt.show()"
   ]
  },
  {
   "cell_type": "markdown",
   "id": "26b74647-38bf-4d9e-a1ea-483c39311dfc",
   "metadata": {},
   "source": [
    "- The **Lotka-Volterra (Predator-Prey) Model** is a well-known system of nonlinear ODEs:\n",
    "\n",
    "$$\n",
    "\\frac{dx}{dt} = \\alpha x - \\beta xy\n",
    "$$\n",
    "$$\n",
    "\\frac{dy}{dt} = \\delta xy - \\gamma y\n",
    "$$\n",
    "\n",
    "Where:\n",
    "\n",
    "- $x(t)$ is the population of prey,\n",
    "- $y(t)$ is the population of predators,\n",
    "- $\\alpha, \\beta, \\delta, \\gamma$ are constants.\n",
    "\n",
    "Solve the system with the following parameter values:\n",
    "\n",
    "$\n",
    "\\alpha = 1.5, \\, \\beta = 1, \\, \\delta = 0.1, \\, \\gamma = 1\n",
    "$\n",
    "\n",
    "With initial conditions $x(0) = 10$, $y(0) = 5$, over the time interval $t \\in [0, 30]$.\n"
   ]
  },
  {
   "cell_type": "code",
   "execution_count": 11,
   "id": "dead8507-101e-440e-97ea-e19add96bc3d",
   "metadata": {},
   "outputs": [],
   "source": [
    "alpha, beta, delta, gamma = 1.5, 1, 0.1, 1\n",
    "def lotka(t, pos):\n",
    "    x, y = pos\n",
    "    return [alpha * x - beta * x * y, delta * x * y - gamma * y]\n",
    "\n",
    "result = solve_ivp(lotka, [0, 30], [10, 5], t_eval = np.linspace(0, 30, 1000))"
   ]
  },
  {
   "cell_type": "code",
   "execution_count": 12,
   "id": "c57c468c-b8da-4bc7-8acc-cb92adb548b5",
   "metadata": {},
   "outputs": [
    {
     "data": {
      "text/plain": [
       "<matplotlib.legend.Legend at 0x7d7b6cd72450>"
      ]
     },
     "execution_count": 12,
     "metadata": {},
     "output_type": "execute_result"
    },
    {
     "data": {
      "image/png": "[encoded data removed]",
      "text/plain": [
       "<Figure size 640x480 with 1 Axes>"
      ]
     },
     "metadata": {},
     "output_type": "display_data"
    }
   ],
   "source": [
    "plt.plot(result.t, result.y[0], label = r\"$x(t)$\")\n",
    "plt.plot(result.t, result.y[1], label = r\"$y(t)$\")\n",
    "plt.legend()"
   ]
  },
  {
   "cell_type": "markdown",
   "id": "936e0d14-0965-4406-8db6-b486e31ae90e",
   "metadata": {},
   "source": [
    "### Optimization"
   ]
  },
  {
   "cell_type": "code",
   "execution_count": 13,
   "id": "f3435357-c50f-488f-b471-8dd0400f0db2",
   "metadata": {},
   "outputs": [],
   "source": [
    "from scipy import optimize"
   ]
  },
  {
   "cell_type": "code",
   "execution_count": 23,
   "id": "35e02b36-8474-43f5-bb9e-12acdf2c5ce3",
   "metadata": {},
   "outputs": [],
   "source": [
    "def objective(x):\n",
    "    return np.sum(x ** 2)\n",
    "def gradient(x):\n",
    "    return 2 * x"
   ]
  },
  {
   "cell_type": "code",
   "execution_count": 24,
   "id": "c59b77a5-42d7-43be-9383-72ca92c0f88d",
   "metadata": {},
   "outputs": [
    {
     "data": {
      "text/plain": [
       "  message: Optimization terminated successfully.\n",
       "  success: True\n",
       "   status: 0\n",
       "      fun: 8.38164711797325e-31\n",
       "        x: [-4.441e-16 -4.441e-16 -4.441e-16 -2.220e-16  0.000e+00\n",
       "            -1.110e-16  2.220e-16  3.331e-16  1.110e-16  1.110e-16]\n",
       "      nit: 2\n",
       "      jac: [-8.882e-16 -8.882e-16 -8.882e-16 -4.441e-16  0.000e+00\n",
       "            -2.220e-16  4.441e-16  6.661e-16  2.220e-16  2.220e-16]\n",
       " hess_inv: [[ 9.500e-01 -5.000e-02 ... -5.000e-02 -5.000e-02]\n",
       "            [-5.000e-02  9.500e-01 ... -5.000e-02 -5.000e-02]\n",
       "            ...\n",
       "            [-5.000e-02 -5.000e-02 ...  9.500e-01 -5.000e-02]\n",
       "            [-5.000e-02 -5.000e-02 ... -5.000e-02  9.500e-01]]\n",
       "     nfev: 3\n",
       "     njev: 3"
      ]
     },
     "execution_count": 24,
     "metadata": {},
     "output_type": "execute_result"
    }
   ],
   "source": [
    "result = optimize.minimize(objective, [1]*10, jac=gradient)\n",
    "result"
   ]
  },
  {
   "cell_type": "code",
   "execution_count": 19,
   "id": "d97b0824-c862-41e1-936e-00b5077159a9",
   "metadata": {},
   "outputs": [
    {
     "data": {
      "text/plain": [
       "  message: Optimization terminated successfully.\n",
       "  success: True\n",
       "   status: 0\n",
       "      fun: 2.465190328815662e-31\n",
       "        x: [ 1.000e+00  2.500e+00]\n",
       "      nit: 2\n",
       "      jac: [ 4.441e-16 -8.882e-16]\n",
       " hess_inv: [[ 9.310e-01 -1.724e-01]\n",
       "            [-1.724e-01  5.690e-01]]\n",
       "     nfev: 3\n",
       "     njev: 3"
      ]
     },
     "execution_count": 19,
     "metadata": {},
     "output_type": "execute_result"
    }
   ],
   "source": [
    "def objective(x):\n",
    "    return (x[0] - 1)**2 + (x[1] - 2.5)**2\n",
    "\n",
    "def gradient(x):\n",
    "    return np.array([2*(x[0] - 1), 2*(x[1] - 2.5)])\n",
    "\n",
    "result = optimize.minimize(objective, x0=[0, 0], method='BFGS', jac=gradient)\n",
    "result"
   ]
  },
  {
   "cell_type": "code",
   "execution_count": 20,
   "id": "83884df6-95c3-4288-939f-f2d72e05c4aa",
   "metadata": {},
   "outputs": [
    {
     "data": {
      "text/plain": [
       "  message: Optimization terminated successfully.\n",
       "  success: True\n",
       "   status: 0\n",
       "      fun: 1.968344227868139e-15\n",
       "        x: [ 1.000e+00  2.500e+00]\n",
       "      nit: 2\n",
       "      jac: [-6.956e-08  4.211e-08]\n",
       " hess_inv: [[ 9.310e-01 -1.724e-01]\n",
       "            [-1.724e-01  5.690e-01]]\n",
       "     nfev: 9\n",
       "     njev: 3"
      ]
     },
     "execution_count": 20,
     "metadata": {},
     "output_type": "execute_result"
    }
   ],
   "source": [
    "result = optimize.minimize(objective, x0=[0, 0], method='BFGS')\n",
    "result"
   ]
  },
  {
   "cell_type": "code",
   "execution_count": 25,
   "id": "62cefd0e-a9bb-4d6b-8e10-00afb34cb599",
   "metadata": {},
   "outputs": [
    {
     "data": {
      "image/png": "[encoded data removed]",
      "text/plain": [
       "<Figure size 640x480 with 1 Axes>"
      ]
     },
     "metadata": {},
     "output_type": "display_data"
    }
   ],
   "source": [
    "x = np.linspace(0, 3)\n",
    "plt.plot(x, x/2 +1)\n",
    "plt.plot(x, x/2-3)\n",
    "plt.plot(x, x/2-1)\n",
    "plt.show()"
   ]
  },
  {
   "cell_type": "code",
   "execution_count": 28,
   "id": "6e500ebe-a7f5-4956-948b-db08acdcfacb",
   "metadata": {},
   "outputs": [
    {
     "name": "stdout",
     "output_type": "stream",
     "text": [
      "[1.39999999 1.7       ] 0.8\n",
      "0.0\n"
     ]
    }
   ],
   "source": [
    "def objective(x):\n",
    "    return (x[0] - 1)**2 + (x[1] - 2.5)**2\n",
    "\n",
    "cons = ({'type': 'eq', 'fun': lambda x:  x[0] - 2 * x[1] + 2},\n",
    "        {'type': 'ineq', 'fun': lambda x: -x[0] - 2 * x[1] + 6},\n",
    "        {'type': 'ineq', 'fun': lambda x: -x[0] + 2 * x[1] + 2})\n",
    "\n",
    "result = optimize.minimize(objective, x0=[0, 0], method='SLSQP', constraints=cons)\n",
    "x, y = result.x\n",
    "print(result.x, result.fun)\n",
    "print(x-2*y+2)"
   ]
  },
  {
   "cell_type": "markdown",
   "id": "942c4e55-ab72-4e1f-adaf-2c191bf4eff8",
   "metadata": {},
   "source": [
    "#### Exercise\n",
    "- Estimate when $x^2= \\sin x$.\n",
    "- Determine the fixed point(s) of the mapping $f(x,y)=(x/2, y/2) + (0.25, 0.25).$"
   ]
  },
  {
   "cell_type": "code",
   "execution_count": 30,
   "id": "3fc2e210-75f2-41a0-b72c-57c24d02c997",
   "metadata": {},
   "outputs": [
    {
     "data": {
      "text/plain": [
       "[<matplotlib.lines.Line2D at 0x7d7b63be5670>]"
      ]
     },
     "execution_count": 30,
     "metadata": {},
     "output_type": "execute_result"
    },
    {
     "data": {
      "image/png": "[encoded data removed]",
      "text/plain": [
       "<Figure size 640x480 with 1 Axes>"
      ]
     },
     "metadata": {},
     "output_type": "display_data"
    }
   ],
   "source": [
    "x = np.linspace(-2, 2)\n",
    "plt.plot(x, x ** 2)\n",
    "plt.plot(x, np.sin(x))"
   ]
  },
  {
   "cell_type": "code",
   "execution_count": 34,
   "id": "3a487449-df46-4473-8161-c3e961718b99",
   "metadata": {},
   "outputs": [
    {
     "data": {
      "text/plain": [
       "  message: Optimization terminated successfully.\n",
       "  success: True\n",
       "   status: 0\n",
       "      fun: -0.2324655751543299\n",
       "        x: [ 4.502e-01]\n",
       "      nit: 5\n",
       "      jac: [-4.333e-06]\n",
       " hess_inv: [[ 4.094e-01]]\n",
       "     nfev: 12\n",
       "     njev: 6"
      ]
     },
     "execution_count": 34,
     "metadata": {},
     "output_type": "execute_result"
    }
   ],
   "source": [
    "def objective(x):\n",
    "    return x ** 2 - np.sin(x)\n",
    "result = optimize.minimize(objective, 1, x)\n",
    "result"
   ]
  },
  {
   "cell_type": "code",
   "execution_count": 52,
   "id": "0eda992f-fcc3-4f0d-b4b0-4b909ee7ccae",
   "metadata": {},
   "outputs": [
    {
     "data": {
      "text/plain": [
       "np.float64(2.7182818210084645)"
      ]
     },
     "execution_count": 52,
     "metadata": {},
     "output_type": "execute_result"
    }
   ],
   "source": [
    "from scipy import integrate\n",
    "def objective(x):\n",
    "    integral = integrate.quad(lambda t: 1/t, 1, x, epsabs=1e-15)\n",
    "    return (integral[0] - 1) ** 2\n",
    "result = optimize.minimize(objective, 2, tol=1e-15)\n",
    "result.x[0]"
   ]
  },
  {
   "cell_type": "code",
   "execution_count": 51,
   "id": "89dd8806-fbcb-4972-aafb-73d4d0f79105",
   "metadata": {},
   "outputs": [
    {
     "data": {
      "text/plain": [
       "2.718281828459045"
      ]
     },
     "execution_count": 51,
     "metadata": {},
     "output_type": "execute_result"
    }
   ],
   "source": [
    "np.e"
   ]
  },
  {
   "cell_type": "markdown",
   "id": "2135e979-4cbe-4035-8e6c-7ae6c5869a68",
   "metadata": {},
   "source": [
    "- Use ´from sklearn.datasets import load_diabetes´ to do a linear regression for the data of factors that may lead to diabetes."
   ]
  },
  {
   "cell_type": "code",
   "execution_count": 53,
   "id": "5e6f065c-4c2e-4fb4-b4df-c7f8dd591939",
   "metadata": {},
   "outputs": [],
   "source": [
    "from sklearn.datasets import load_diabetes\n",
    "import pandas as pd"
   ]
  },
  {
   "cell_type": "code",
   "execution_count": 54,
   "id": "c6a6eb2d-685e-4644-aa18-4323c7d4b263",
   "metadata": {},
   "outputs": [
    {
     "data": {
      "text/plain": [
       "{'data': array([[ 0.03807591,  0.05068012,  0.06169621, ..., -0.00259226,\n",
       "          0.01990749, -0.01764613],\n",
       "        [-0.00188202, -0.04464164, -0.05147406, ..., -0.03949338,\n",
       "         -0.06833155, -0.09220405],\n",
       "        [ 0.08529891,  0.05068012,  0.04445121, ..., -0.00259226,\n",
       "          0.00286131, -0.02593034],\n",
       "        ...,\n",
       "        [ 0.04170844,  0.05068012, -0.01590626, ..., -0.01107952,\n",
       "         -0.04688253,  0.01549073],\n",
       "        [-0.04547248, -0.04464164,  0.03906215, ...,  0.02655962,\n",
       "          0.04452873, -0.02593034],\n",
       "        [-0.04547248, -0.04464164, -0.0730303 , ..., -0.03949338,\n",
       "         -0.00422151,  0.00306441]]),\n",
       " 'target': array([151.,  75., 141., 206., 135.,  97., 138.,  63., 110., 310., 101.,\n",
       "         69., 179., 185., 118., 171., 166., 144.,  97., 168.,  68.,  49.,\n",
       "         68., 245., 184., 202., 137.,  85., 131., 283., 129.,  59., 341.,\n",
       "         87.,  65., 102., 265., 276., 252.,  90., 100.,  55.,  61.,  92.,\n",
       "        259.,  53., 190., 142.,  75., 142., 155., 225.,  59., 104., 182.,\n",
       "        128.,  52.,  37., 170., 170.,  61., 144.,  52., 128.,  71., 163.,\n",
       "        150.,  97., 160., 178.,  48., 270., 202., 111.,  85.,  42., 170.,\n",
       "        200., 252., 113., 143.,  51.,  52., 210.,  65., 141.,  55., 134.,\n",
       "         42., 111.,  98., 164.,  48.,  96.,  90., 162., 150., 279.,  92.,\n",
       "         83., 128., 102., 302., 198.,  95.,  53., 134., 144., 232.,  81.,\n",
       "        104.,  59., 246., 297., 258., 229., 275., 281., 179., 200., 200.,\n",
       "        173., 180.,  84., 121., 161.,  99., 109., 115., 268., 274., 158.,\n",
       "        107.,  83., 103., 272.,  85., 280., 336., 281., 118., 317., 235.,\n",
       "         60., 174., 259., 178., 128.,  96., 126., 288.,  88., 292.,  71.,\n",
       "        197., 186.,  25.,  84.,  96., 195.,  53., 217., 172., 131., 214.,\n",
       "         59.,  70., 220., 268., 152.,  47.,  74., 295., 101., 151., 127.,\n",
       "        237., 225.,  81., 151., 107.,  64., 138., 185., 265., 101., 137.,\n",
       "        143., 141.,  79., 292., 178.,  91., 116.,  86., 122.,  72., 129.,\n",
       "        142.,  90., 158.,  39., 196., 222., 277.,  99., 196., 202., 155.,\n",
       "         77., 191.,  70.,  73.,  49.,  65., 263., 248., 296., 214., 185.,\n",
       "         78.,  93., 252., 150.,  77., 208.,  77., 108., 160.,  53., 220.,\n",
       "        154., 259.,  90., 246., 124.,  67.,  72., 257., 262., 275., 177.,\n",
       "         71.,  47., 187., 125.,  78.,  51., 258., 215., 303., 243.,  91.,\n",
       "        150., 310., 153., 346.,  63.,  89.,  50.,  39., 103., 308., 116.,\n",
       "        145.,  74.,  45., 115., 264.,  87., 202., 127., 182., 241.,  66.,\n",
       "         94., 283.,  64., 102., 200., 265.,  94., 230., 181., 156., 233.,\n",
       "         60., 219.,  80.,  68., 332., 248.,  84., 200.,  55.,  85.,  89.,\n",
       "         31., 129.,  83., 275.,  65., 198., 236., 253., 124.,  44., 172.,\n",
       "        114., 142., 109., 180., 144., 163., 147.,  97., 220., 190., 109.,\n",
       "        191., 122., 230., 242., 248., 249., 192., 131., 237.,  78., 135.,\n",
       "        244., 199., 270., 164.,  72.,  96., 306.,  91., 214.,  95., 216.,\n",
       "        263., 178., 113., 200., 139., 139.,  88., 148.,  88., 243.,  71.,\n",
       "         77., 109., 272.,  60.,  54., 221.,  90., 311., 281., 182., 321.,\n",
       "         58., 262., 206., 233., 242., 123., 167.,  63., 197.,  71., 168.,\n",
       "        140., 217., 121., 235., 245.,  40.,  52., 104., 132.,  88.,  69.,\n",
       "        219.,  72., 201., 110.,  51., 277.,  63., 118.,  69., 273., 258.,\n",
       "         43., 198., 242., 232., 175.,  93., 168., 275., 293., 281.,  72.,\n",
       "        140., 189., 181., 209., 136., 261., 113., 131., 174., 257.,  55.,\n",
       "         84.,  42., 146., 212., 233.,  91., 111., 152., 120.,  67., 310.,\n",
       "         94., 183.,  66., 173.,  72.,  49.,  64.,  48., 178., 104., 132.,\n",
       "        220.,  57.]),\n",
       " 'frame': None,\n",
       " 'DESCR': '.. _diabetes_dataset:\\n\\nDiabetes dataset\\n----------------\\n\\nTen baseline variables, age, sex, body mass index, average blood\\npressure, and six blood serum measurements were obtained for each of n =\\n442 diabetes patients, as well as the response of interest, a\\nquantitative measure of disease progression one year after baseline.\\n\\n**Data Set Characteristics:**\\n\\n:Number of Instances: 442\\n\\n:Number of Attributes: First 10 columns are numeric predictive values\\n\\n:Target: Column 11 is a quantitative measure of disease progression one year after baseline\\n\\n:Attribute Information:\\n    - age     age in years\\n    - sex\\n    - bmi     body mass index\\n    - bp      average blood pressure\\n    - s1      tc, total serum cholesterol\\n    - s2      ldl, low-density lipoproteins\\n    - s3      hdl, high-density lipoproteins\\n    - s4      tch, total cholesterol / HDL\\n    - s5      ltg, possibly log of serum triglycerides level\\n    - s6      glu, blood sugar level\\n\\nNote: Each of these 10 feature variables have been mean centered and scaled by the standard deviation times the square root of `n_samples` (i.e. the sum of squares of each column totals 1).\\n\\nSource URL:\\nhttps://www4.stat.ncsu.edu/~boos/var.select/diabetes.html\\n\\nFor more information see:\\nBradley Efron, Trevor Hastie, Iain Johnstone and Robert Tibshirani (2004) \"Least Angle Regression,\" Annals of Statistics (with discussion), 407-499.\\n(https://web.stanford.edu/~hastie/Papers/LARS/LeastAngle_2002.pdf)\\n',\n",
       " 'feature_names': ['age',\n",
       "  'sex',\n",
       "  'bmi',\n",
       "  'bp',\n",
       "  's1',\n",
       "  's2',\n",
       "  's3',\n",
       "  's4',\n",
       "  's5',\n",
       "  's6'],\n",
       " 'data_filename': 'diabetes_data_raw.csv.gz',\n",
       " 'target_filename': 'diabetes_target.csv.gz',\n",
       " 'data_module': 'sklearn.datasets.data'}"
      ]
     },
     "execution_count": 54,
     "metadata": {},
     "output_type": "execute_result"
    }
   ],
   "source": [
    "# Load the diabetes dataset\n",
    "diabetes = load_diabetes()\n",
    "diabetes"
   ]
  },
  {
   "cell_type": "code",
   "execution_count": 55,
   "id": "a1bb5a58-0377-4fe9-88b3-35a0b7c2d6c5",
   "metadata": {},
   "outputs": [
    {
     "data": {
      "text/html": [
       "<div>\n",
       "<style scoped>\n",
       "    .dataframe tbody tr th:only-of-type {\n",
       "        vertical-align: middle;\n",
       "    }\n",
       "\n",
       "    .dataframe tbody tr th {\n",
       "        vertical-align: top;\n",
       "    }\n",
       "\n",
       "    .dataframe thead th {\n",
       "        text-align: right;\n",
       "    }\n",
       "</style>\n",
       "<table border=\"1\" class=\"dataframe\">\n",
       "  <thead>\n",
       "    <tr style=\"text-align: right;\">\n",
       "      <th></th>\n",
       "      <th>age</th>\n",
       "      <th>sex</th>\n",
       "      <th>bmi</th>\n",
       "      <th>bp</th>\n",
       "      <th>s1</th>\n",
       "      <th>s2</th>\n",
       "      <th>s3</th>\n",
       "      <th>s4</th>\n",
       "      <th>s5</th>\n",
       "      <th>s6</th>\n",
       "      <th>target</th>\n",
       "    </tr>\n",
       "  </thead>\n",
       "  <tbody>\n",
       "    <tr>\n",
       "      <th>0</th>\n",
       "      <td>0.038076</td>\n",
       "      <td>0.050680</td>\n",
       "      <td>0.061696</td>\n",
       "      <td>0.021872</td>\n",
       "      <td>-0.044223</td>\n",
       "      <td>-0.034821</td>\n",
       "      <td>-0.043401</td>\n",
       "      <td>-0.002592</td>\n",
       "      <td>0.019907</td>\n",
       "      <td>-0.017646</td>\n",
       "      <td>151.0</td>\n",
       "    </tr>\n",
       "    <tr>\n",
       "      <th>1</th>\n",
       "      <td>-0.001882</td>\n",
       "      <td>-0.044642</td>\n",
       "      <td>-0.051474</td>\n",
       "      <td>-0.026328</td>\n",
       "      <td>-0.008449</td>\n",
       "      <td>-0.019163</td>\n",
       "      <td>0.074412</td>\n",
       "      <td>-0.039493</td>\n",
       "      <td>-0.068332</td>\n",
       "      <td>-0.092204</td>\n",
       "      <td>75.0</td>\n",
       "    </tr>\n",
       "    <tr>\n",
       "      <th>2</th>\n",
       "      <td>0.085299</td>\n",
       "      <td>0.050680</td>\n",
       "      <td>0.044451</td>\n",
       "      <td>-0.005670</td>\n",
       "      <td>-0.045599</td>\n",
       "      <td>-0.034194</td>\n",
       "      <td>-0.032356</td>\n",
       "      <td>-0.002592</td>\n",
       "      <td>0.002861</td>\n",
       "      <td>-0.025930</td>\n",
       "      <td>141.0</td>\n",
       "    </tr>\n",
       "    <tr>\n",
       "      <th>3</th>\n",
       "      <td>-0.089063</td>\n",
       "      <td>-0.044642</td>\n",
       "      <td>-0.011595</td>\n",
       "      <td>-0.036656</td>\n",
       "      <td>0.012191</td>\n",
       "      <td>0.024991</td>\n",
       "      <td>-0.036038</td>\n",
       "      <td>0.034309</td>\n",
       "      <td>0.022688</td>\n",
       "      <td>-0.009362</td>\n",
       "      <td>206.0</td>\n",
       "    </tr>\n",
       "    <tr>\n",
       "      <th>4</th>\n",
       "      <td>0.005383</td>\n",
       "      <td>-0.044642</td>\n",
       "      <td>-0.036385</td>\n",
       "      <td>0.021872</td>\n",
       "      <td>0.003935</td>\n",
       "      <td>0.015596</td>\n",
       "      <td>0.008142</td>\n",
       "      <td>-0.002592</td>\n",
       "      <td>-0.031988</td>\n",
       "      <td>-0.046641</td>\n",
       "      <td>135.0</td>\n",
       "    </tr>\n",
       "    <tr>\n",
       "      <th>...</th>\n",
       "      <td>...</td>\n",
       "      <td>...</td>\n",
       "      <td>...</td>\n",
       "      <td>...</td>\n",
       "      <td>...</td>\n",
       "      <td>...</td>\n",
       "      <td>...</td>\n",
       "      <td>...</td>\n",
       "      <td>...</td>\n",
       "      <td>...</td>\n",
       "      <td>...</td>\n",
       "    </tr>\n",
       "    <tr>\n",
       "      <th>437</th>\n",
       "      <td>0.041708</td>\n",
       "      <td>0.050680</td>\n",
       "      <td>0.019662</td>\n",
       "      <td>0.059744</td>\n",
       "      <td>-0.005697</td>\n",
       "      <td>-0.002566</td>\n",
       "      <td>-0.028674</td>\n",
       "      <td>-0.002592</td>\n",
       "      <td>0.031193</td>\n",
       "      <td>0.007207</td>\n",
       "      <td>178.0</td>\n",
       "    </tr>\n",
       "    <tr>\n",
       "      <th>438</th>\n",
       "      <td>-0.005515</td>\n",
       "      <td>0.050680</td>\n",
       "      <td>-0.015906</td>\n",
       "      <td>-0.067642</td>\n",
       "      <td>0.049341</td>\n",
       "      <td>0.079165</td>\n",
       "      <td>-0.028674</td>\n",
       "      <td>0.034309</td>\n",
       "      <td>-0.018114</td>\n",
       "      <td>0.044485</td>\n",
       "      <td>104.0</td>\n",
       "    </tr>\n",
       "    <tr>\n",
       "      <th>439</th>\n",
       "      <td>0.041708</td>\n",
       "      <td>0.050680</td>\n",
       "      <td>-0.015906</td>\n",
       "      <td>0.017293</td>\n",
       "      <td>-0.037344</td>\n",
       "      <td>-0.013840</td>\n",
       "      <td>-0.024993</td>\n",
       "      <td>-0.011080</td>\n",
       "      <td>-0.046883</td>\n",
       "      <td>0.015491</td>\n",
       "      <td>132.0</td>\n",
       "    </tr>\n",
       "    <tr>\n",
       "      <th>440</th>\n",
       "      <td>-0.045472</td>\n",
       "      <td>-0.044642</td>\n",
       "      <td>0.039062</td>\n",
       "      <td>0.001215</td>\n",
       "      <td>0.016318</td>\n",
       "      <td>0.015283</td>\n",
       "      <td>-0.028674</td>\n",
       "      <td>0.026560</td>\n",
       "      <td>0.044529</td>\n",
       "      <td>-0.025930</td>\n",
       "      <td>220.0</td>\n",
       "    </tr>\n",
       "    <tr>\n",
       "      <th>441</th>\n",
       "      <td>-0.045472</td>\n",
       "      <td>-0.044642</td>\n",
       "      <td>-0.073030</td>\n",
       "      <td>-0.081413</td>\n",
       "      <td>0.083740</td>\n",
       "      <td>0.027809</td>\n",
       "      <td>0.173816</td>\n",
       "      <td>-0.039493</td>\n",
       "      <td>-0.004222</td>\n",
       "      <td>0.003064</td>\n",
       "      <td>57.0</td>\n",
       "    </tr>\n",
       "  </tbody>\n",
       "</table>\n",
       "<p>442 rows × 11 columns</p>\n",
       "</div>"
      ],
      "text/plain": [
       "          age       sex       bmi        bp        s1        s2        s3  \\\n",
       "0    0.038076  0.050680  0.061696  0.021872 -0.044223 -0.034821 -0.043401   \n",
       "1   -0.001882 -0.044642 -0.051474 -0.026328 -0.008449 -0.019163  0.074412   \n",
       "2    0.085299  0.050680  0.044451 -0.005670 -0.045599 -0.034194 -0.032356   \n",
       "3   -0.089063 -0.044642 -0.011595 -0.036656  0.012191  0.024991 -0.036038   \n",
       "4    0.005383 -0.044642 -0.036385  0.021872  0.003935  0.015596  0.008142   \n",
       "..        ...       ...       ...       ...       ...       ...       ...   \n",
       "437  0.041708  0.050680  0.019662  0.059744 -0.005697 -0.002566 -0.028674   \n",
       "438 -0.005515  0.050680 -0.015906 -0.067642  0.049341  0.079165 -0.028674   \n",
       "439  0.041708  0.050680 -0.015906  0.017293 -0.037344 -0.013840 -0.024993   \n",
       "440 -0.045472 -0.044642  0.039062  0.001215  0.016318  0.015283 -0.028674   \n",
       "441 -0.045472 -0.044642 -0.073030 -0.081413  0.083740  0.027809  0.173816   \n",
       "\n",
       "           s4        s5        s6  target  \n",
       "0   -0.002592  0.019907 -0.017646   151.0  \n",
       "1   -0.039493 -0.068332 -0.092204    75.0  \n",
       "2   -0.002592  0.002861 -0.025930   141.0  \n",
       "3    0.034309  0.022688 -0.009362   206.0  \n",
       "4   -0.002592 -0.031988 -0.046641   135.0  \n",
       "..        ...       ...       ...     ...  \n",
       "437 -0.002592  0.031193  0.007207   178.0  \n",
       "438  0.034309 -0.018114  0.044485   104.0  \n",
       "439 -0.011080 -0.046883  0.015491   132.0  \n",
       "440  0.026560  0.044529 -0.025930   220.0  \n",
       "441 -0.039493 -0.004222  0.003064    57.0  \n",
       "\n",
       "[442 rows x 11 columns]"
      ]
     },
     "execution_count": 55,
     "metadata": {},
     "output_type": "execute_result"
    }
   ],
   "source": [
    "# Create a dataframe\n",
    "df = pd.DataFrame(diabetes.data, columns=diabetes.feature_names)\n",
    "df['target'] = diabetes.target\n",
    "df"
   ]
  },
  {
   "cell_type": "code",
   "execution_count": 66,
   "id": "f67eb5bc-88cb-4c4f-9d2c-2d809e751bef",
   "metadata": {},
   "outputs": [
    {
     "data": {
      "text/plain": [
       "array([[ 1.        ,  0.03807591,  0.05068012, ..., -0.00259226,\n",
       "         0.01990749, -0.01764613],\n",
       "       [ 1.        , -0.00188202, -0.04464164, ..., -0.03949338,\n",
       "        -0.06833155, -0.09220405],\n",
       "       [ 1.        ,  0.08529891,  0.05068012, ..., -0.00259226,\n",
       "         0.00286131, -0.02593034],\n",
       "       ...,\n",
       "       [ 1.        ,  0.04170844,  0.05068012, ..., -0.01107952,\n",
       "        -0.04688253,  0.01549073],\n",
       "       [ 1.        , -0.04547248, -0.04464164, ...,  0.02655962,\n",
       "         0.04452873, -0.02593034],\n",
       "       [ 1.        , -0.04547248, -0.04464164, ..., -0.03949338,\n",
       "        -0.00422151,  0.00306441]])"
      ]
     },
     "execution_count": 66,
     "metadata": {},
     "output_type": "execute_result"
    }
   ],
   "source": [
    "X = diabetes.data\n",
    "X = np.hstack((np.ones((X.shape[0],1)),X))\n",
    "y = diabetes.target\n",
    "X"
   ]
  },
  {
   "cell_type": "code",
   "execution_count": 61,
   "id": "974a7971-b61b-491a-a987-a7a9388665fd",
   "metadata": {},
   "outputs": [
    {
     "data": {
      "text/plain": [
       "(442,)"
      ]
     },
     "execution_count": 61,
     "metadata": {},
     "output_type": "execute_result"
    }
   ],
   "source": [
    "y.shape"
   ]
  },
  {
   "cell_type": "code",
   "execution_count": 72,
   "id": "4884cb30-1928-4bd6-bf16-a41ccefb69c6",
   "metadata": {},
   "outputs": [],
   "source": [
    "def objective(c):\n",
    "    c = c.reshape(11, 1)\n",
    "    return np.sum((y - X @ c)**2)"
   ]
  },
  {
   "cell_type": "code",
   "execution_count": 73,
   "id": "f8678be4-cc7e-40a0-a81b-2e61611b0e1f",
   "metadata": {},
   "outputs": [],
   "source": [
    "result = optimize.minimize(objective, [0] * 11)"
   ]
  },
  {
   "cell_type": "code",
   "execution_count": 74,
   "id": "da31e848-fd39-4839-9167-2ddcc6a281e5",
   "metadata": {},
   "outputs": [
    {
     "data": {
      "text/plain": [
       "  message: Desired error not necessarily achieved due to precision loss.\n",
       "  success: False\n",
       "   status: 2\n",
       "      fun: 1158486033.4556816\n",
       "        x: [ 1.521e+02  6.625e-03  1.676e-02  2.016e-02 -1.479e-02\n",
       "            -5.788e-02  2.531e-02  7.140e-02  5.250e-02  1.907e-02\n",
       "            -8.674e-03]\n",
       "      nit: 28\n",
       "      jac: [ 1.600e+01  1.600e+01  1.600e+01  3.200e+01  0.000e+00\n",
       "             3.200e+01  1.600e+01  0.000e+00  1.600e+01  1.600e+01\n",
       "             0.000e+00]\n",
       " hess_inv: [[ 2.566e-06 -9.292e-07 ...  5.169e-07 -8.166e-08]\n",
       "            [-9.292e-07  8.503e-04 ... -3.841e-04 -8.674e-04]\n",
       "            ...\n",
       "            [ 5.169e-07 -3.841e-04 ...  9.414e-04  1.377e-04]\n",
       "            [-8.166e-08 -8.674e-04 ...  1.377e-04  1.150e-03]]\n",
       "     nfev: 624\n",
       "     njev: 52"
      ]
     },
     "execution_count": 74,
     "metadata": {},
     "output_type": "execute_result"
    }
   ],
   "source": [
    "result"
   ]
  },
  {
   "cell_type": "markdown",
   "id": "374d5190-d81f-4bd6-9e13-3854d0b7104d",
   "metadata": {},
   "source": [
    "- - Use ´from sklearn.datasets import load_breast_cancer´ to do a linear regression for the data of factors that may lead to diabetes."
   ]
  },
  {
   "cell_type": "code",
   "execution_count": null,
   "id": "e645467c-bbeb-412a-9bb8-767e9e6cde4d",
   "metadata": {},
   "outputs": [],
   "source": [
    "from sklearn.datasets import load_breast_cancer"
   ]
  },
  {
   "cell_type": "code",
   "execution_count": null,
   "id": "bca07626-989d-45ee-8920-a3220c10c65b",
   "metadata": {},
   "outputs": [],
   "source": [
    "data = load_breast_cancer()\n",
    "data"
   ]
  },
  {
   "cell_type": "markdown",
   "id": "160ae0af-0fc5-461a-808f-b79351b6f68a",
   "metadata": {},
   "source": [
    "### Global Optimization Methods\n",
    "These methods attempt to find the global minimum of a function, which may have multiple local minima. Common methods include:\n",
    "\n",
    "- `scipy.optimize.basinhopping`: Basin-hopping algorithm\n",
    "\n",
    "  Basin-hopping is a stochastic algorithm that attempts to find the global minimum of a smooth scalar function. It works by iteratively performing a local optimization, followed by a random perturbation of the solution. This allows the algorithm to potentially escape local minima and explore different regions of the parameter space.\n",
    "- `scipy.optimize.differential_evolution`: Differential Evolution algorithm\n",
    "\n",
    "    Differential Evolution is a stochastic population-based method. It works by maintaining a population of candidate solutions and creating new candidate solutions by combining existing ones. It's particularly effective for problems with a continuous parameter space and doesn't require the gradient of the objective function.\n",
    "  \n",
    "- `scipy.optimize.shgo`: Simplicial Homology Global Optimization\n",
    "\n",
    "    SHGO is a global optimization algorithm that uses simplicial homology and local minimizations. It's designed to handle complex, multi-modal objective functions. SHGO works by sampling points in the parameter space, building a simplicial complex, and then performing local optimizations from promising points.\n",
    "  \n",
    "- `scipy.optimize.dual_annealing`: Dual Annealing optimization\n",
    "\n",
    "  Dual Annealing combines the probabilistic jump of Simulated Annealing with a local search. It's inspired by the physical process of annealing in metallurgy. The algorithm allows for both exploring the parameter space (at high \"temperatures\") and refining the solution (at low \"temperatures\"). It's effective for problems with a large number of local minima."
   ]
  },
  {
   "cell_type": "code",
   "execution_count": null,
   "id": "41853c38-3048-4cce-ab0c-ca8d0aeb532b",
   "metadata": {},
   "outputs": [],
   "source": [
    "def objective(x):\n",
    "    return np.sin(x[0]) * np.cos(x[1])\n",
    "\n",
    "result = optimize.differential_evolution(objective, bounds=[(-10, 10), (-10, 10)])\n",
    "print(result.x, result.fun)"
   ]
  },
  {
   "cell_type": "markdown",
   "id": "d79b940e-5667-48d4-846c-9c86c608d3ef",
   "metadata": {},
   "source": [
    "### Sparse Matrices"
   ]
  },
  {
   "cell_type": "code",
   "execution_count": null,
   "id": "b5e2115a-62c0-490e-875a-d2521148e972",
   "metadata": {},
   "outputs": [],
   "source": [
    "from scipy import sparse"
   ]
  },
  {
   "cell_type": "code",
   "execution_count": null,
   "id": "549f7031-86ab-462a-aff6-29d1031c0f1b",
   "metadata": {},
   "outputs": [],
   "source": [
    "help(sparse.diags)"
   ]
  },
  {
   "cell_type": "code",
   "execution_count": null,
   "id": "6df18b02-ac35-4290-8799-350de32942a2",
   "metadata": {},
   "outputs": [],
   "source": [
    "A = sparse.diags([1, -2, 1], [-1, 0, 1], shape=(1000, 1000))\n",
    "b = np.ones(1000)"
   ]
  },
  {
   "cell_type": "code",
   "execution_count": null,
   "id": "a5cd73d3-0683-4639-9bb5-1394ad10250a",
   "metadata": {},
   "outputs": [],
   "source": [
    "# Solve the system Ax = b\n",
    "x = sparse.linalg.spsolve(A, b)\n",
    "x"
   ]
  },
  {
   "cell_type": "code",
   "execution_count": null,
   "id": "707cfb3a-7dfb-44de-bc96-463b58269688",
   "metadata": {},
   "outputs": [],
   "source": [
    "help(sparse.dok_matrix)"
   ]
  },
  {
   "cell_type": "code",
   "execution_count": null,
   "id": "eb998edc-2f66-41c1-b1d7-d0531dfceca2",
   "metadata": {},
   "outputs": [],
   "source": [
    "A @ x"
   ]
  },
  {
   "cell_type": "markdown",
   "id": "9b816d79-7d53-48f3-8b34-888ea1e2cf89",
   "metadata": {},
   "source": [
    "### Spatial Data Analysis with `scipy.spatial`\n",
    "#### Distance Computation"
   ]
  },
  {
   "cell_type": "code",
   "execution_count": null,
   "id": "437ab593-7e46-4547-90ea-1830dd22b560",
   "metadata": {},
   "outputs": [],
   "source": [
    "from scipy.spatial import distance\n",
    "\n",
    "# Define two points in 2D space\n",
    "point1 = [1, 2]\n",
    "point2 = [4, 6]\n",
    "\n",
    "# Compute Euclidean distance\n",
    "euclidean_dist = distance.euclidean(point1, point2)\n",
    "print(\"Euclidean Distance:\", euclidean_dist)\n",
    "\n",
    "# Compute Manhattan distance\n",
    "manhattan_dist = distance.cityblock(point1, point2)\n",
    "print(\"Manhattan Distance:\", manhattan_dist)"
   ]
  },
  {
   "cell_type": "markdown",
   "id": "40f9a206-2988-4b63-8f15-00f8a2303223",
   "metadata": {},
   "source": [
    "#### Pairwise distances\n",
    "We can compute the pairwise distances between points in a dataset, which is useful for clustering or nearest-neighbor searches."
   ]
  },
  {
   "cell_type": "code",
   "execution_count": null,
   "id": "b1ee5a99-03af-4217-a6e4-c990cfe8c502",
   "metadata": {},
   "outputs": [],
   "source": [
    "# Define a set of points\n",
    "points = np.array([[1, 2], [3, 4], [5, 6]])\n",
    "\n",
    "# Compute the pairwise distances (Euclidean)\n",
    "pairwise_distances = distance.pdist(points, metric='euclidean')\n",
    "print(\"Pairwise distances:\", pairwise_distances)"
   ]
  },
  {
   "cell_type": "markdown",
   "id": "68ec42b2-1793-46ae-8327-9d8065cadd1b",
   "metadata": {},
   "source": [
    "#### KD-Trees\n",
    "A KD-tree (k-dimensional tree) is a data structure that partitions points into space for efficient querying, especially for nearest-neighbor searches. It's highly efficient when dealing with large datasets in higher-dimensional spaces."
   ]
  },
  {
   "cell_type": "code",
   "execution_count": null,
   "id": "e900be3d-0398-4e4f-afb0-3e4680f0559a",
   "metadata": {},
   "outputs": [],
   "source": [
    "from scipy.spatial import KDTree\n",
    "\n",
    "# Define a set of points in 2D space\n",
    "points = np.array([[1, 2], [3, 5], [4, 6], [7, 8]])\n",
    "\n",
    "# Construct the KDTree\n",
    "tree = KDTree(points)\n",
    "\n",
    "# Query the nearest neighbor to the point (5, 5)\n",
    "dist, idx = tree.query([5, 5])\n",
    "print(f\"Nearest neighbor to (5,5): {points[idx]}, Distance: {dist}\")"
   ]
  },
  {
   "cell_type": "markdown",
   "id": "c71786ae-a9cc-459e-866e-f145ec453fe7",
   "metadata": {},
   "source": [
    "We can query the KD-tree for the nearest neighbor, all points within a certain radius, or k-nearest neighbors."
   ]
  },
  {
   "cell_type": "code",
   "execution_count": null,
   "id": "71dfc758-f3ea-4338-8c10-ab0c9b731a18",
   "metadata": {},
   "outputs": [],
   "source": [
    "# Query the two nearest neighbors to the point (5, 5)\n",
    "distances, indices = tree.query([5, 5], k=2)\n",
    "print(f\"2 nearest neighbors: {points[indices]}, Distances: {distances}\")\n",
    "\n",
    "# Query all points within a radius of 3 units from (5, 5)\n",
    "indices = tree.query_ball_point([5, 5], r=3)\n",
    "print(f\"Points within radius 3: {points[indices]}\")"
   ]
  },
  {
   "cell_type": "markdown",
   "id": "90927398-e499-41e5-a3af-ac8d1ab80b0b",
   "metadata": {},
   "source": [
    "#### Convex Hull\n",
    "A convex hull is the smallest convex shape that encloses a set of points. This is useful in computer graphics, collision detection, and clustering."
   ]
  },
  {
   "cell_type": "code",
   "execution_count": null,
   "id": "2d362b06-1db6-47d2-9394-6f1c49a87bc1",
   "metadata": {},
   "outputs": [],
   "source": [
    "from scipy.spatial import ConvexHull\n",
    "import matplotlib.pyplot as plt\n",
    "\n",
    "# Define a set of 2D points\n",
    "points = np.array([[1, 1], [2, 5], [3, 3], [5, 3], [4, 6], [7, 2]])\n",
    "\n",
    "# Compute the convex hull\n",
    "hull = ConvexHull(points)\n",
    "\n",
    "# Plotting the convex hull\n",
    "plt.plot(points[:,0], points[:,1], 'o')\n",
    "for simplex in hull.simplices:\n",
    "    plt.plot(points[simplex, 0], points[simplex, 1], 'k-')\n",
    "plt.show()"
   ]
  },
  {
   "cell_type": "markdown",
   "id": "82e72d09-ad68-4a63-8038-d3205ea51271",
   "metadata": {},
   "source": [
    "- Find the area and perimeter of the previous convex hull."
   ]
  },
  {
   "cell_type": "markdown",
   "id": "2bb607a2-f62a-4080-b9b9-28223e8d9ac6",
   "metadata": {},
   "source": [
    "#### Voronoi Diagrams\n",
    "A Voronoi diagram partitions a space into regions based on the distance to a specific set of points. Each region contains all the points closer to one input point than to any other."
   ]
  },
  {
   "cell_type": "code",
   "execution_count": null,
   "id": "6a11ea5c-3b46-42b5-bb25-6ecae98237e1",
   "metadata": {},
   "outputs": [],
   "source": [
    "from scipy.spatial import Voronoi, voronoi_plot_2d\n",
    "\n",
    "# Define a set of 2D points\n",
    "points = np.array([[1, 1], [2, 4], [3, 3], [5, 1], [5, 4]])\n",
    "\n",
    "# Compute the Voronoi diagram\n",
    "vor = Voronoi(points)\n",
    "\n",
    "# Plot the Voronoi diagram\n",
    "voronoi_plot_2d(vor)\n",
    "plt.show()"
   ]
  },
  {
   "cell_type": "code",
   "execution_count": null,
   "id": "13359879-e7fc-4d22-b9ad-d8e614fcb1fc",
   "metadata": {},
   "outputs": [],
   "source": [
    "vor.ridge_points"
   ]
  },
  {
   "cell_type": "markdown",
   "id": "a0aa7945-ba12-4ad1-ad26-f6063e0fc0f4",
   "metadata": {},
   "source": [
    "## Constants"
   ]
  },
  {
   "cell_type": "code",
   "execution_count": null,
   "id": "93a592d6-4ffd-429b-88ab-edc2dd30b1e0",
   "metadata": {},
   "outputs": [],
   "source": [
    "from scipy import constants"
   ]
  },
  {
   "cell_type": "code",
   "execution_count": null,
   "id": "a4a9f475-8643-4ae2-8c82-1aa0c244311e",
   "metadata": {},
   "outputs": [],
   "source": [
    "constants.G"
   ]
  },
  {
   "cell_type": "markdown",
   "id": "f5073048-9b1f-4ec8-a0ab-e00c1e8bcf70",
   "metadata": {},
   "source": [
    "## Statistics\n",
    "### Descriptive Statistics"
   ]
  },
  {
   "cell_type": "code",
   "execution_count": null,
   "id": "b6d71ba8-e4f4-47aa-a1de-570766dd72b7",
   "metadata": {},
   "outputs": [],
   "source": [
    "from scipy import stats\n",
    "import numpy as np\n",
    "\n",
    "data = np.random.randn(1000)\n",
    "\n",
    "# Calculate mean, variance, skewness, and kurtosis\n",
    "mean = np.mean(data)\n",
    "variance = np.var(data)\n",
    "skewness = stats.skew(data)\n",
    "kurt = stats.kurtosis(data)\n",
    "\n",
    "print(f\"Mean: {mean}, Variance: {variance}, Skewness: {skewness}, Kurtosis: {kurt}\")"
   ]
  },
  {
   "cell_type": "markdown",
   "id": "cc912ca0-f1f0-4bb5-8f93-b06897b41f26",
   "metadata": {},
   "source": [
    "#### Chi-Square Tests\n",
    "\n",
    "The chi-square test is used to test for independence between two categorical variables or for goodness-of-fit between observed and expected frequencies.\n",
    "\n",
    "- `chi2_contingency`: Used for testing independence in a contingency table.\n",
    "- `chisquare`: Used for a goodness-of-fit test."
   ]
  },
  {
   "cell_type": "code",
   "execution_count": null,
   "id": "d4f9b9e0-4b92-41d0-a113-d3c0cdc001c3",
   "metadata": {},
   "outputs": [],
   "source": [
    "from scipy.stats import chi2_contingency\n",
    "\n",
    "# Contingency table: rows represent one categorical variable, columns represent another\n",
    "contingency_table = np.array([[10, 20, 30], [6, 9, 17]])\n",
    "\n",
    "# Perform chi-square test\n",
    "chi2_stat, p_value, dof, expected = chi2_contingency(contingency_table)\n",
    "\n",
    "print(f\"Chi-square statistic: {chi2_stat}, p-value: {p_value}\")\n"
   ]
  },
  {
   "cell_type": "markdown",
   "id": "f7376a76-efe3-408d-9d36-5cd254bc90a7",
   "metadata": {},
   "source": [
    "### Kolmogorov-Smirnov Test\n",
    "The Kolmogorov-Smirnov (KS) test compares a sample with a reference probability distribution or compares two samples to test whether they come from the same distribution."
   ]
  },
  {
   "cell_type": "code",
   "execution_count": null,
   "id": "2fa35263-89f6-4ba3-a3fe-fe0ecc6b1259",
   "metadata": {},
   "outputs": [],
   "source": [
    "from scipy.stats import kstest\n",
    "\n",
    "# Generate random data from a normal distribution\n",
    "data = np.random.randn(10)\n",
    "\n",
    "# Perform KS test against a standard normal distribution\n",
    "ks_stat, p_value = kstest(data, 'norm')\n",
    "\n",
    "print(f\"KS statistic: {ks_stat}, p-value: {p_value}\")"
   ]
  },
  {
   "cell_type": "markdown",
   "id": "ece94598-b73d-4579-8d3e-4b0d38c52abc",
   "metadata": {},
   "source": [
    "### Statistical Modeling"
   ]
  },
  {
   "cell_type": "code",
   "execution_count": null,
   "id": "7a31b5ce-ae24-4b79-a6a0-8b159bf89c06",
   "metadata": {},
   "outputs": [],
   "source": [
    "from scipy.stats import linregress\n",
    "\n",
    "# Generate random data with a linear trend\n",
    "x = np.random.rand(100)\n",
    "y = 2 * x + np.random.randn(100) * 0.1\n",
    "\n",
    "# Perform linear regression\n",
    "slope, intercept, r_value, p_value, std_err = linregress(x, y)\n",
    "\n",
    "print(f\"Slope: {slope}, Intercept: {intercept}\")"
   ]
  }
 ],
 "metadata": {
  "kernelspec": {
   "display_name": "Python 3 (ipykernel)",
   "language": "python",
   "name": "python3"
  },
  "language_info": {
   "codemirror_mode": {
    "name": "ipython",
    "version": 3
   },
   "file_extension": ".py",
   "mimetype": "text/x-python",
   "name": "python",
   "nbconvert_exporter": "python",
   "pygments_lexer": "ipython3",
   "version": "3.12.6"
  }
 },
 "nbformat": 4,
 "nbformat_minor": 5
}
