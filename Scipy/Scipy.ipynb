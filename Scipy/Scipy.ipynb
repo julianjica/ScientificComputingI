{
 "cells": [
  {
   "cell_type": "markdown",
   "id": "f2f10db9-15eb-4ac0-9ad3-f360a5801cc6",
   "metadata": {},
   "source": [
    "# Scipy\n",
    "Scientific Python. Usually used to optimize, numerically integrate and differentiate complex function. It also has a big database of physical constants."
   ]
  },
  {
   "cell_type": "markdown",
   "id": "7362e366-7369-4cf6-b363-110a749d8aa3",
   "metadata": {},
   "source": [
    "### Integration\n",
    "Let us integrate $$\\int_0^{\\pi/8}\\sqrt{\\tan(x)}dx$$"
   ]
  },
  {
   "cell_type": "code",
   "execution_count": null,
   "id": "557550a1-b1e2-4358-b5f2-52d3ef4c1375",
   "metadata": {},
   "outputs": [],
   "source": [
    "from scipy import integrate\n",
    "from numpy import tan, pi, e "
   ]
  },
  {
   "cell_type": "code",
   "execution_count": null,
   "id": "adc252d8-0b07-4c01-af4f-4f9016e5c3a6",
   "metadata": {},
   "outputs": [],
   "source": [
    "def tanRoot(x):\n",
    "    return tan(x)**.5"
   ]
  },
  {
   "cell_type": "code",
   "execution_count": null,
   "id": "371d6b8b-0ed1-4986-858e-1ecc4903363c",
   "metadata": {},
   "outputs": [],
   "source": [
    "result =integrate.quad(tanRoot, 0, pi/8.)\n",
    "result"
   ]
  },
  {
   "cell_type": "code",
   "execution_count": null,
   "id": "779a73b0-bd89-4b61-a294-b3fc87be25e1",
   "metadata": {},
   "outputs": [],
   "source": [
    "result = integrate.dblquad(lambda x, y: x**2 + y ** 2, \n",
    "                             0, 2, 0, 2)\n",
    "result"
   ]
  },
  {
   "cell_type": "code",
   "execution_count": null,
   "id": "99583ec1-9188-430c-8abd-b7aafc36d018",
   "metadata": {},
   "outputs": [],
   "source": [
    "from numpy import inf"
   ]
  },
  {
   "cell_type": "markdown",
   "id": "82181b41-42cd-4e11-be72-b936be425f28",
   "metadata": {},
   "source": [
    "$$\\Gamma(x)=\\int_0^{\\infty} t^{x-1}e^{-t}dt, x>0$$"
   ]
  },
  {
   "cell_type": "code",
   "execution_count": null,
   "id": "ce91ff40-7a90-414c-b902-d862846e74ba",
   "metadata": {},
   "outputs": [],
   "source": [
    "def gamma(x,t):\n",
    "    return t**(x-1)*e**(-t)"
   ]
  },
  {
   "cell_type": "code",
   "execution_count": null,
   "id": "8e968b74-0645-484c-9273-b628f015dca9",
   "metadata": {},
   "outputs": [],
   "source": [
    "for x in range(1,11):\n",
    "    result, error=integrate.quad(lambda t: gamma(x, t), 0, inf) #lambda empieza a ser útil\n",
    "    print(\"%s +- %s\"%(result, error))"
   ]
  },
  {
   "cell_type": "markdown",
   "id": "92c25f86-3d0a-4627-ac2c-f5829e5b47a3",
   "metadata": {},
   "source": [
    "#### Exercise\n",
    "- Use an integral to approximate $\\pi$.\n",
    "- Use an integral to approximate $e$."
   ]
  },
  {
   "cell_type": "code",
   "execution_count": null,
   "id": "dcf52142-ee32-4e9c-9c71-fc0578fc96b7",
   "metadata": {},
   "outputs": [],
   "source": [
    "import matplotlib.pyplot as plt\n",
    "import numpy as np"
   ]
  },
  {
   "cell_type": "code",
   "execution_count": null,
   "id": "75ae5fca-5612-44fb-9852-971c701a3cda",
   "metadata": {},
   "outputs": [],
   "source": [
    "x=np.linspace(1,10)\n",
    "result = integrate.quad(lambda t: gamma(x, t), 0, inf)\n",
    "result"
   ]
  },
  {
   "cell_type": "code",
   "execution_count": null,
   "id": "2b9556e3-dbaf-4e93-85c7-9f2c887447d8",
   "metadata": {},
   "outputs": [],
   "source": [
    "vectorized_fun = np.vectorize(lambda x: integrate.quad(lambda t: gamma(x, t), 0, inf))"
   ]
  },
  {
   "cell_type": "code",
   "execution_count": null,
   "id": "09386edf-6025-4f78-8799-da57eed04018",
   "metadata": {},
   "outputs": [],
   "source": [
    "result = vectorized_fun(x)\n",
    "result"
   ]
  },
  {
   "cell_type": "code",
   "execution_count": null,
   "id": "edb8bbeb-4f91-4f10-b3d2-ad5cb2a950a4",
   "metadata": {},
   "outputs": [],
   "source": [
    "plt.errorbar(x,result[0], yerr=result[1], marker=\".\")"
   ]
  },
  {
   "cell_type": "markdown",
   "id": "036c87e9-30e2-40e5-9767-e156b3502897",
   "metadata": {},
   "source": [
    "### Findiff\n",
    "Package dedicated to numerical calculation of derivatives using finite differences."
   ]
  },
  {
   "cell_type": "code",
   "execution_count": null,
   "id": "8e7bf104-8e98-48d8-8114-ac0029107376",
   "metadata": {},
   "outputs": [],
   "source": [
    "import findiff"
   ]
  },
  {
   "cell_type": "code",
   "execution_count": null,
   "id": "59ec74bf-894f-409a-abea-9d2428700b3e",
   "metadata": {},
   "outputs": [],
   "source": [
    "import numpy as np\n",
    "x = np.linspace(0, 1, 100)\n",
    "f = np.sin(x)  # as an example\n",
    "dx = 0.1\n",
    "# Define the derivative:\n",
    "d_dx = findiff.FinDiff(0, dx, 1)\n",
    "\n",
    "# Apply it:\n",
    "df_dx = d_dx(f) \n",
    "df_dx"
   ]
  },
  {
   "cell_type": "code",
   "execution_count": null,
   "id": "96bed202-a9f9-4f96-920d-9f30d46795de",
   "metadata": {},
   "outputs": [],
   "source": [
    "d2_dx2 = findiff.FinDiff(0, dx, 2, acc=4)\n",
    "d2f_dx2 = d2_dx2(f)\n",
    "d2f_dx2"
   ]
  },
  {
   "cell_type": "markdown",
   "id": "936e0d14-0965-4406-8db6-b486e31ae90e",
   "metadata": {},
   "source": [
    "### Optimization"
   ]
  },
  {
   "cell_type": "code",
   "execution_count": null,
   "id": "f3435357-c50f-488f-b471-8dd0400f0db2",
   "metadata": {},
   "outputs": [],
   "source": [
    "from scipy import optimize"
   ]
  },
  {
   "cell_type": "code",
   "execution_count": null,
   "id": "35e02b36-8474-43f5-bb9e-12acdf2c5ce3",
   "metadata": {},
   "outputs": [],
   "source": [
    "def objective(x):\n",
    "    return np.sum(x ** 2)"
   ]
  },
  {
   "cell_type": "code",
   "execution_count": null,
   "id": "c59b77a5-42d7-43be-9383-72ca92c0f88d",
   "metadata": {},
   "outputs": [],
   "source": [
    "result = optimize.minimize(objective, (1,1))\n",
    "result"
   ]
  },
  {
   "cell_type": "markdown",
   "id": "942c4e55-ab72-4e1f-adaf-2c191bf4eff8",
   "metadata": {},
   "source": [
    "#### Exercise\n",
    "- Estimate when $x^2= \\sin x$.\n",
    "- Determine the fixed point(s) of the mapping $f(x,y)=(x/2, y/2) + (0.25, 0.25).$"
   ]
  },
  {
   "cell_type": "markdown",
   "id": "2135e979-4cbe-4035-8e6c-7ae6c5869a68",
   "metadata": {},
   "source": [
    "- Use ´from sklearn.datasets import load_diabetes´ to do a linear regression for the data of factors that may lead to diabetes."
   ]
  },
  {
   "cell_type": "code",
   "execution_count": null,
   "id": "5e6f065c-4c2e-4fb4-b4df-c7f8dd591939",
   "metadata": {},
   "outputs": [],
   "source": [
    "from sklearn.datasets import load_diabetes\n",
    "import pandas as pd"
   ]
  },
  {
   "cell_type": "code",
   "execution_count": null,
   "id": "c6a6eb2d-685e-4644-aa18-4323c7d4b263",
   "metadata": {},
   "outputs": [],
   "source": [
    "# Load the diabetes dataset\n",
    "diabetes = load_diabetes()\n",
    "diabetes"
   ]
  },
  {
   "cell_type": "code",
   "execution_count": null,
   "id": "a1bb5a58-0377-4fe9-88b3-35a0b7c2d6c5",
   "metadata": {},
   "outputs": [],
   "source": [
    "# Create a dataframe\n",
    "df = pd.DataFrame(diabetes.data, columns=diabetes.feature_names)\n",
    "df['target'] = diabetes.target\n",
    "df"
   ]
  },
  {
   "cell_type": "markdown",
   "id": "374d5190-d81f-4bd6-9e13-3854d0b7104d",
   "metadata": {},
   "source": [
    "- - Use ´from sklearn.datasets import load_breast_cancer´ to do a linear regression for the data of factors that may lead to diabetes."
   ]
  },
  {
   "cell_type": "code",
   "execution_count": null,
   "id": "e645467c-bbeb-412a-9bb8-767e9e6cde4d",
   "metadata": {},
   "outputs": [],
   "source": [
    "from sklearn.datasets import load_breast_cancer"
   ]
  },
  {
   "cell_type": "code",
   "execution_count": null,
   "id": "bca07626-989d-45ee-8920-a3220c10c65b",
   "metadata": {},
   "outputs": [],
   "source": [
    "data = load_breast_cancer()"
   ]
  }
 ],
 "metadata": {
  "kernelspec": {
   "display_name": "Python 3 (ipykernel)",
   "language": "python",
   "name": "python3"
  },
  "language_info": {
   "codemirror_mode": {
    "name": "ipython",
    "version": 3
   },
   "file_extension": ".py",
   "mimetype": "text/x-python",
   "name": "python",
   "nbconvert_exporter": "python",
   "pygments_lexer": "ipython3",
   "version": "3.12.6"
  }
 },
 "nbformat": 4,
 "nbformat_minor": 5
}
