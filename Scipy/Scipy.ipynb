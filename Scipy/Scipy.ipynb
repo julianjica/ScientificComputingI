{
 "cells": [
  {
   "cell_type": "markdown",
   "id": "f2f10db9-15eb-4ac0-9ad3-f360a5801cc6",
   "metadata": {},
   "source": [
    "# Scipy\n",
    "Scientific Python. Usually used to optimize, numerically integrate and differentiate complex function. It also has a big database of physical constants."
   ]
  },
  {
   "cell_type": "markdown",
   "id": "7362e366-7369-4cf6-b363-110a749d8aa3",
   "metadata": {},
   "source": [
    "### Integration\n",
    "Let us integrate $$\\int_0^{\\pi/8}\\sqrt{\\tan(x)}dx$$"
   ]
  },
  {
   "cell_type": "code",
   "execution_count": null,
   "id": "557550a1-b1e2-4358-b5f2-52d3ef4c1375",
   "metadata": {},
   "outputs": [],
   "source": [
    "from scipy import integrate\n",
    "from numpy import tan, pi, e "
   ]
  },
  {
   "cell_type": "code",
   "execution_count": null,
   "id": "adc252d8-0b07-4c01-af4f-4f9016e5c3a6",
   "metadata": {},
   "outputs": [],
   "source": [
    "def tanRoot(x):\n",
    "    return tan(x)**.5"
   ]
  },
  {
   "cell_type": "code",
   "execution_count": null,
   "id": "371d6b8b-0ed1-4986-858e-1ecc4903363c",
   "metadata": {},
   "outputs": [],
   "source": [
    "result = integrate.quad(tanRoot, 0, pi/8.)\n",
    "result"
   ]
  },
  {
   "cell_type": "code",
   "execution_count": null,
   "id": "902b98e9-1fbc-4800-b4f7-1b2efb83b73b",
   "metadata": {},
   "outputs": [],
   "source": [
    "a = lambda x, y: x + y"
   ]
  },
  {
   "cell_type": "code",
   "execution_count": null,
   "id": "779a73b0-bd89-4b61-a294-b3fc87be25e1",
   "metadata": {},
   "outputs": [],
   "source": [
    "result = integrate.dblquad(lambda x, y: x**2 + y ** 2, \n",
    "                             0, 2, 0, 2)\n",
    "result"
   ]
  },
  {
   "cell_type": "code",
   "execution_count": null,
   "id": "99583ec1-9188-430c-8abd-b7aafc36d018",
   "metadata": {},
   "outputs": [],
   "source": [
    "from numpy import inf"
   ]
  },
  {
   "cell_type": "markdown",
   "id": "82181b41-42cd-4e11-be72-b936be425f28",
   "metadata": {},
   "source": [
    "$$\\Gamma(x)=\\int_0^{\\infty} t^{x-1}e^{-t}dt, x>0$$"
   ]
  },
  {
   "cell_type": "code",
   "execution_count": null,
   "id": "ce91ff40-7a90-414c-b902-d862846e74ba",
   "metadata": {},
   "outputs": [],
   "source": [
    "def gamma(x,t):\n",
    "    return t**(x-1)*e**(-t)"
   ]
  },
  {
   "cell_type": "code",
   "execution_count": null,
   "id": "8e968b74-0645-484c-9273-b628f015dca9",
   "metadata": {},
   "outputs": [],
   "source": [
    "for x in range(1,11):\n",
    "    result, error=integrate.quad(lambda t: gamma(x, t), 0, inf) #lambda empieza a ser útil\n",
    "    print(\"%s +- %s\"%(result, error))"
   ]
  },
  {
   "cell_type": "markdown",
   "id": "92c25f86-3d0a-4627-ac2c-f5829e5b47a3",
   "metadata": {},
   "source": [
    "#### Exercise\n",
    "- Use an integral to approximate $\\pi$.\n",
    "- Use an integral to approximate $e$."
   ]
  },
  {
   "cell_type": "code",
   "execution_count": null,
   "id": "9c12f27f-784e-49dd-9318-4b22e5623654",
   "metadata": {},
   "outputs": [],
   "source": [
    "integrate.quad(lambda x: (1 - x ** 2)**0.5, -1, 1)[0] * 2"
   ]
  },
  {
   "cell_type": "code",
   "execution_count": null,
   "id": "dcf52142-ee32-4e9c-9c71-fc0578fc96b7",
   "metadata": {},
   "outputs": [],
   "source": [
    "import matplotlib.pyplot as plt\n",
    "import numpy as np"
   ]
  },
  {
   "cell_type": "code",
   "execution_count": null,
   "id": "75ae5fca-5612-44fb-9852-971c701a3cda",
   "metadata": {},
   "outputs": [],
   "source": [
    "x=np.linspace(1,10)\n",
    "result = integrate.quad(lambda t: gamma(x, t), 0, inf)\n",
    "result"
   ]
  },
  {
   "cell_type": "code",
   "execution_count": null,
   "id": "2b9556e3-dbaf-4e93-85c7-9f2c887447d8",
   "metadata": {},
   "outputs": [],
   "source": [
    "vectorized_fun = np.vectorize(lambda x: integrate.quad(lambda t: gamma(x, t), 0, inf))\n",
    "vectorized_fun"
   ]
  },
  {
   "cell_type": "code",
   "execution_count": null,
   "id": "09386edf-6025-4f78-8799-da57eed04018",
   "metadata": {},
   "outputs": [],
   "source": [
    "result = vectorized_fun(x)\n",
    "result"
   ]
  },
  {
   "cell_type": "code",
   "execution_count": null,
   "id": "edb8bbeb-4f91-4f10-b3d2-ad5cb2a950a4",
   "metadata": {},
   "outputs": [],
   "source": [
    "plt.errorbar(x, result[0], yerr=result[1], marker=\".\")"
   ]
  },
  {
   "cell_type": "markdown",
   "id": "036c87e9-30e2-40e5-9767-e156b3502897",
   "metadata": {},
   "source": [
    "### Findiff\n",
    "Package dedicated to numerical calculation of derivatives using finite differences."
   ]
  },
  {
   "cell_type": "code",
   "execution_count": null,
   "id": "8e7bf104-8e98-48d8-8114-ac0029107376",
   "metadata": {},
   "outputs": [],
   "source": [
    "import findiff"
   ]
  },
  {
   "cell_type": "code",
   "execution_count": null,
   "id": "59ec74bf-894f-409a-abea-9d2428700b3e",
   "metadata": {},
   "outputs": [],
   "source": [
    "import numpy as np\n",
    "x = np.linspace(0, 1, 100)\n",
    "f = np.sin(x)  # as an example\n",
    "dx = 0.1\n",
    "# Define the derivative:\n",
    "d_dx = findiff.FinDiff(0, dx, 1)\n",
    "\n",
    "# Apply it:\n",
    "df_dx = d_dx(f) \n",
    "df_dx"
   ]
  },
  {
   "cell_type": "code",
   "execution_count": null,
   "id": "96bed202-a9f9-4f96-920d-9f30d46795de",
   "metadata": {},
   "outputs": [],
   "source": [
    "d2_dx2 = findiff.FinDiff(0, dx, 2, acc=4)\n",
    "d2f_dx2 = d2_dx2(f)\n",
    "d2f_dx2"
   ]
  },
  {
   "cell_type": "markdown",
   "id": "05c16c0e-0ee4-4170-9e4b-589bbc59df50",
   "metadata": {},
   "source": [
    "## Integration of differential equations\n",
    "The equation of motion for a simple pendulum (without damping and small angles) is given by: \n",
    "$$\\frac{d^2\\theta}{dt^2} +\\frac{g}{L}\\sin\\theta=0.$$\n",
    "\n",
    "Solve the above equation using `scipy.integrate.solve_ivp`. Assume initial conditions $\\theta(0)=\\pi/6$ and $d\\theta/dt(0)=0.$"
   ]
  },
  {
   "cell_type": "code",
   "execution_count": null,
   "id": "a73d8a7f-5464-4b7e-ba93-42fb5611d74f",
   "metadata": {},
   "outputs": [],
   "source": [
    "import numpy as np\n",
    "from scipy.integrate import solve_ivp\n",
    "import matplotlib.pyplot as plt\n",
    "\n",
    "# Constants\n",
    "g = 9.81  # Gravity\n",
    "L = 2.0   # Length of the pendulum\n",
    "\n",
    "# Define the ODE system\n",
    "def pendulum(t, y):\n",
    "    theta, omega = y\n",
    "    dydt = [omega, -(g/L) * np.sin(theta)]\n",
    "    return dydt\n",
    "\n",
    "# Initial conditions: theta(0) = pi/6, dtheta/dt(0) = 0\n",
    "y0 = [np.pi/6, 0]\n",
    "\n",
    "# Time range\n",
    "t_span = [0, 10]\n",
    "t_eval = np.linspace(0, 10, 100)\n",
    "\n",
    "# Solve ODE\n",
    "sol = solve_ivp(pendulum, t_span, y0, t_eval=t_eval)\n",
    "\n",
    "# Plot the results\n",
    "plt.plot(sol.t, sol.y[0], label='Theta (Angle)')\n",
    "plt.xlabel('Time [s]')\n",
    "plt.ylabel('Angle [rad]')\n",
    "plt.title('Simple Pendulum Motion')\n",
    "plt.legend()\n",
    "plt.show()"
   ]
  },
  {
   "cell_type": "markdown",
   "id": "26b74647-38bf-4d9e-a1ea-483c39311dfc",
   "metadata": {},
   "source": [
    "- The **Lotka-Volterra (Predator-Prey) Model** is a well-known system of nonlinear ODEs:\n",
    "\n",
    "$$\n",
    "\\frac{dx}{dt} = \\alpha x - \\beta xy\n",
    "$$\n",
    "$$\n",
    "\\frac{dy}{dt} = \\delta xy - \\gamma y\n",
    "$$\n",
    "\n",
    "Where:\n",
    "\n",
    "- $x(t)$ is the population of prey,\n",
    "- $y(t)$ is the population of predators,\n",
    "- $\\alpha, \\beta, \\delta, \\gamma$ are constants.\n",
    "\n",
    "Solve the system with the following parameter values:\n",
    "\n",
    "$\n",
    "\\alpha = 1.5, \\, \\beta = 1, \\, \\delta = 0.1, \\, \\gamma = 1\n",
    "$\n",
    "\n",
    "With initial conditions $x(0) = 10$, $y(0) = 5$, over the time interval $t \\in [0, 30]$.\n"
   ]
  },
  {
   "cell_type": "markdown",
   "id": "936e0d14-0965-4406-8db6-b486e31ae90e",
   "metadata": {},
   "source": [
    "### Optimization"
   ]
  },
  {
   "cell_type": "code",
   "execution_count": null,
   "id": "f3435357-c50f-488f-b471-8dd0400f0db2",
   "metadata": {},
   "outputs": [],
   "source": [
    "from scipy import optimize"
   ]
  },
  {
   "cell_type": "code",
   "execution_count": null,
   "id": "35e02b36-8474-43f5-bb9e-12acdf2c5ce3",
   "metadata": {},
   "outputs": [],
   "source": [
    "def objective(x):\n",
    "    return np.sum(x ** 2)"
   ]
  },
  {
   "cell_type": "code",
   "execution_count": null,
   "id": "c59b77a5-42d7-43be-9383-72ca92c0f88d",
   "metadata": {},
   "outputs": [],
   "source": [
    "result = optimize.minimize(objective, (1,1))\n",
    "result"
   ]
  },
  {
   "cell_type": "code",
   "execution_count": null,
   "id": "d97b0824-c862-41e1-936e-00b5077159a9",
   "metadata": {},
   "outputs": [],
   "source": [
    "def objective(x):\n",
    "    return (x[0] - 1)**2 + (x[1] - 2.5)**2\n",
    "\n",
    "def gradient(x):\n",
    "    return np.array([2*(x[0] - 1), 2*(x[1] - 2.5)])\n",
    "\n",
    "result = optimize.minimize(objective, x0=[0, 0], method='BFGS', jac=gradient)\n",
    "print(result.x, result.fun)"
   ]
  },
  {
   "cell_type": "code",
   "execution_count": null,
   "id": "6e500ebe-a7f5-4956-948b-db08acdcfacb",
   "metadata": {},
   "outputs": [],
   "source": [
    "def objective(x):\n",
    "    return (x[0] - 1)**2 + (x[1] - 2.5)**2\n",
    "\n",
    "cons = ({'type': 'ineq', 'fun': lambda x:  x[0] - 2 * x[1] + 2},\n",
    "        {'type': 'ineq', 'fun': lambda x: -x[0] - 2 * x[1] + 6},\n",
    "        {'type': 'ineq', 'fun': lambda x: -x[0] + 2 * x[1] + 2})\n",
    "\n",
    "result = optimize.minimize(objective, x0=[0, 0], method='SLSQP', constraints=cons)\n",
    "print(result.x, result.fun)"
   ]
  },
  {
   "cell_type": "markdown",
   "id": "942c4e55-ab72-4e1f-adaf-2c191bf4eff8",
   "metadata": {},
   "source": [
    "#### Exercise\n",
    "- Estimate when $x^2= \\sin x$.\n",
    "- Determine the fixed point(s) of the mapping $f(x,y)=(x/2, y/2) + (0.25, 0.25).$"
   ]
  },
  {
   "cell_type": "markdown",
   "id": "2135e979-4cbe-4035-8e6c-7ae6c5869a68",
   "metadata": {},
   "source": [
    "- Use ´from sklearn.datasets import load_diabetes´ to do a linear regression for the data of factors that may lead to diabetes."
   ]
  },
  {
   "cell_type": "code",
   "execution_count": null,
   "id": "5e6f065c-4c2e-4fb4-b4df-c7f8dd591939",
   "metadata": {},
   "outputs": [],
   "source": [
    "from sklearn.datasets import load_diabetes\n",
    "import pandas as pd"
   ]
  },
  {
   "cell_type": "code",
   "execution_count": null,
   "id": "c6a6eb2d-685e-4644-aa18-4323c7d4b263",
   "metadata": {},
   "outputs": [],
   "source": [
    "# Load the diabetes dataset\n",
    "diabetes = load_diabetes()\n",
    "diabetes"
   ]
  },
  {
   "cell_type": "code",
   "execution_count": null,
   "id": "a1bb5a58-0377-4fe9-88b3-35a0b7c2d6c5",
   "metadata": {},
   "outputs": [],
   "source": [
    "# Create a dataframe\n",
    "df = pd.DataFrame(diabetes.data, columns=diabetes.feature_names)\n",
    "df['target'] = diabetes.target\n",
    "df"
   ]
  },
  {
   "cell_type": "markdown",
   "id": "374d5190-d81f-4bd6-9e13-3854d0b7104d",
   "metadata": {},
   "source": [
    "- - Use ´from sklearn.datasets import load_breast_cancer´ to do a linear regression for the data of factors that may lead to diabetes."
   ]
  },
  {
   "cell_type": "code",
   "execution_count": null,
   "id": "e645467c-bbeb-412a-9bb8-767e9e6cde4d",
   "metadata": {},
   "outputs": [],
   "source": [
    "from sklearn.datasets import load_breast_cancer"
   ]
  },
  {
   "cell_type": "code",
   "execution_count": null,
   "id": "bca07626-989d-45ee-8920-a3220c10c65b",
   "metadata": {},
   "outputs": [],
   "source": [
    "data = load_breast_cancer()\n",
    "data"
   ]
  },
  {
   "cell_type": "markdown",
   "id": "160ae0af-0fc5-461a-808f-b79351b6f68a",
   "metadata": {},
   "source": [
    "### Global Optimization Methods\n",
    "These methods attempt to find the global minimum of a function, which may have multiple local minima. Common methods include:\n",
    "\n",
    "- `scipy.optimize.basinhopping`: Basin-hopping algorithm\n",
    "\n",
    "  Basin-hopping is a stochastic algorithm that attempts to find the global minimum of a smooth scalar function. It works by iteratively performing a local optimization, followed by a random perturbation of the solution. This allows the algorithm to potentially escape local minima and explore different regions of the parameter space.\n",
    "- `scipy.optimize.differential_evolution`: Differential Evolution algorithm\n",
    "\n",
    "    Differential Evolution is a stochastic population-based method. It works by maintaining a population of candidate solutions and creating new candidate solutions by combining existing ones. It's particularly effective for problems with a continuous parameter space and doesn't require the gradient of the objective function.\n",
    "  \n",
    "- `scipy.optimize.shgo`: Simplicial Homology Global Optimization\n",
    "\n",
    "    SHGO is a global optimization algorithm that uses simplicial homology and local minimizations. It's designed to handle complex, multi-modal objective functions. SHGO works by sampling points in the parameter space, building a simplicial complex, and then performing local optimizations from promising points.\n",
    "  \n",
    "- `scipy.optimize.dual_annealing`: Dual Annealing optimization\n",
    "\n",
    "  Dual Annealing combines the probabilistic jump of Simulated Annealing with a local search. It's inspired by the physical process of annealing in metallurgy. The algorithm allows for both exploring the parameter space (at high \"temperatures\") and refining the solution (at low \"temperatures\"). It's effective for problems with a large number of local minima."
   ]
  },
  {
   "cell_type": "code",
   "execution_count": null,
   "id": "41853c38-3048-4cce-ab0c-ca8d0aeb532b",
   "metadata": {},
   "outputs": [],
   "source": [
    "def objective(x):\n",
    "    return np.sin(x[0]) * np.cos(x[1])\n",
    "\n",
    "result = optimize.differential_evolution(objective, bounds=[(-10, 10), (-10, 10)])\n",
    "print(result.x, result.fun)"
   ]
  },
  {
   "cell_type": "markdown",
   "id": "d79b940e-5667-48d4-846c-9c86c608d3ef",
   "metadata": {},
   "source": [
    "### Sparse Matrices"
   ]
  },
  {
   "cell_type": "code",
   "execution_count": null,
   "id": "b5e2115a-62c0-490e-875a-d2521148e972",
   "metadata": {},
   "outputs": [],
   "source": [
    "from scipy import sparse"
   ]
  },
  {
   "cell_type": "code",
   "execution_count": null,
   "id": "549f7031-86ab-462a-aff6-29d1031c0f1b",
   "metadata": {},
   "outputs": [],
   "source": [
    "help(sparse.diags)"
   ]
  },
  {
   "cell_type": "code",
   "execution_count": null,
   "id": "6df18b02-ac35-4290-8799-350de32942a2",
   "metadata": {},
   "outputs": [],
   "source": [
    "A = sparse.diags([1, -2, 1], [-1, 0, 1], shape=(1000, 1000))\n",
    "b = np.ones(1000)"
   ]
  },
  {
   "cell_type": "code",
   "execution_count": null,
   "id": "a5cd73d3-0683-4639-9bb5-1394ad10250a",
   "metadata": {},
   "outputs": [],
   "source": [
    "# Solve the system Ax = b\n",
    "x = sparse.linalg.spsolve(A, b)\n",
    "x"
   ]
  },
  {
   "cell_type": "code",
   "execution_count": null,
   "id": "707cfb3a-7dfb-44de-bc96-463b58269688",
   "metadata": {},
   "outputs": [],
   "source": [
    "help(sparse.dok_matrix)"
   ]
  },
  {
   "cell_type": "code",
   "execution_count": null,
   "id": "eb998edc-2f66-41c1-b1d7-d0531dfceca2",
   "metadata": {},
   "outputs": [],
   "source": [
    "A @ x"
   ]
  },
  {
   "cell_type": "markdown",
   "id": "9b816d79-7d53-48f3-8b34-888ea1e2cf89",
   "metadata": {},
   "source": [
    "### Spatial Data Analysis with `scipy.spatial`\n",
    "#### Distance Computation"
   ]
  },
  {
   "cell_type": "code",
   "execution_count": null,
   "id": "437ab593-7e46-4547-90ea-1830dd22b560",
   "metadata": {},
   "outputs": [],
   "source": [
    "from scipy.spatial import distance\n",
    "\n",
    "# Define two points in 2D space\n",
    "point1 = [1, 2]\n",
    "point2 = [4, 6]\n",
    "\n",
    "# Compute Euclidean distance\n",
    "euclidean_dist = distance.euclidean(point1, point2)\n",
    "print(\"Euclidean Distance:\", euclidean_dist)\n",
    "\n",
    "# Compute Manhattan distance\n",
    "manhattan_dist = distance.cityblock(point1, point2)\n",
    "print(\"Manhattan Distance:\", manhattan_dist)"
   ]
  },
  {
   "cell_type": "markdown",
   "id": "40f9a206-2988-4b63-8f15-00f8a2303223",
   "metadata": {},
   "source": [
    "#### Pairwise distances\n",
    "We can compute the pairwise distances between points in a dataset, which is useful for clustering or nearest-neighbor searches."
   ]
  },
  {
   "cell_type": "code",
   "execution_count": null,
   "id": "b1ee5a99-03af-4217-a6e4-c990cfe8c502",
   "metadata": {},
   "outputs": [],
   "source": [
    "# Define a set of points\n",
    "points = np.array([[1, 2], [3, 4], [5, 6]])\n",
    "\n",
    "# Compute the pairwise distances (Euclidean)\n",
    "pairwise_distances = distance.pdist(points, metric='euclidean')\n",
    "print(\"Pairwise distances:\", pairwise_distances)"
   ]
  },
  {
   "cell_type": "markdown",
   "id": "68ec42b2-1793-46ae-8327-9d8065cadd1b",
   "metadata": {},
   "source": [
    "#### KD-Trees\n",
    "A KD-tree (k-dimensional tree) is a data structure that partitions points into space for efficient querying, especially for nearest-neighbor searches. It's highly efficient when dealing with large datasets in higher-dimensional spaces."
   ]
  },
  {
   "cell_type": "code",
   "execution_count": null,
   "id": "e900be3d-0398-4e4f-afb0-3e4680f0559a",
   "metadata": {},
   "outputs": [],
   "source": [
    "from scipy.spatial import KDTree\n",
    "\n",
    "# Define a set of points in 2D space\n",
    "points = np.array([[1, 2], [3, 5], [4, 6], [7, 8]])\n",
    "\n",
    "# Construct the KDTree\n",
    "tree = KDTree(points)\n",
    "\n",
    "# Query the nearest neighbor to the point (5, 5)\n",
    "dist, idx = tree.query([5, 5])\n",
    "print(f\"Nearest neighbor to (5,5): {points[idx]}, Distance: {dist}\")"
   ]
  },
  {
   "cell_type": "markdown",
   "id": "c71786ae-a9cc-459e-866e-f145ec453fe7",
   "metadata": {},
   "source": [
    "We can query the KD-tree for the nearest neighbor, all points within a certain radius, or k-nearest neighbors."
   ]
  },
  {
   "cell_type": "code",
   "execution_count": null,
   "id": "71dfc758-f3ea-4338-8c10-ab0c9b731a18",
   "metadata": {},
   "outputs": [],
   "source": [
    "# Query the two nearest neighbors to the point (5, 5)\n",
    "distances, indices = tree.query([5, 5], k=2)\n",
    "print(f\"2 nearest neighbors: {points[indices]}, Distances: {distances}\")\n",
    "\n",
    "# Query all points within a radius of 3 units from (5, 5)\n",
    "indices = tree.query_ball_point([5, 5], r=3)\n",
    "print(f\"Points within radius 3: {points[indices]}\")"
   ]
  },
  {
   "cell_type": "markdown",
   "id": "90927398-e499-41e5-a3af-ac8d1ab80b0b",
   "metadata": {},
   "source": [
    "#### Convex Hull\n",
    "A convex hull is the smallest convex shape that encloses a set of points. This is useful in computer graphics, collision detection, and clustering."
   ]
  },
  {
   "cell_type": "code",
   "execution_count": null,
   "id": "2d362b06-1db6-47d2-9394-6f1c49a87bc1",
   "metadata": {},
   "outputs": [],
   "source": [
    "from scipy.spatial import ConvexHull\n",
    "import matplotlib.pyplot as plt\n",
    "\n",
    "# Define a set of 2D points\n",
    "points = np.array([[1, 1], [2, 5], [3, 3], [5, 3], [4, 6], [7, 2]])\n",
    "\n",
    "# Compute the convex hull\n",
    "hull = ConvexHull(points)\n",
    "\n",
    "# Plotting the convex hull\n",
    "plt.plot(points[:,0], points[:,1], 'o')\n",
    "for simplex in hull.simplices:\n",
    "    plt.plot(points[simplex, 0], points[simplex, 1], 'k-')\n",
    "plt.show()"
   ]
  },
  {
   "cell_type": "markdown",
   "id": "82e72d09-ad68-4a63-8038-d3205ea51271",
   "metadata": {},
   "source": [
    "- Find the area and perimeter of the previous convex hull."
   ]
  },
  {
   "cell_type": "markdown",
   "id": "2bb607a2-f62a-4080-b9b9-28223e8d9ac6",
   "metadata": {},
   "source": [
    "#### Voronoi Diagrams\n",
    "A Voronoi diagram partitions a space into regions based on the distance to a specific set of points. Each region contains all the points closer to one input point than to any other."
   ]
  },
  {
   "cell_type": "code",
   "execution_count": null,
   "id": "6a11ea5c-3b46-42b5-bb25-6ecae98237e1",
   "metadata": {},
   "outputs": [],
   "source": [
    "from scipy.spatial import Voronoi, voronoi_plot_2d\n",
    "\n",
    "# Define a set of 2D points\n",
    "points = np.array([[1, 1], [2, 4], [3, 3], [5, 1], [5, 4]])\n",
    "\n",
    "# Compute the Voronoi diagram\n",
    "vor = Voronoi(points)\n",
    "\n",
    "# Plot the Voronoi diagram\n",
    "voronoi_plot_2d(vor)\n",
    "plt.show()"
   ]
  },
  {
   "cell_type": "code",
   "execution_count": null,
   "id": "13359879-e7fc-4d22-b9ad-d8e614fcb1fc",
   "metadata": {},
   "outputs": [],
   "source": [
    "vor.ridge_points"
   ]
  },
  {
   "cell_type": "markdown",
   "id": "a0aa7945-ba12-4ad1-ad26-f6063e0fc0f4",
   "metadata": {},
   "source": [
    "## Constants"
   ]
  },
  {
   "cell_type": "code",
   "execution_count": null,
   "id": "93a592d6-4ffd-429b-88ab-edc2dd30b1e0",
   "metadata": {},
   "outputs": [],
   "source": [
    "from scipy import constants"
   ]
  },
  {
   "cell_type": "code",
   "execution_count": null,
   "id": "a4a9f475-8643-4ae2-8c82-1aa0c244311e",
   "metadata": {},
   "outputs": [],
   "source": [
    "constants.G"
   ]
  },
  {
   "cell_type": "markdown",
   "id": "f5073048-9b1f-4ec8-a0ab-e00c1e8bcf70",
   "metadata": {},
   "source": [
    "## Statistics\n",
    "### Descriptive Statistics"
   ]
  },
  {
   "cell_type": "code",
   "execution_count": null,
   "id": "b6d71ba8-e4f4-47aa-a1de-570766dd72b7",
   "metadata": {},
   "outputs": [],
   "source": [
    "from scipy import stats\n",
    "import numpy as np\n",
    "\n",
    "data = np.random.randn(1000)\n",
    "\n",
    "# Calculate mean, variance, skewness, and kurtosis\n",
    "mean = np.mean(data)\n",
    "variance = np.var(data)\n",
    "skewness = stats.skew(data)\n",
    "kurt = stats.kurtosis(data)\n",
    "\n",
    "print(f\"Mean: {mean}, Variance: {variance}, Skewness: {skewness}, Kurtosis: {kurt}\")"
   ]
  },
  {
   "cell_type": "markdown",
   "id": "cc912ca0-f1f0-4bb5-8f93-b06897b41f26",
   "metadata": {},
   "source": [
    "#### Chi-Square Tests\n",
    "\n",
    "The chi-square test is used to test for independence between two categorical variables or for goodness-of-fit between observed and expected frequencies.\n",
    "\n",
    "- `chi2_contingency`: Used for testing independence in a contingency table.\n",
    "- `chisquare`: Used for a goodness-of-fit test."
   ]
  },
  {
   "cell_type": "code",
   "execution_count": null,
   "id": "d4f9b9e0-4b92-41d0-a113-d3c0cdc001c3",
   "metadata": {},
   "outputs": [],
   "source": [
    "from scipy.stats import chi2_contingency\n",
    "\n",
    "# Contingency table: rows represent one categorical variable, columns represent another\n",
    "contingency_table = np.array([[10, 20, 30], [6, 9, 17]])\n",
    "\n",
    "# Perform chi-square test\n",
    "chi2_stat, p_value, dof, expected = chi2_contingency(contingency_table)\n",
    "\n",
    "print(f\"Chi-square statistic: {chi2_stat}, p-value: {p_value}\")\n"
   ]
  },
  {
   "cell_type": "markdown",
   "id": "f7376a76-efe3-408d-9d36-5cd254bc90a7",
   "metadata": {},
   "source": [
    "### Kolmogorov-Smirnov Test\n",
    "The Kolmogorov-Smirnov (KS) test compares a sample with a reference probability distribution or compares two samples to test whether they come from the same distribution."
   ]
  },
  {
   "cell_type": "code",
   "execution_count": null,
   "id": "2fa35263-89f6-4ba3-a3fe-fe0ecc6b1259",
   "metadata": {},
   "outputs": [],
   "source": [
    "from scipy.stats import kstest\n",
    "\n",
    "# Generate random data from a normal distribution\n",
    "data = np.random.randn(10)\n",
    "\n",
    "# Perform KS test against a standard normal distribution\n",
    "ks_stat, p_value = kstest(data, 'norm')\n",
    "\n",
    "print(f\"KS statistic: {ks_stat}, p-value: {p_value}\")"
   ]
  },
  {
   "cell_type": "markdown",
   "id": "ece94598-b73d-4579-8d3e-4b0d38c52abc",
   "metadata": {},
   "source": [
    "### Statistical Modeling"
   ]
  },
  {
   "cell_type": "code",
   "execution_count": null,
   "id": "7a31b5ce-ae24-4b79-a6a0-8b159bf89c06",
   "metadata": {},
   "outputs": [],
   "source": [
    "from scipy.stats import linregress\n",
    "\n",
    "# Generate random data with a linear trend\n",
    "x = np.random.rand(100)\n",
    "y = 2 * x + np.random.randn(100) * 0.1\n",
    "\n",
    "# Perform linear regression\n",
    "slope, intercept, r_value, p_value, std_err = linregress(x, y)\n",
    "\n",
    "print(f\"Slope: {slope}, Intercept: {intercept}\")"
   ]
  }
 ],
 "metadata": {
  "kernelspec": {
   "display_name": "Python 3 (ipykernel)",
   "language": "python",
   "name": "python3"
  },
  "language_info": {
   "codemirror_mode": {
    "name": "ipython",
    "version": 3
   },
   "file_extension": ".py",
   "mimetype": "text/x-python",
   "name": "python",
   "nbconvert_exporter": "python",
   "pygments_lexer": "ipython3",
   "version": "3.12.6"
  }
 },
 "nbformat": 4,
 "nbformat_minor": 5
}
