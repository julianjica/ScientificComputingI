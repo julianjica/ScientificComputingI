{
 "cells": [
  {
   "cell_type": "markdown",
   "id": "8b73fea2-473e-40a3-a051-4282fc6a7b5d",
   "metadata": {},
   "source": [
    "### Different Cell Types"
   ]
  },
  {
   "cell_type": "code",
   "execution_count": null,
   "id": "1a06ba89-e419-48ce-8e9d-7218921f1cd9",
   "metadata": {},
   "outputs": [],
   "source": []
  },
  {
   "cell_type": "markdown",
   "id": "23e9c8dc-544b-43f3-affb-4a42ee71e180",
   "metadata": {},
   "source": [
    "### Primitive Data Types"
   ]
  },
  {
   "cell_type": "code",
   "execution_count": null,
   "id": "3dddc9d4-3d41-4212-b119-5721abca734a",
   "metadata": {},
   "outputs": [],
   "source": [
    "a=2\n",
    "b=3.\n",
    "c=\"Hola\"\n",
    "d=False\n",
    "print(type(a),type(b),type(c),type(d))"
   ]
  },
  {
   "cell_type": "markdown",
   "id": "ec6eb3b7-b5aa-443b-9d6d-dfbecd84dd0c",
   "metadata": {},
   "source": [
    "### Elemental Operations"
   ]
  },
  {
   "cell_type": "code",
   "execution_count": null,
   "id": "68483032-8e86-4e49-b7df-62623befc980",
   "metadata": {},
   "outputs": [],
   "source": [
    "print(a+b)\n",
    "print(a/b)\n",
    "print(a/3)\n",
    "print(a**3)\n",
    "print(a%b)\n",
    "print(c+\" Mundo\")\n",
    "print(c*3)\n",
    "print(not(d))"
   ]
  },
  {
   "cell_type": "markdown",
   "id": "639a4b9c-f248-4497-900c-3acf4ff4d523",
   "metadata": {},
   "source": [
    "### Comments\n",
    "Tool to leave information to the readers of your code (probably notes for your future self) that will not be executed."
   ]
  },
  {
   "cell_type": "code",
   "execution_count": null,
   "id": "9e852c96-ea58-4a13-86a5-9dc53f35a0b2",
   "metadata": {},
   "outputs": [],
   "source": [
    "# One line comment\n",
    "\n",
    "\"\"\"\n",
    "Comment of an arbitrary number of\n",
    "lines.\n",
    "\"\"\"\n",
    "print(\"This will be executed\")"
   ]
  },
  {
   "cell_type": "markdown",
   "id": "1ed0d7f6-df81-43cb-93e0-513a569daee5",
   "metadata": {},
   "source": [
    "### Arrays\n",
    "#### Lists"
   ]
  },
  {
   "cell_type": "code",
   "execution_count": null,
   "id": "29c38643-8593-49af-b746-bac54b5d52fc",
   "metadata": {},
   "outputs": [],
   "source": [
    "lista=[a,b,c,d]\n",
    "print(lista)\n",
    "matrix=[[1,2],[3,4]]\n",
    "print(matrix)"
   ]
  },
  {
   "cell_type": "code",
   "execution_count": null,
   "id": "1c731a95-0aae-4451-a395-23457a2c697a",
   "metadata": {},
   "outputs": [],
   "source": [
    "print(\"These are the methods of the list class\")\n",
    "print([method for method in dir(matrix) if callable(getattr(matrix, method))])\n",
    "print(\"\\n\"+\"To know the usage of a given method, \\nwrite help(<object_name>.<method_name>).\")"
   ]
  },
  {
   "cell_type": "markdown",
   "id": "f80c3976-fc55-49d4-a030-542d6a8e5363",
   "metadata": {},
   "source": [
    "Let us practice a bit."
   ]
  },
  {
   "cell_type": "code",
   "execution_count": null,
   "id": "93c96030-7dc0-472f-a7b9-58651864e038",
   "metadata": {},
   "outputs": [],
   "source": []
  },
  {
   "cell_type": "markdown",
   "id": "01f06485-7e4b-4c34-a960-41f5c4c287b3",
   "metadata": {},
   "source": [
    "#### Tuples\n",
    "These are inmutable lists."
   ]
  },
  {
   "cell_type": "code",
   "execution_count": null,
   "id": "1bd0b733-b4eb-4eb8-b10f-4d74e004c17a",
   "metadata": {},
   "outputs": [],
   "source": [
    "tupla=(1,2,3)\n",
    "tupla.append(2)"
   ]
  },
  {
   "cell_type": "markdown",
   "id": "3ee042fe-f683-4532-862f-f46d902a0fde",
   "metadata": {},
   "source": [
    "#### Sets\n",
    "Usual definition of mathematical sets."
   ]
  },
  {
   "cell_type": "code",
   "execution_count": null,
   "id": "206fa89c-24bd-48c1-853e-1b2df61b7fcb",
   "metadata": {},
   "outputs": [],
   "source": [
    "conjunto={1,2,3,3}\n",
    "print(conjunto)\n",
    "print(conjunto.union({2,3,4}))"
   ]
  },
  {
   "cell_type": "markdown",
   "id": "37522943-0190-44a8-8bb3-6c8d1f0288f7",
   "metadata": {},
   "source": [
    "Let us practice a bit."
   ]
  },
  {
   "cell_type": "markdown",
   "id": "f7431c9f-fa98-4a2b-b266-0033a5337c79",
   "metadata": {},
   "source": [
    "### Dictionaries\n",
    "These are lists indexed by strings, instead of natural numbers."
   ]
  },
  {
   "cell_type": "code",
   "execution_count": null,
   "id": "0caf3886-e463-45e6-97b2-36387400e381",
   "metadata": {},
   "outputs": [],
   "source": [
    "diccionario={\"uno\":1, \"nombre\":\"Alex\", \"Estudiantes\":[\"Python\", \"Nada\"]}\n",
    "print(diccionario[0])"
   ]
  },
  {
   "cell_type": "code",
   "execution_count": null,
   "id": "4df1cb35-c101-44e7-b817-8c44a128c650",
   "metadata": {},
   "outputs": [],
   "source": [
    "print(diccionario[\"uno\"])\n",
    "print(diccionario[\"nombre\"])\n",
    "print(diccionario[\"Estudiantes\"])"
   ]
  },
  {
   "cell_type": "markdown",
   "id": "9ce8ede7-2364-4f50-9770-ecc2c5b4e7a0",
   "metadata": {},
   "source": [
    "Let us practice a bit."
   ]
  },
  {
   "cell_type": "markdown",
   "id": "521aacf3-2930-424c-a3e1-b739358df9c4",
   "metadata": {},
   "source": [
    "### Cycles"
   ]
  },
  {
   "cell_type": "code",
   "execution_count": null,
   "id": "e42b37bd-7437-46e8-9172-a1cb3b8e1329",
   "metadata": {},
   "outputs": [],
   "source": [
    "for x in range(10):\n",
    "    print(x, end = \" \")"
   ]
  },
  {
   "cell_type": "code",
   "execution_count": null,
   "id": "c75448c1-d7b1-4260-8d0b-0c459748a642",
   "metadata": {},
   "outputs": [],
   "source": [
    "count=0\n",
    "while (count<10):\n",
    "    print(count, end = \" \")\n",
    "    count += 1"
   ]
  },
  {
   "cell_type": "code",
   "execution_count": null,
   "id": "3892e5d0-08c2-402b-b8b9-026eb5fa326c",
   "metadata": {},
   "outputs": [],
   "source": [
    "for x in [1, -2, 3]:\n",
    "    print(x, end = \" \")\n",
    "print(\"\\n\")\n",
    "print(x)"
   ]
  },
  {
   "cell_type": "code",
   "execution_count": null,
   "id": "1b660bea-6f79-484f-8e19-c6738a325872",
   "metadata": {},
   "outputs": [],
   "source": [
    "for ii, string in enumerate([\"Hola\", \"Mundo\", \"en Python\"]):\n",
    "    print(ii, string)"
   ]
  },
  {
   "cell_type": "code",
   "execution_count": null,
   "id": "4c032134-f55a-481d-ace5-b79629a4a897",
   "metadata": {},
   "outputs": [],
   "source": [
    "for ii, jj in zip(range(10), range(10,20)):\n",
    "    print(ii, jj)"
   ]
  },
  {
   "cell_type": "markdown",
   "id": "679b852d-3c58-435e-819f-9811a862ca2f",
   "metadata": {},
   "source": [
    "### Receive Data\n",
    "To receive user data, we use the method `input`, which retrieves the data as a string."
   ]
  },
  {
   "cell_type": "code",
   "execution_count": null,
   "id": "d814c4fb-ee32-47d1-aa85-14a387090bcb",
   "metadata": {},
   "outputs": [],
   "source": [
    "m=float(input(\"Provide a numerical value > \"))\n",
    "for n in range(0,20):\n",
    "    print(m**n, end=\" \") "
   ]
  },
  {
   "cell_type": "markdown",
   "id": "4face7ec-d401-4feb-b456-188f73115975",
   "metadata": {},
   "source": [
    "### Functions\n",
    "Sometimes it is useful to abstract code sections performing specific functions in order to use it later on. On the other hand, modularizing your code is a good practice to keep it simple and find bugs faster. This is the main taks of a function, defined as follows\n",
    "```python\n",
    "def funcName(param1, param2):\n",
    "    \"\"\"\n",
    "    This is the code documentation. One generally writes\n",
    "    the input and output of the function, and what the\n",
    "    function does.\n",
    "\n",
    "    Input\n",
    "    =====\n",
    "    - param1\n",
    "    - param2\n",
    "\n",
    "    Output\n",
    "    =====\n",
    "    - something\n",
    "    \"\"\"\n",
    "    something = param1 + param2\n",
    "    # return is a reserved word specifying\n",
    "    # what is going to be returned.\n",
    "    return something\n",
    "```"
   ]
  },
  {
   "cell_type": "code",
   "execution_count": null,
   "id": "cd222c5d-edc9-452c-975d-1a68d1973bb6",
   "metadata": {},
   "outputs": [],
   "source": [
    "def contarRepeticiones(lista, elemento):\n",
    "    \"\"\"\n",
    "    This function counts the times an element appears in\n",
    "    a given list.\n",
    "    \"\"\"\n",
    "    count = 0\n",
    "    return count"
   ]
  },
  {
   "cell_type": "code",
   "execution_count": null,
   "id": "27412a8f-6df2-4b0c-9ffd-790b29a60696",
   "metadata": {},
   "outputs": [],
   "source": [
    "def nFibonacci(a, b):\n",
    "    \"\"\"\n",
    "    This function retrieves the n-th Fibonacci number, \n",
    "    having in mind that F_0 = a, F_1 = b.\n",
    "    \"\"\"\n",
    "    pass"
   ]
  },
  {
   "cell_type": "markdown",
   "id": "251b0818-04c5-4b34-a5a6-d65e518e7bc6",
   "metadata": {},
   "source": [
    "### Exception Handling\n",
    "Sometimes one desires to perform some actions when an error occurs. This can be done with a try/except in the following way\n",
    "```python\n",
    "try:\n",
    "    # Here we put a code susceptible to fail\n",
    "except:\n",
    "    # If an error rises, execution will not stop,\n",
    "    # but rather the instructions inside the except\n",
    "    # will be executed \n",
    "```"
   ]
  },
  {
   "cell_type": "code",
   "execution_count": null,
   "id": "d611bea6-5870-489d-b418-cde0be599257",
   "metadata": {},
   "outputs": [],
   "source": [
    "a=input(\"Provide a number > \")\n",
    "try:\n",
    "    int(a)\n",
    "except:\n",
    "    print(\"This is not a number\")"
   ]
  },
  {
   "cell_type": "markdown",
   "id": "c6e18573-a01c-4f5b-b454-4d5899d3f6d0",
   "metadata": {},
   "source": [
    "Nevertheless, this approach is not desirable as it can catch any error. It is more desirable to catch specific errors."
   ]
  },
  {
   "cell_type": "code",
   "execution_count": null,
   "id": "7d037cda-ee8b-438a-8eee-b8df1b9cbb03",
   "metadata": {},
   "outputs": [],
   "source": [
    "a=input(\"Provide a number > \")\n",
    "try:\n",
    "    int(a)\n",
    "except ValueError:\n",
    "    print(\"This is not a number\")"
   ]
  },
  {
   "cell_type": "markdown",
   "id": "ed824ca4-fe27-4a9f-af74-66005cfcbc05",
   "metadata": {},
   "source": [
    "We can also raise a personalized error using the method `raise`."
   ]
  },
  {
   "cell_type": "code",
   "execution_count": null,
   "id": "52c9d6fe-9d6a-4595-9574-8f25ada677cb",
   "metadata": {},
   "outputs": [],
   "source": [
    "a=input(\"Provide a number > \")\n",
    "try:\n",
    "    int(a)\n",
    "except ValueError:\n",
    "    raise Exception(\"%s cannot be cast to a number\"%a)"
   ]
  },
  {
   "cell_type": "markdown",
   "id": "1053da14-8ae7-44e9-8c58-77e33eb387dc",
   "metadata": {},
   "source": [
    "# Examples\n",
    "1. Calculate the sum of the first 500 prime numbers, that is, \n",
    "$$\\sum\\limits_{n=1}^{500} p_i,$$ with $p_i$ prime."
   ]
  },
  {
   "cell_type": "code",
   "execution_count": null,
   "id": "f869b939-8d35-4d75-b4dd-365e25fbfc60",
   "metadata": {},
   "outputs": [],
   "source": []
  },
  {
   "cell_type": "markdown",
   "id": "7cfc9338-5a86-4b3a-ab6a-4639f4cb7501",
   "metadata": {},
   "source": [
    "2) The Collatz conjecture states that the iterative process\n",
    "\n",
    "<center>$n\\implies n/2$ if $n=2k$ with $k\\in \\mathbb{N}$</center>\n",
    "<center>$n\\implies 3n+1$ if $n=2k+1$ with $k\\in \\mathbb{N}$</center>\n",
    "applied to any given number will always end in 1. For example, starting in 14:\n",
    "\n",
    "$14\\implies 7 \\implies 22 \\implies 11 \\implies 34 \\implies 17 \\implies 52 \\implies 26 \\implies 13 \\implies 40 \\implies 20 \\implies 10 \\implies 5 \\implies 16 \\implies 8 \\implies 4 \\implies 2 \\implies 1$\n",
    "\n",
    "There are 17 iterations of the method from $14$ to $1$. Determine which number between $1$ and $9\\times 10^5$ requires more iterations to arrive to 1. "
   ]
  },
  {
   "cell_type": "code",
   "execution_count": null,
   "id": "1ce2a3b0-d901-46f0-bedd-47bcbff50f4a",
   "metadata": {},
   "outputs": [],
   "source": []
  },
  {
   "cell_type": "markdown",
   "id": "0c352048-a279-400a-816b-d5d8760b1b8f",
   "metadata": {},
   "source": [
    "3. Let $f(x)=y=\\sqrt{1-x^2}$ with $x\\in [0,1]$. We know that\n",
    "$4\\int\\limits_0^1 \\sqrt{1-x^2}dx=\\pi.$\n",
    "Calculate numerically the value of $\\pi$ with a precision of 5 decimal places by comparing the values of the upper and lower sums of this integral. Recommendation: Make a regular partition of size $\\Delta x$, and with it calculate the value of the upper and lower sums, taking into account that $f(x)$ is decreasing in the interval $[0,1]$.\n",
    "You should also remember that, by Riemann sums:\n",
    "$\\int\\limits_b^a f(x)dx$ exists and is equal to $L$ if and only if the lower and upper sums have the same value ($L$) when $\\Delta x \\rightarrow 0$."
   ]
  },
  {
   "cell_type": "code",
   "execution_count": null,
   "id": "21cf2c8c-2038-4dd3-8770-dd5a6e69d0a3",
   "metadata": {},
   "outputs": [],
   "source": []
  },
  {
   "cell_type": "markdown",
   "id": "32a69e26-1fc7-4578-abcc-34c81663ddc2",
   "metadata": {},
   "source": [
    "4. Provide all the prime divisors of a number given as user input."
   ]
  },
  {
   "cell_type": "code",
   "execution_count": null,
   "id": "5d918f46-f928-42b9-a4a7-b379c4e53b2c",
   "metadata": {},
   "outputs": [],
   "source": []
  },
  {
   "cell_type": "markdown",
   "id": "238a5e8d-a951-4c08-880a-74fed084ae36",
   "metadata": {},
   "source": [
    "5. The logarithm base 2 of a positive real number $x$ ($log_2(x)$) is defined as the value that satisfies:\n",
    "$$2^{log_2(x)}=x.$$\n",
    "A recursive method to numerically find the logarithm of a value $x$ is to find a non-negative integer $n$ that satisfies:\n",
    "$$2^n<x<2^{n+1}.$$\n",
    "Once found, the interval $[n, n+1]$ is divided in half, the location of $x$ is analyzed, and this procedure is repeated as many times as desired. Design a program that takes a real number as input and numerically finds the logarithm base 2 of that number, with an error no greater than $10^{-3}$."
   ]
  },
  {
   "cell_type": "code",
   "execution_count": null,
   "id": "2f5e694f-311a-4182-9955-90f171e0d023",
   "metadata": {},
   "outputs": [],
   "source": []
  }
 ],
 "metadata": {
  "kernelspec": {
   "display_name": "Python 3 (ipykernel)",
   "language": "python",
   "name": "python3"
  },
  "language_info": {
   "codemirror_mode": {
    "name": "ipython",
    "version": 3
   },
   "file_extension": ".py",
   "mimetype": "text/x-python",
   "name": "python",
   "nbconvert_exporter": "python",
   "pygments_lexer": "ipython3",
   "version": "3.12.4"
  }
 },
 "nbformat": 4,
 "nbformat_minor": 5
}
