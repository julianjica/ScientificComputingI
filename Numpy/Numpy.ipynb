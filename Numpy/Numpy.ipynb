{
 "cells": [
  {
   "cell_type": "markdown",
   "id": "454fb8e8-6e68-4850-b96d-91155f962799",
   "metadata": {},
   "source": [
    "# Numpy\n",
    "This is probably the most efficient library regarding scientific computation with arrays and matrices in Python. \n",
    "### Arrays (ndarrays)\n",
    "The fundamental structure in Numpy is a data type called ndarrays (n-dimensional arrays). These structures are similar to Python's basic lists, but they offer advantages in terms of memory usage and data access.\n",
    "### Importing Numpy\n",
    "The instruction to import all contents of `numpy` is"
   ]
  },
  {
   "cell_type": "code",
   "execution_count": null,
   "id": "801add6a-401d-4d4d-a0e9-5a344af55906",
   "metadata": {},
   "outputs": [],
   "source": [
    "import numpy as np # as np is the pseudonym"
   ]
  },
  {
   "cell_type": "markdown",
   "id": "c5e6c109-3d76-4b6e-881a-9fc2a7760be3",
   "metadata": {},
   "source": [
    "Now we play a bit with arrays."
   ]
  },
  {
   "cell_type": "code",
   "execution_count": null,
   "id": "976649bc-a629-4602-bc3e-449c87601921",
   "metadata": {},
   "outputs": [],
   "source": [
    "# one dimensional array (vector)\n",
    "a=np.array([1,2,3,4,5])\n",
    "# Operations with an array\n",
    "print(a*4)\n",
    "print(a+a)\n",
    "print(a<3)\n",
    "print(a**2)\n",
    "print(a.T @ a)"
   ]
  },
  {
   "cell_type": "markdown",
   "id": "fd9392d7-05f4-47c3-903f-84e6c098fa08",
   "metadata": {},
   "source": [
    "And with 2-dimensional arrays, like \n",
    "$$b=\\left(\n",
    "    \\begin{array}{c} \n",
    "    2 & 1 & 2\\\\\\\\\n",
    "    1 & 4 & 1\\\\\\\\\n",
    "    2 & 1 & 6\n",
    "    \\end{array} \n",
    "\\right)$$"
   ]
  },
  {
   "cell_type": "code",
   "execution_count": null,
   "id": "29adc094-c1dc-4927-8877-f1db0eb00f7f",
   "metadata": {},
   "outputs": [],
   "source": [
    "b=np.array([[2,1,2],[1,4,1],[2,1,6]])\n",
    "print(b)\n",
    "# Printing dimension, shape and size\n",
    "print(\"Dimension: %i\"%b.ndim)\n",
    "print(\"Shape: \"+str(b.shape))\n",
    "print(\"Size: %i\"%b.size)"
   ]
  },
  {
   "cell_type": "markdown",
   "id": "6d7aa813-eef5-4491-86a8-00512fb5f7bc",
   "metadata": {},
   "source": [
    "We can reshape an array:"
   ]
  },
  {
   "cell_type": "code",
   "execution_count": null,
   "id": "fbe412f4-30c8-48ff-91a8-0d94e6e05901",
   "metadata": {},
   "outputs": [],
   "source": [
    "c = b.reshape(1,9)\n",
    "c"
   ]
  },
  {
   "cell_type": "code",
   "execution_count": null,
   "id": "4b0f0810-a6c0-4a7f-a419-c740686acb82",
   "metadata": {},
   "outputs": [],
   "source": [
    "my_array=np.arange(0.5,12.6,0.5)\n",
    "print(my_array)"
   ]
  },
  {
   "cell_type": "code",
   "execution_count": null,
   "id": "0d11e3ad-00cc-412e-bc86-c9d4e04af9b5",
   "metadata": {},
   "outputs": [],
   "source": [
    "print(my_array.reshape(5,5))"
   ]
  },
  {
   "cell_type": "markdown",
   "id": "ab147e68-efd6-4713-b4ec-07934efc182e",
   "metadata": {},
   "source": [
    "Now we index the elements of the array in different ways."
   ]
  },
  {
   "cell_type": "code",
   "execution_count": null,
   "id": "d3aebf99-cd00-463e-b407-b576e10a631b",
   "metadata": {},
   "outputs": [],
   "source": [
    "# Elements of the first column\n",
    "print(my_array[:,0])\n",
    "# Elements of the first row\n",
    "print(my_array[0,:])\n",
    "# Diagonal elements\n",
    "print(my_array.diagonal())"
   ]
  },
  {
   "cell_type": "markdown",
   "id": "fafcb06b-cc56-4b94-bab7-66c7f5b255c7",
   "metadata": {},
   "source": [
    "### Random Arrays\n",
    "`numpy` has dedicated methods to work with randon numbers. We will see some of them"
   ]
  },
  {
   "cell_type": "code",
   "execution_count": null,
   "id": "98e084dc-d528-4a7c-a423-0a7b63ddebd0",
   "metadata": {},
   "outputs": [],
   "source": [
    "# Printing (uniform) random numbers\n",
    "# from 0 to 1, in a 10x10 matrix\n",
    "random_numbers=np.random.random(size=(10,10)) \n",
    "\n",
    "# Select the ones smaller or equal to 0.5:\n",
    "less_or_equal=random_numbers[random_numbers<=0.5]\n",
    "print(less_or_equal)\n",
    "print(less_or_equal.size)"
   ]
  },
  {
   "cell_type": "code",
   "execution_count": null,
   "id": "76741aa8-e136-4b0f-b2e2-30463dd56769",
   "metadata": {},
   "outputs": [],
   "source": [
    "print(np.random.uniform(-5, 12, size=(5,5))) #(lower lim, upper lim, shape)\n",
    "print()\n",
    "print(np.random.normal(5, 5, size=(5,5))) #(mean, std, shape)"
   ]
  },
  {
   "cell_type": "markdown",
   "id": "0899dbd2-27a2-493a-9c0d-0e03f468e9ec",
   "metadata": {},
   "source": [
    "### Linear algebra\n",
    "Now let us see some common linear algebra operations."
   ]
  },
  {
   "cell_type": "code",
   "execution_count": null,
   "id": "9b46673e-1593-4901-ba30-82b0cdfd0513",
   "metadata": {},
   "outputs": [],
   "source": [
    "# a 3x3 matrix\n",
    "matrix=np.array([[2,7,5],[0,9,8],[7,4,0]])\n",
    "# Multiplying by the identity matrix\n",
    "print(matrix.dot(np.eye(3,3)))"
   ]
  },
  {
   "cell_type": "code",
   "execution_count": null,
   "id": "1e749aa4-8d78-4d10-99a0-e31e60792932",
   "metadata": {},
   "outputs": [],
   "source": [
    "# (Matrix)^2\n",
    "print(matrix.dot(matrix),\"\\n\", matrix @ matrix)"
   ]
  },
  {
   "cell_type": "code",
   "execution_count": null,
   "id": "32b62dc3-f333-43a0-9a24-e426773ec4be",
   "metadata": {},
   "outputs": [],
   "source": [
    "# Matrix determinant\n",
    "print(np.linalg.det(matrix))"
   ]
  },
  {
   "cell_type": "markdown",
   "id": "9e10dadc-b0ba-4585-a78c-aa82437dee1a",
   "metadata": {},
   "source": [
    "### Intervals and Grids\n",
    "Intervals have various applications, such as graphing or performing numerical integrations. Grids are two-dimensional intervals, useful when plotting three-dimensional surfaces. The methods for creating partitions are presented below.\n",
    "\n",
    "The `meshgrid(a,b)` method creates a correspondence between all elements of a with all elements of b. This way, we create a two-dimensional surface, which is useful for graphing scalar fields of $F:\\mathbb{R}^2\\rightarrow \\mathbb{R}$."
   ]
  },
  {
   "cell_type": "code",
   "execution_count": null,
   "id": "3c8d888c-8d88-46f9-946b-5457d839aa95",
   "metadata": {},
   "outputs": [],
   "source": [
    "espacio = np.linspace(0,10,100)\n",
    "print(espacio)\n",
    "X,Y = np.meshgrid(espacio,espacio)\n",
    "print(X)\n",
    "print()\n",
    "print(Y)"
   ]
  },
  {
   "cell_type": "markdown",
   "id": "46aa4aba-6663-4b9c-9735-40e23ce2a38b",
   "metadata": {},
   "source": [
    "### Solve a system of linear equations\n",
    "Is easy to solve linear equation systems with **Numpy**, one can initialize the two matrices $A$ and $b$ that satisfies $Ax=b$ for an unique value of $x$. Notice that if the system is inconsistent or linearly dependent, **Numpy** will throw an error. Let's see some examples.\n",
    "\n",
    "Suposse you want to solve the next linear equation system:\n",
    "\n",
    "$$\\left(\n",
    "    \\begin{array}{c} \n",
    "    3 & 1\\\\\n",
    "    1 & 2 \n",
    "    \\end{array} \n",
    "\\right)\n",
    "\\left(\n",
    "    \\begin{array}{c}\n",
    "    x_1\\\\\n",
    "    x_2\n",
    "    \\end{array}\n",
    "\\right)=\n",
    "\\left(\n",
    "    \\begin{array}{c}\n",
    "    9\\\\\n",
    "    8\n",
    "    \\end{array}\n",
    "\\right)$$\n",
    "This is the way to do it."
   ]
  },
  {
   "cell_type": "code",
   "execution_count": 24,
   "id": "327a2480-dee6-4bb5-8324-8ab7dcc1f4cc",
   "metadata": {},
   "outputs": [
    {
     "name": "stdout",
     "output_type": "stream",
     "text": [
      "[2. 3.]\n"
     ]
    }
   ],
   "source": [
    "a = np.array([[3,1], [1,2]])\n",
    "b = np.array([9,8])\n",
    "x = np.linalg.solve(a, b)\n",
    "print(x)"
   ]
  },
  {
   "cell_type": "markdown",
   "id": "7fe66c82-ff07-46e8-b879-f1291fef12c0",
   "metadata": {},
   "source": [
    "or"
   ]
  },
  {
   "cell_type": "code",
   "execution_count": 25,
   "id": "fe3d8260-c16f-403e-b4e2-4236351470f8",
   "metadata": {},
   "outputs": [
    {
     "name": "stdout",
     "output_type": "stream",
     "text": [
      "[2. 3.]\n"
     ]
    }
   ],
   "source": [
    "print(np.dot(np.linalg.inv(a),b))"
   ]
  },
  {
   "cell_type": "markdown",
   "id": "3c5eab8c-21cc-4a6a-890a-31472a74a547",
   "metadata": {},
   "source": [
    "### Eigenvalues and eigenvectors\n",
    "Recall that an eigenvalue $\\lambda$ (with resp. eigenvector $v$) of a matrix $A$ satisfies $$Av = \\lambda v$. We can find the eigenvalues and eigenvectors of a given matrix using numpy."
   ]
  },
  {
   "cell_type": "code",
   "execution_count": 27,
   "id": "f10e5da9-ddca-4bc2-8c5f-e98c13d1582b",
   "metadata": {},
   "outputs": [
    {
     "name": "stdout",
     "output_type": "stream",
     "text": [
      "[1. 2. 3.]\n",
      "[[1. 0. 0.]\n",
      " [0. 1. 0.]\n",
      " [0. 0. 1.]]\n"
     ]
    }
   ],
   "source": [
    "w, v = np.linalg.eig(np.diag((1, 2, 3)))\n",
    "print(w) #Where w is an array with the eigenvalues\n",
    "print(v) #And v is a matrix with the eigenvectors"
   ]
  },
  {
   "cell_type": "markdown",
   "id": "495e9aa4-6284-4eea-adb1-106c8e24b5ca",
   "metadata": {},
   "source": [
    "# Examples\n",
    "1. Using numpy arrays, show all odd numbers between 1 and 3000."
   ]
  },
  {
   "cell_type": "code",
   "execution_count": null,
   "id": "8a2fde0d-0788-4d58-8e1d-5f95569ed350",
   "metadata": {},
   "outputs": [],
   "source": []
  },
  {
   "cell_type": "markdown",
   "id": "96027e5a-35c5-4599-8c7f-1bb1d0c3f2b1",
   "metadata": {},
   "source": [
    "2. Roll six six-sided dice many times. Numerically, what is the probability that two or more dice show the same number? If you roll seven six-sided dice, what is the probability that at least two of them show the same number?"
   ]
  },
  {
   "cell_type": "code",
   "execution_count": null,
   "id": "751eeff0-6f43-435e-891c-b8d1b271c8a0",
   "metadata": {},
   "outputs": [],
   "source": []
  },
  {
   "cell_type": "markdown",
   "id": "dcc22607-3b35-4349-ba2a-e967f2f7e667",
   "metadata": {},
   "source": [
    "3. Compute the dot product between two one-dimensional arrays of numbers."
   ]
  },
  {
   "cell_type": "code",
   "execution_count": null,
   "id": "78d02815-e4ac-4070-a3f2-39cb582df50f",
   "metadata": {},
   "outputs": [],
   "source": []
  },
  {
   "cell_type": "markdown",
   "id": "ac4cd331-0a80-41ff-8a45-cfb2ff6b6f8f",
   "metadata": {},
   "source": [
    "4. Separate the perfect squares of the array\n",
    "```python\n",
    "a=np.array([4,5,7,49,34,36,21,16,101,121,169,100,82,33,81,64])\n",
    "```"
   ]
  },
  {
   "cell_type": "code",
   "execution_count": null,
   "id": "3485462e-d964-421f-90af-fa6f9e54f053",
   "metadata": {},
   "outputs": [],
   "source": []
  }
 ],
 "metadata": {
  "kernelspec": {
   "display_name": "Python 3 (ipykernel)",
   "language": "python",
   "name": "python3"
  },
  "language_info": {
   "codemirror_mode": {
    "name": "ipython",
    "version": 3
   },
   "file_extension": ".py",
   "mimetype": "text/x-python",
   "name": "python",
   "nbconvert_exporter": "python",
   "pygments_lexer": "ipython3",
   "version": "3.12.4"
  }
 },
 "nbformat": 4,
 "nbformat_minor": 5
}
