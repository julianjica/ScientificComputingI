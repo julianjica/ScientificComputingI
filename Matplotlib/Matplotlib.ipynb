{
 "cells": [
  {
   "cell_type": "markdown",
   "id": "f6db56da-7f43-40e8-b51e-40eb4442732f",
   "metadata": {},
   "source": [
    "## Matplotlib\n",
    "This is the dedicated library to plot and visually show data. We import it using the following instruction."
   ]
  },
  {
   "cell_type": "code",
   "execution_count": null,
   "id": "b2ccb8bc-8a11-4b08-b54b-6ce536a96ed1",
   "metadata": {},
   "outputs": [],
   "source": [
    "import matplotlib.pyplot as plt"
   ]
  },
  {
   "cell_type": "code",
   "execution_count": null,
   "id": "3a943725-ba41-40a8-ae28-334c88b7bede",
   "metadata": {},
   "outputs": [],
   "source": [
    "import numpy as np # Just to use arrays to plot"
   ]
  },
  {
   "cell_type": "markdown",
   "id": "8036a4d1-d1dd-4790-a12b-b7ce3aa24627",
   "metadata": {},
   "source": [
    "By default, `matplotlib` should plot the graph and embed it in Jupyter. If it does not, you can use the magic function "
   ]
  },
  {
   "cell_type": "code",
   "execution_count": null,
   "id": "585da1a4-7d92-4d2a-9235-3ad1254747dd",
   "metadata": {},
   "outputs": [],
   "source": [
    "%matplotlib inline "
   ]
  },
  {
   "cell_type": "code",
   "execution_count": null,
   "id": "56c0ca38-522f-4cff-a28c-8d2885e7e9b4",
   "metadata": {},
   "outputs": [],
   "source": [
    "a=np.linspace(0,2*np.pi,500) \n",
    "b=np.sin(a)\n",
    "plt.plot(a,b) # Key plotting method"
   ]
  },
  {
   "cell_type": "markdown",
   "id": "7e892cd2-06ec-4112-9a4d-57774d014117",
   "metadata": {},
   "source": [
    "If you want to plot outside Jupyter, you can use the magic function\n",
    "```python\n",
    "%matplotlib #wx, gtk, osx, tk, empty uses default\n",
    "```"
   ]
  },
  {
   "cell_type": "markdown",
   "id": "2a8fe012-7869-4a67-aace-84053f1a5893",
   "metadata": {},
   "source": [
    "Providing arguments (args) and keyword arguments (kwargs) can change the way we graph."
   ]
  },
  {
   "cell_type": "code",
   "execution_count": null,
   "id": "a5a086e3-66dc-45d4-8677-b7cfed57ebac",
   "metadata": {},
   "outputs": [],
   "source": [
    "plt.plot(a,b,color=\"green\", linewidth=5, \n",
    "     marker=\"o\", markerfacecolor=\"b\", linestyle=\"--\", alpha=.5)"
   ]
  },
  {
   "cell_type": "markdown",
   "id": "9acbda6c-0e72-4cc6-b5e5-5008b1dc522b",
   "metadata": {},
   "source": [
    "And multiple graphs can share the same canvas:"
   ]
  },
  {
   "cell_type": "code",
   "execution_count": null,
   "id": "90c76b28-5b57-487b-85a7-6c576bd85c89",
   "metadata": {},
   "outputs": [],
   "source": [
    "fig, axes=plt.subplots(1,3,figsize=(15,7),sharey=True)\n",
    "axes[0].plot(a,np.sin(a))\n",
    "axes[1].plot(a,np.sin(2*a))\n",
    "axes[2].plot(a,np.sin(3*a))\n",
    "fig.subplots_adjust(wspace=0.2)"
   ]
  },
  {
   "cell_type": "markdown",
   "id": "bbca75ff-2302-4b51-9e48-ca952bf651e2",
   "metadata": {},
   "source": [
    "To further personalize the disposition in which the graphs will share a canvas, we use `Gridspec`"
   ]
  },
  {
   "cell_type": "code",
   "execution_count": null,
   "id": "1717de86-e39d-47a5-a0b4-8dc5b146c0a4",
   "metadata": {},
   "outputs": [],
   "source": [
    "from matplotlib.gridspec import GridSpec"
   ]
  },
  {
   "cell_type": "code",
   "execution_count": null,
   "id": "49db7243-6d04-4744-93ae-e7aa89fce181",
   "metadata": {},
   "outputs": [],
   "source": [
    "gs = GridSpec(3,3)\n",
    "\n",
    "plt.subplot(gs[0,:]) #Note el cáracter matricial de gs\n",
    "plt.plot(a, np.e**a)\n",
    "\n",
    "plt.subplot(gs[1,0])\n",
    "plt.plot(-a, np.e**a)\n",
    "\n",
    "plt.subplot(gs[1,1])\n",
    "plt.plot(a, -np.e**a)\n",
    "\n",
    "plt.subplot(gs[2,:2])\n",
    "plt.plot(-a, -np.e**a)\n",
    "\n",
    "plt.subplot(gs[1:,2])\n",
    "plt.plot(a, np.e**a)\n"
   ]
  },
  {
   "cell_type": "markdown",
   "id": "8a907a68-e4fc-4e26-b6a0-47465800f475",
   "metadata": {},
   "source": [
    "## Histograms\n",
    "With `matplotlib` we can also draw histograms easily."
   ]
  },
  {
   "cell_type": "code",
   "execution_count": null,
   "id": "71f2e0c2-b6c3-4b62-944b-67ad950201f3",
   "metadata": {},
   "outputs": [],
   "source": [
    "gaussian_numbers = np.random.randn(10000) \n",
    "bins = np.linspace(-10, 10, 100)\n",
    "plt.hist(gaussian_numbers, bins)\n",
    "plt.text(5,700,\"Hey\")\n",
    "plt.title(\"Gaussian Histogram\")\n",
    "plt.xlabel(\"Value\")\n",
    "plt.ylabel(\"Frequency\")"
   ]
  },
  {
   "cell_type": "markdown",
   "id": "cdd9e252-3f8c-44eb-a4ef-6e3a5737eb3c",
   "metadata": {},
   "source": [
    "## Exercises"
   ]
  },
  {
   "cell_type": "markdown",
   "id": "6cd1a6b8-8a82-4822-a379-cbecd6f80c48",
   "metadata": {},
   "source": [
    "- Plot the exponential function.\n",
    "- Plot the $\\pi(x)$ function (number of primes smaller or equal to $x$).\n",
    "- Find and plot the polynomial of $n$-th order passing through $(n+1)$ randomly generated data.\n",
    "- Simulate $N$ (large) agents starting at zero, such that in each period each agent randomly decides to move to the right (or left) with a probability of 50%. Draw an histogram of the final positions for $T$ (large) iterations of the agents and try to draw the underlying distribution."
   ]
  },
  {
   "cell_type": "markdown",
   "id": "9f7b985a-8712-4216-b74f-a0cedf4ada7b",
   "metadata": {},
   "source": [
    "## Colormaps\n",
    "This is a common visualization technique for 2D scalar fields. For example, we can graph $f(x,y)=x^2+y^2$ in $[0,1]\\times[0,1].$"
   ]
  },
  {
   "cell_type": "code",
   "execution_count": null,
   "id": "008274a6-1d44-4876-a038-dbd3a2b64861",
   "metadata": {},
   "outputs": [],
   "source": [
    "f=plt.figure(figsize=(8,8))\n",
    "a = np.linspace(0,1, 100)\n",
    "A,B=np.meshgrid(a,a)\n",
    "plt.pcolor(A,B,A**2+B**2, cmap=\"jet\")\n",
    "plt.colorbar() \n",
    "plt.contour(A, B, A**2+B**2, [1], alpha=0.5)\n",
    "plt.contourf(A, B, A**2+B**2, [.1,.2,.4], alpha=0.5)\n",
    "test = plt.contourf(A, B, A**2+B**2, [.1,.2,.4], alpha=0.5)"
   ]
  },
  {
   "cell_type": "markdown",
   "id": "53918528-04a9-4f51-9f33-32a16856b1da",
   "metadata": {},
   "source": [
    "Reference on colormaps: https://matplotlib.org/examples/color/colormaps_reference.html"
   ]
  },
  {
   "cell_type": "code",
   "execution_count": null,
   "id": "45534659-222a-4319-a894-f31544bc65b3",
   "metadata": {},
   "outputs": [],
   "source": [
    "path = test.allsegs # List of all contours from test\n",
    "path"
   ]
  },
  {
   "cell_type": "markdown",
   "id": "b9d5a5cf-e985-49b7-9257-b8e263ff525f",
   "metadata": {},
   "source": [
    "## 3D\n",
    "### Curves"
   ]
  },
  {
   "cell_type": "code",
   "execution_count": null,
   "id": "77a9a45d-42a9-4eaf-ac47-69179d0f6d35",
   "metadata": {},
   "outputs": [],
   "source": [
    "import matplotlib.pyplot as plt\n",
    "from mpl_toolkits.mplot3d import Axes3D #Library to plot in 3D\n",
    "import numpy as np "
   ]
  },
  {
   "cell_type": "code",
   "execution_count": null,
   "id": "641a7798-9235-4ca8-a17b-7e9bb74a0c6d",
   "metadata": {},
   "outputs": [],
   "source": [
    "fig = plt.figure()\n",
    "ax = fig.add_subplot(111, projection='3d')\n",
    "\n",
    "t=np.linspace(-2*np.pi,2*np.pi,100)\n",
    "plt.plot(1+np.cos(t),np.sin(t),2*np.sin(t/2)) \n",
    "plt.show()"
   ]
  },
  {
   "cell_type": "markdown",
   "id": "1156c63f-5a4a-4db4-b803-ec8b46fda0bd",
   "metadata": {},
   "source": [
    "### Surfaces"
   ]
  },
  {
   "cell_type": "code",
   "execution_count": null,
   "id": "d5e14f0f-4bd8-4793-a0c8-da5a5124882b",
   "metadata": {},
   "outputs": [],
   "source": [
    "fig = plt.figure()\n",
    "ax = fig.add_subplot(111, projection='3d')\n",
    "x=np.linspace(-2,2)\n",
    "y=np.linspace(-2,2)\n",
    "X,Y=np.meshgrid(x,y) \n",
    "ax.plot_surface(X,Y,(2+np.cos(np.pi*X))*np.sin(np.pi*Y))\n",
    "plt.show()"
   ]
  },
  {
   "cell_type": "code",
   "execution_count": null,
   "id": "5066f86b-e19c-43bd-93e5-6661405a3916",
   "metadata": {},
   "outputs": [],
   "source": [
    "from matplotlib import cm\n",
    "fig = plt.figure()\n",
    "ax = fig.add_subplot(111, projection='3d')\n",
    "x=np.linspace(-2,2,200)\n",
    "y=np.linspace(-2,2,200)\n",
    "X,Y=np.meshgrid(x,y) \n",
    "\n",
    "surf=ax.plot_surface(X,Y,(2+np.cos(np.pi*X))*np.sin(np.pi*Y), cmap=cm.inferno)\n",
    "fig.colorbar(surf, shrink=0.5, aspect=5)\n",
    "plt.show()"
   ]
  },
  {
   "cell_type": "markdown",
   "id": "c3a272c7-dee0-4225-bd54-3ce5b0ab2138",
   "metadata": {},
   "source": [
    "## Error graphs"
   ]
  },
  {
   "cell_type": "code",
   "execution_count": null,
   "id": "08a68a6b-7601-45f7-a263-27a14e0a1d81",
   "metadata": {},
   "outputs": [],
   "source": [
    "x=np.linspace(0,10)\n",
    "error_x=np.random.uniform(0,1)\n",
    "\n",
    "f=plt.figure(figsize=(10,8))\n",
    "plt.errorbar(x, x**3, yerr=30, xerr=error_x,  linestyle=\"none\", marker=\"o\", markerfacecolor=\"k\", \n",
    "         markersize=5, ecolor=\"grey\", capsize=3)\n",
    "plt.grid() "
   ]
  },
  {
   "cell_type": "markdown",
   "id": "1de07d9d-6f5a-4629-b3ac-e85ad1514e6a",
   "metadata": {},
   "source": [
    "## Projections"
   ]
  },
  {
   "cell_type": "code",
   "execution_count": null,
   "id": "940e9f75-cd36-4094-adaa-cc7e6ab6a3ef",
   "metadata": {},
   "outputs": [],
   "source": [
    "f=plt.figure(figsize=(8,8))\n",
    "ax = plt.subplot(111, projection='polar')\n",
    "\n",
    "theta=np.linspace(0, 2*np.pi)\n",
    "r=2*(1-np.cos(theta))\n",
    "\n",
    "ax.plot(theta, r)\n",
    "ax.grid(True)"
   ]
  },
  {
   "cell_type": "code",
   "execution_count": null,
   "id": "5658fe69-2eed-4972-82f1-a7b0c1b3b6a3",
   "metadata": {},
   "outputs": [],
   "source": [
    "a=np.linspace(1,100)\n",
    "b=10**a\n",
    "f=plt.figure(figsize=(12,8))\n",
    "gs = GridSpec(2,2)\n",
    "\n",
    "plt.subplot(gs[0,0])\n",
    "plt.semilogy(a,b)\n",
    "\n",
    "plt.subplot(gs[0,1])\n",
    "plt.semilogx(b, a)\n",
    "\n",
    "plt.subplot(gs[1,:])\n",
    "plt.loglog(b, b)"
   ]
  },
  {
   "cell_type": "markdown",
   "id": "6955d85d-4d6d-4680-9c96-ac5a19526b2f",
   "metadata": {},
   "source": [
    "## Image Analysis"
   ]
  },
  {
   "cell_type": "code",
   "execution_count": null,
   "id": "4dc45ddc-35fb-4a2a-bbe5-cec8f5d8a076",
   "metadata": {},
   "outputs": [],
   "source": [
    "import matplotlib.image as mpimg"
   ]
  },
  {
   "cell_type": "code",
   "execution_count": null,
   "id": "48c712b6-bec8-41a7-a68d-1fe4c6346573",
   "metadata": {},
   "outputs": [],
   "source": [
    "img=mpimg.imread('pleyadesM45.jpg') #Leemos la imagen"
   ]
  },
  {
   "cell_type": "code",
   "execution_count": null,
   "id": "731cffc3-6083-4849-9f77-a76a243024f2",
   "metadata": {},
   "outputs": [],
   "source": [
    "print(img)\n",
    "print(img.shape)"
   ]
  },
  {
   "cell_type": "code",
   "execution_count": null,
   "id": "63b6f132-e0fc-4e74-b552-edc62f23462b",
   "metadata": {},
   "outputs": [],
   "source": [
    "plt.imshow(img)"
   ]
  },
  {
   "cell_type": "code",
   "execution_count": null,
   "id": "ce4795a6-ad5e-4c67-8021-33a3232be38c",
   "metadata": {},
   "outputs": [],
   "source": [
    "lum_img = img[:,:,0] # Red\n",
    "print(lum_img)\n",
    "print(lum_img.shape)\n",
    "plt.imshow(lum_img)"
   ]
  },
  {
   "cell_type": "code",
   "execution_count": null,
   "id": "4e6f4814-bc5f-42a9-ad12-8080115dd979",
   "metadata": {},
   "outputs": [],
   "source": [
    "lum_img = img[:,:,1] # Green\n",
    "plt.imshow(lum_img)"
   ]
  },
  {
   "cell_type": "code",
   "execution_count": null,
   "id": "01888486-a2d2-4ded-9afb-132481dbbf2f",
   "metadata": {},
   "outputs": [],
   "source": [
    "lum_img = img[:,:,2]\n",
    "plt.imshow(lum_img)"
   ]
  },
  {
   "cell_type": "code",
   "execution_count": null,
   "id": "69ee5ee3-f057-4b38-99d6-e04e8f85bc20",
   "metadata": {},
   "outputs": [],
   "source": [
    "lum_img = img[:,:,2]\n",
    "f=plt.figure(figsize=(8,8))\n",
    "result=plt.imshow(lum_img)\n",
    "result.set_cmap('coolwarm')\n",
    "plt.colorbar()"
   ]
  },
  {
   "cell_type": "markdown",
   "id": "645a1801-fa4f-4a87-8000-5f589826fecd",
   "metadata": {},
   "source": [
    "### Exercise\n",
    "- Try to hide all \"bright\" stars from the previous image.\n",
    "- Do you have any idea about how to count the number of stars in this image?"
   ]
  },
  {
   "cell_type": "markdown",
   "id": "42dbe296-721f-486e-bcfb-785d66d7f80c",
   "metadata": {},
   "source": [
    "## Image interpolation"
   ]
  },
  {
   "cell_type": "code",
   "execution_count": null,
   "id": "87486f1b-2ab6-49a0-ba92-cffe0b3e0832",
   "metadata": {},
   "outputs": [],
   "source": [
    "from PIL import Image #Nos sirve para disminuir la resolución de una imagen\n",
    "img = Image.open('pleyadesM45.jpg')\n",
    "img.thumbnail((100, 100)) \n",
    "\n",
    "imgplot = plt.imshow(img)"
   ]
  },
  {
   "cell_type": "code",
   "execution_count": null,
   "id": "0c03162e-716a-4b73-bbe9-554d9875e4f5",
   "metadata": {},
   "outputs": [],
   "source": [
    "imgplot = plt.imshow(img, interpolation=\"nearest\")"
   ]
  },
  {
   "cell_type": "code",
   "execution_count": null,
   "id": "738f3657-2585-4652-9ca2-bc6538fc428c",
   "metadata": {},
   "outputs": [],
   "source": [
    "imgplot = plt.imshow(img, interpolation=\"bicubic\")"
   ]
  },
  {
   "cell_type": "markdown",
   "id": "0ba2b812-29a6-49fe-9781-39ee06abe819",
   "metadata": {},
   "source": [
    "## Animations"
   ]
  },
  {
   "cell_type": "code",
   "execution_count": null,
   "id": "f5640d20-445b-4a92-8fa6-989c5601c20a",
   "metadata": {},
   "outputs": [],
   "source": [
    "# Probably does not work natively on Jupyter\n",
    "import matplotlib.animation as animation \n",
    "def anima(num, data, line):\n",
    "    line.set_data(data[:2, :num])\n",
    "    line.set_3d_properties(data[2, :num])\n",
    "    return line,\n",
    "fig = plt.figure()\n",
    "ax = fig.add_subplot(111, projection='3d')\n",
    "t=np.linspace(-2*np.pi,2*np.pi,100)\n",
    "x=1+np.cos(t)\n",
    "y=np.sin(t)\n",
    "z=2*np.sin(t/2)\n",
    "data=np.vstack((x,y,z)) \n",
    "\n",
    "ax.set_xlim3d(-2, 2)\n",
    "ax.set_ylim3d(-2, 2)\n",
    "ax.set_zlim3d(-2, 2)\n",
    "\n",
    "lines, = ax.plot([],[],[], \"r-\")\n",
    "line_ani = animation.FuncAnimation(fig, anima, 100, fargs=(data, lines),\n",
    "    interval=100, blit=True)\n",
    "plt.show()"
   ]
  },
  {
   "cell_type": "code",
   "execution_count": null,
   "id": "51a3caa6-2b6d-4125-9681-7cd84c70412d",
   "metadata": {},
   "outputs": [],
   "source": [
    "def just_a_point(num,data,line):\n",
    "    line.set_data(data[0][num], data[1][num])\n",
    "    line.set_3d_properties(data[2][num])    \n",
    "    return line,\n",
    "\n",
    "def clear(line):\n",
    "    line.set_data([], [])\n",
    "    line.set_3d_properties([])    \n",
    "    return line,\n",
    "\n",
    "fig = plt.figure()\n",
    "ax = fig.add_subplot(111, projection='3d')\n",
    "t=np.linspace(-2*np.pi,2*np.pi,100)\n",
    "x=1+np.cos(t)\n",
    "y=np.sin(t)\n",
    "z=2*np.sin(t/2)\n",
    "data=np.vstack((x,y,z)) \n",
    "\n",
    "ax.set_xlim3d(-2, 2)\n",
    "ax.set_ylim3d(-2, 2)\n",
    "ax.set_zlim3d(-2, 2)\n",
    "\n",
    "lines, = ax.plot([],[],[], \"r-\")\n",
    "lines2, = ax.plot([],[],[], \"ro\")\n",
    "line_ani2 = animation.FuncAnimation(fig, just_a_point, 100, fargs=(data, lines2),\n",
    "                                   interval=100, blit=False, init_func=lambda: clear(lines2))\n",
    "line_ani = animation.FuncAnimation(fig, anima, 100, fargs=(data, lines),\n",
    "    interval=100, blit=False)\n",
    "\n",
    "plt.show()"
   ]
  },
  {
   "cell_type": "markdown",
   "id": "66f33515-a14a-46c3-9256-e9561f7e5363",
   "metadata": {},
   "source": [
    "## Exercise\n",
    "- Try to animate the random walk that you previously did."
   ]
  }
 ],
 "metadata": {
  "kernelspec": {
   "display_name": "Python 3 (ipykernel)",
   "language": "python",
   "name": "python3"
  },
  "language_info": {
   "codemirror_mode": {
    "name": "ipython",
    "version": 3
   },
   "file_extension": ".py",
   "mimetype": "text/x-python",
   "name": "python",
   "nbconvert_exporter": "python",
   "pygments_lexer": "ipython3",
   "version": "3.12.4"
  }
 },
 "nbformat": 4,
 "nbformat_minor": 5
}
