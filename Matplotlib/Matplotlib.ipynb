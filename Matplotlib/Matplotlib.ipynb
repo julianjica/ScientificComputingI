{
 "cells": [
  {
   "cell_type": "markdown",
   "id": "f6db56da-7f43-40e8-b51e-40eb4442732f",
   "metadata": {},
   "source": [
    "## Matplotlib\n",
    "This is the dedicated library to plot and visually show data. We import it using the following instruction."
   ]
  },
  {
   "cell_type": "code",
   "execution_count": null,
   "id": "b2ccb8bc-8a11-4b08-b54b-6ce536a96ed1",
   "metadata": {},
   "outputs": [],
   "source": [
    "import matplotlib.pyplot as plt"
   ]
  },
  {
   "cell_type": "code",
   "execution_count": null,
   "id": "3a943725-ba41-40a8-ae28-334c88b7bede",
   "metadata": {},
   "outputs": [],
   "source": [
    "import numpy as np # Just to use arrays to plot"
   ]
  },
  {
   "cell_type": "markdown",
   "id": "8036a4d1-d1dd-4790-a12b-b7ce3aa24627",
   "metadata": {},
   "source": [
    "By default, `matplotlib` should plot the graph and embed it in Jupyter. If it does not, you can use the magic function "
   ]
  },
  {
   "cell_type": "code",
   "execution_count": null,
   "id": "585da1a4-7d92-4d2a-9235-3ad1254747dd",
   "metadata": {},
   "outputs": [],
   "source": [
    "%matplotlib inline "
   ]
  },
  {
   "cell_type": "code",
   "execution_count": null,
   "id": "56c0ca38-522f-4cff-a28c-8d2885e7e9b4",
   "metadata": {},
   "outputs": [],
   "source": [
    "a=np.linspace(0,2*np.pi,500) \n",
    "b=np.sin(a)\n",
    "plt.plot(a,b) # Key plotting method"
   ]
  },
  {
   "cell_type": "markdown",
   "id": "7e892cd2-06ec-4112-9a4d-57774d014117",
   "metadata": {},
   "source": [
    "If you want to plot outside Jupyter, you can use the magic function\n",
    "```python\n",
    "%matplotlib #wx, gtk, osx, tk, empty uses default\n",
    "```"
   ]
  },
  {
   "cell_type": "markdown",
   "id": "2a8fe012-7869-4a67-aace-84053f1a5893",
   "metadata": {},
   "source": [
    "Providing arguments (args) and keyword arguments (kwargs) can change the way we graph."
   ]
  },
  {
   "cell_type": "code",
   "execution_count": null,
   "id": "99625bca-9948-45f8-95a0-335820d78655",
   "metadata": {},
   "outputs": [],
   "source": [
    "help(plt.plot)"
   ]
  },
  {
   "cell_type": "code",
   "execution_count": null,
   "id": "a5a086e3-66dc-45d4-8677-b7cfed57ebac",
   "metadata": {},
   "outputs": [],
   "source": [
    "a = np.linspace(0, 2*np.pi, 10)\n",
    "b = np.sin(a)\n",
    "plt.plot(a,b,color=\"green\", linestyle=\"--\", marker=\"o\",  alpha=.5, \n",
    "        linewidth = 10, markerfacecolor=\"b\", markersize=10)"
   ]
  },
  {
   "cell_type": "markdown",
   "id": "9acbda6c-0e72-4cc6-b5e5-5008b1dc522b",
   "metadata": {},
   "source": [
    "And multiple graphs can share the same canvas:"
   ]
  },
  {
   "cell_type": "code",
   "execution_count": null,
   "id": "90c76b28-5b57-487b-85a7-6c576bd85c89",
   "metadata": {},
   "outputs": [],
   "source": [
    "fig, axes=plt.subplots(2,2,figsize=(15,7),sharey=True, sharex=True)\n",
    "axes[0,0].plot(a,np.sin(a))\n",
    "axes[0,1].plot(a,np.sin(2*a))\n",
    "axes[1,0].plot(a,np.sin(3*a))\n",
    "axes[1,1].plot(a,np.sin(4*a))\n",
    "fig.subplots_adjust(wspace=0)"
   ]
  },
  {
   "cell_type": "markdown",
   "id": "bbca75ff-2302-4b51-9e48-ca952bf651e2",
   "metadata": {},
   "source": [
    "To further personalize the disposition in which the graphs will share a canvas, we use `Gridspec`"
   ]
  },
  {
   "cell_type": "code",
   "execution_count": null,
   "id": "1717de86-e39d-47a5-a0b4-8dc5b146c0a4",
   "metadata": {},
   "outputs": [],
   "source": [
    "from matplotlib.gridspec import GridSpec"
   ]
  },
  {
   "cell_type": "code",
   "execution_count": null,
   "id": "49db7243-6d04-4744-93ae-e7aa89fce181",
   "metadata": {},
   "outputs": [],
   "source": [
    "gs = GridSpec(3,3)\n",
    "\n",
    "plt.subplot(gs[0,:]) #Note el cáracter matricial de gs\n",
    "plt.plot(a, np.e**a)\n",
    "\n",
    "plt.subplot(gs[1,0])\n",
    "plt.plot(-a, np.e**a)\n",
    "\n",
    "plt.subplot(gs[1,1])\n",
    "plt.plot(a, -np.e**a)\n",
    "\n",
    "plt.subplot(gs[2,:2])\n",
    "plt.plot(-a, -np.e**a)\n",
    "\n",
    "plt.subplot(gs[1:,2])\n",
    "plt.plot(a, np.e**a)\n"
   ]
  },
  {
   "cell_type": "markdown",
   "id": "8a907a68-e4fc-4e26-b6a0-47465800f475",
   "metadata": {},
   "source": [
    "## Histograms\n",
    "With `matplotlib` we can also draw histograms easily."
   ]
  },
  {
   "cell_type": "code",
   "execution_count": null,
   "id": "71f2e0c2-b6c3-4b62-944b-67ad950201f3",
   "metadata": {},
   "outputs": [],
   "source": [
    "gaussian_numbers = np.random.randn(10000) \n",
    "bins = np.linspace(-10, 10, 100)\n",
    "plt.hist(gaussian_numbers, bins = bins)\n",
    "plt.text(5,700,r\"$\\int e^{-x}dx$\")\n",
    "plt.title(\"Gaussian Histogram\")\n",
    "plt.xlabel(\"Value\")\n",
    "plt.ylabel(\"Frequency\")"
   ]
  },
  {
   "cell_type": "markdown",
   "id": "cdd9e252-3f8c-44eb-a4ef-6e3a5737eb3c",
   "metadata": {},
   "source": [
    "## Exercises"
   ]
  },
  {
   "cell_type": "markdown",
   "id": "6cd1a6b8-8a82-4822-a379-cbecd6f80c48",
   "metadata": {},
   "source": [
    "- Plot the exponential function.\n",
    "- Plot the $\\pi(x)$ function (number of primes smaller or equal to $x$).\n",
    "- Find and plot the polynomial of $n$-th order passing through $(n+1)$ randomly generated data.\n",
    "- Simulate $N$ (large) agents starting at zero, such that in each period each agent randomly decides to move to the right (or left) with a probability of 50%. Draw an histogram of the final positions for $T$ (large) iterations of the agents and try to draw the underlying distribution."
   ]
  },
  {
   "cell_type": "code",
   "execution_count": null,
   "id": "87553775-af10-4fde-86ea-f8177ef71296",
   "metadata": {},
   "outputs": [],
   "source": [
    "x = np.linspace(-10, 10, 200)\n",
    "plt.plot(x, np.exp(x))"
   ]
  },
  {
   "cell_type": "code",
   "execution_count": null,
   "id": "8062a25a-d069-4215-a25d-414a6277c4de",
   "metadata": {},
   "outputs": [],
   "source": [
    "from tqdm import tqdm"
   ]
  },
  {
   "cell_type": "code",
   "execution_count": null,
   "id": "746cc68e-e352-4190-ba42-67db68fefc2d",
   "metadata": {},
   "outputs": [],
   "source": [
    "from numba import njit"
   ]
  },
  {
   "cell_type": "code",
   "execution_count": null,
   "id": "3b6cf194-358a-4d3f-b928-72bb755478cf",
   "metadata": {},
   "outputs": [],
   "source": [
    "@njit\n",
    "def primes(x):\n",
    "    p = [2]\n",
    "    for ii in range(3, x + 1):\n",
    "        isPrime = True\n",
    "        for prime in p:\n",
    "            if ii % prime == 0:\n",
    "                isPrime = False\n",
    "                break\n",
    "        if isPrime:\n",
    "            p.append(ii)\n",
    "    return p"
   ]
  },
  {
   "cell_type": "code",
   "execution_count": null,
   "id": "65b353d2-00b2-4c65-92cd-10eb83034898",
   "metadata": {},
   "outputs": [],
   "source": [
    "def primes_native(x):\n",
    "    p = [2]\n",
    "    for ii in range(3, x + 1):\n",
    "        isPrime = True\n",
    "        for prime in p:\n",
    "            if ii % prime == 0:\n",
    "                isPrime = False\n",
    "                break\n",
    "        if isPrime:\n",
    "            p.append(ii)\n",
    "    return p"
   ]
  },
  {
   "cell_type": "code",
   "execution_count": null,
   "id": "ef239980-55f9-4e09-aab0-a13f127c484d",
   "metadata": {},
   "outputs": [],
   "source": [
    "p = primes(int(1e6))"
   ]
  },
  {
   "cell_type": "code",
   "execution_count": null,
   "id": "6d3765c7-c802-450f-8c29-0028f3ee551d",
   "metadata": {},
   "outputs": [],
   "source": [
    "subP = p"
   ]
  },
  {
   "cell_type": "code",
   "execution_count": null,
   "id": "4e880dce-5ccf-41c8-881d-a7e8cb0480d7",
   "metadata": {},
   "outputs": [],
   "source": [
    "plt.plot(subP, np.arange(1, len(subP) + 1), marker=\"o\", label=r\"$\\pi(x)$\")\n",
    "x = np.linspace(2, subP[-1], 100)\n",
    "plt.plot(x, x/np.log(x), label=r\"$\\frac{x}{\\log x}$\")\n",
    "plt.legend()"
   ]
  },
  {
   "cell_type": "code",
   "execution_count": null,
   "id": "c2e00942-a65e-46b6-8407-c50bb016813d",
   "metadata": {},
   "outputs": [],
   "source": [
    "X = [7, 11, 25, 36, 40, 68]\n",
    "Y = [1, -1, 3, 0 , 2, 6]"
   ]
  },
  {
   "cell_type": "code",
   "execution_count": null,
   "id": "b4348345-c3a2-4196-bdcf-1e314ca20c70",
   "metadata": {},
   "outputs": [],
   "source": [
    "def L(x, j):\n",
    "    product = 1\n",
    "    for ii in range(len(X)):\n",
    "        if ii == j:\n",
    "            continue\n",
    "        product *= (x-X[ii])/(X[j]-X[ii])\n",
    "    return product\n",
    "def f(x):\n",
    "    suma = 0\n",
    "    for ii in range(len(X)):\n",
    "        suma += Y[ii] * L(x, ii)\n",
    "    return suma"
   ]
  },
  {
   "cell_type": "code",
   "execution_count": null,
   "id": "1b0b3bc4-cf95-42e8-8edf-dafe57782e65",
   "metadata": {},
   "outputs": [],
   "source": [
    "plt.scatter(X,Y)\n",
    "r = np.linspace(-1, 68, 1000)\n",
    "plt.plot(r,  f(r))"
   ]
  },
  {
   "cell_type": "code",
   "execution_count": null,
   "id": "f1788e55-6055-4e3b-88d4-93201a658728",
   "metadata": {},
   "outputs": [],
   "source": [
    "N = int(1e6)\n",
    "T = 30\n",
    "h = 2*np.random.randint(0,2, (N, T)) - 1\n",
    "h = np.sum(h, axis=1)\n",
    "sigma = np.var(h)"
   ]
  },
  {
   "cell_type": "code",
   "execution_count": null,
   "id": "2ed20f9b-da2a-4a9c-986f-f8b14d832e15",
   "metadata": {},
   "outputs": [],
   "source": [
    "plt.hist(h, bins = 30, density=True)\n",
    "x = np.linspace(-T, T, 100)\n",
    "plt.plot(x, 1/(2*np.pi*sigma)**.5 * np.exp(-x**2/(2*sigma)))"
   ]
  },
  {
   "cell_type": "markdown",
   "id": "4ba123d1-97ab-4b5d-928c-1c28f7a10a33",
   "metadata": {},
   "source": [
    "## Box Plots, Violin Plots and Pie Charts"
   ]
  },
  {
   "cell_type": "code",
   "execution_count": null,
   "id": "e61cfc9b-43e0-40f2-ae6d-7269c7b265ce",
   "metadata": {},
   "outputs": [],
   "source": [
    "import numpy as np\n",
    "import matplotlib.pyplot as plt"
   ]
  },
  {
   "cell_type": "code",
   "execution_count": null,
   "id": "bbbaabae-c81d-47d7-9c10-f5823ccfbe0e",
   "metadata": {},
   "outputs": [],
   "source": [
    "# Set a seed for reproducibility\n",
    "np.random.seed(42)\n",
    "\n",
    "# Generate sample data\n",
    "data1 = np.random.uniform(80, 90, 200)\n",
    "data2 = np.random.normal(80, 20, 200)\n",
    "data3 = np.random.normal(90, 15, 200)\n",
    "\n",
    "# Create a figure with 3 subplots\n",
    "fig, (ax1, ax2, ax3) = plt.subplots(1, 3, figsize=(18, 6))\n",
    "\n",
    "# 1. Box Plot\n",
    "box_data = [data1, data2, data3]\n",
    "ax1.boxplot(box_data, labels=['Data 1', 'Data 2', 'Data 3'])\n",
    "ax1.set_title('Box Plot')\n",
    "ax1.set_ylabel('Value')\n",
    "\n",
    "# 2. Violin Plot\n",
    "violin_data = [data1, data2, data3]\n",
    "ax2.violinplot(violin_data, showmeans=True, showmedians=True)\n",
    "ax2.set_title('Violin Plot')\n",
    "ax2.set_xticks([1, 2, 3])\n",
    "ax2.set_xticklabels(['Data 1', 'Data 2', 'Data 3'])\n",
    "ax2.set_ylabel('Value')\n",
    "\n",
    "# 3. Pie Chart\n",
    "pie_data = [3, 2, 1]\n",
    "pie_labels = ['Data 1', 'Data 2', 'Data 3']\n",
    "ax3.pie(pie_data, labels=pie_labels, autopct='%1.1f%%', startangle=90)\n",
    "ax3.set_title('Pie Chart')\n",
    "\n",
    "# Adjust layout and display the plot\n",
    "plt.tight_layout()\n",
    "plt.show()"
   ]
  },
  {
   "cell_type": "code",
   "execution_count": null,
   "id": "6216d769-9b7b-4428-8273-f31415ba07cf",
   "metadata": {},
   "outputs": [],
   "source": [
    "for i, data in enumerate([data1, data2, data3], 1):\n",
    "    print(f\"Data {i} - Mean: {np.mean(data):.2f}, Median: {np.median(data):.2f}, Std Dev: {np.std(data):.2f}\")"
   ]
  },
  {
   "cell_type": "markdown",
   "id": "1c02591d-525a-4117-b1c9-de6f0c2bdd03",
   "metadata": {},
   "source": [
    "## Styles"
   ]
  },
  {
   "cell_type": "code",
   "execution_count": null,
   "id": "158a904c-1e3a-4c87-9b74-d34cf0b8e012",
   "metadata": {},
   "outputs": [],
   "source": [
    "print(plt.style.available)"
   ]
  },
  {
   "cell_type": "code",
   "execution_count": null,
   "id": "01887179-19d8-4818-be87-d531ab6c880e",
   "metadata": {},
   "outputs": [],
   "source": [
    "plt.style.use((\"bmh\"))"
   ]
  },
  {
   "cell_type": "code",
   "execution_count": null,
   "id": "440ec9b3-3d75-4a7c-a0ce-a84d55a3398a",
   "metadata": {},
   "outputs": [],
   "source": [
    "x = np.linspace(0,1)\n",
    "plt.plot(x, x, label = r\"$y=x$\")\n",
    "plt.plot(x, 2*x, label = r\"$y=2x$\")\n",
    "plt.legend()"
   ]
  },
  {
   "cell_type": "markdown",
   "id": "5f42a4ad-0249-4672-863f-c32527c63725",
   "metadata": {},
   "source": [
    "### Temporary styling"
   ]
  },
  {
   "cell_type": "code",
   "execution_count": null,
   "id": "e1c73f0b-b250-4eb7-b890-5434bf788b6b",
   "metadata": {},
   "outputs": [],
   "source": [
    "with plt.style.context(('bmh')):\n",
    "    plt.plot(np.sin(np.linspace(0, 2 * np.pi)), \"--\")\n",
    "    plt.plot(np.sin(2*np.linspace(0, 2 * np.pi)))"
   ]
  },
  {
   "cell_type": "markdown",
   "id": "9f7b985a-8712-4216-b74f-a0cedf4ada7b",
   "metadata": {},
   "source": [
    "## Colormaps\n",
    "This is a common visualization technique for 2D scalar fields. For example, we can graph $f(x,y)=x^2+y^2$ in $[0,1]\\times[0,1].$"
   ]
  },
  {
   "cell_type": "code",
   "execution_count": null,
   "id": "008274a6-1d44-4876-a038-dbd3a2b64861",
   "metadata": {},
   "outputs": [],
   "source": [
    "a = np.linspace(0,1, 100)\n",
    "a.shape"
   ]
  },
  {
   "cell_type": "code",
   "execution_count": null,
   "id": "9ccebb3d-e23a-4314-b4a1-b6a16ea51c40",
   "metadata": {},
   "outputs": [],
   "source": [
    "A,B = np.meshgrid(a,a)"
   ]
  },
  {
   "cell_type": "code",
   "execution_count": null,
   "id": "fba7c8aa-f206-4d21-b0aa-f600a59f74ee",
   "metadata": {},
   "outputs": [],
   "source": [
    "f=plt.figure(figsize=(8,8))\n",
    "plt.pcolor(A,B,A**2+B**2, cmap=\"jet\")\n",
    "plt.colorbar() \n",
    "plt.contour(A, B, A**2+B**2, [1], alpha=0.5)\n",
    "test = plt.contourf(A, B, A**2+B**2, [.1,.2,.4], alpha=0.5)"
   ]
  },
  {
   "cell_type": "code",
   "execution_count": null,
   "id": "43dd0699-0961-4149-a6e2-65a4da75696e",
   "metadata": {},
   "outputs": [],
   "source": [
    "test"
   ]
  },
  {
   "cell_type": "markdown",
   "id": "53918528-04a9-4f51-9f33-32a16856b1da",
   "metadata": {},
   "source": [
    "Reference on colormaps: https://matplotlib.org/examples/color/colormaps_reference.html"
   ]
  },
  {
   "cell_type": "code",
   "execution_count": null,
   "id": "45534659-222a-4319-a894-f31544bc65b3",
   "metadata": {},
   "outputs": [],
   "source": [
    "path = test.allsegs # List of all contours from test\n",
    "path[0]"
   ]
  },
  {
   "cell_type": "markdown",
   "id": "b9d5a5cf-e985-49b7-9257-b8e263ff525f",
   "metadata": {},
   "source": [
    "## 3D\n",
    "### Curves"
   ]
  },
  {
   "cell_type": "code",
   "execution_count": null,
   "id": "77a9a45d-42a9-4eaf-ac47-69179d0f6d35",
   "metadata": {},
   "outputs": [],
   "source": [
    "import matplotlib.pyplot as plt\n",
    "from mpl_toolkits.mplot3d import Axes3D #Library to plot in 3D\n",
    "import numpy as np "
   ]
  },
  {
   "cell_type": "code",
   "execution_count": null,
   "id": "641a7798-9235-4ca8-a17b-7e9bb74a0c6d",
   "metadata": {},
   "outputs": [],
   "source": [
    "fig = plt.figure()\n",
    "ax = fig.add_subplot(111, projection='3d')\n",
    "\n",
    "t=np.linspace(-2*np.pi,2*np.pi,100)\n",
    "plt.plot(1+np.cos(t),np.sin(t),2*np.sin(t/2), \"r.\", label=\"Viviani's curve\") \n",
    "plt.legend()\n",
    "plt.show()"
   ]
  },
  {
   "cell_type": "markdown",
   "id": "1156c63f-5a4a-4db4-b803-ec8b46fda0bd",
   "metadata": {},
   "source": [
    "### Surfaces"
   ]
  },
  {
   "cell_type": "code",
   "execution_count": null,
   "id": "d5e14f0f-4bd8-4793-a0c8-da5a5124882b",
   "metadata": {},
   "outputs": [],
   "source": [
    "fig = plt.figure()\n",
    "ax = fig.add_subplot(111, projection='3d')\n",
    "x=np.linspace(-2,2)\n",
    "y=np.linspace(-2,2)\n",
    "X,Y=np.meshgrid(x,y) \n",
    "ax.plot_surface(X,Y,(2+np.cos(np.pi*X))*np.sin(np.pi*Y))\n",
    "plt.show()"
   ]
  },
  {
   "cell_type": "code",
   "execution_count": null,
   "id": "5066f86b-e19c-43bd-93e5-6661405a3916",
   "metadata": {},
   "outputs": [],
   "source": [
    "from matplotlib import cm\n",
    "fig = plt.figure(figsize=(5,5))\n",
    "ax = fig.add_subplot(111, projection='3d')\n",
    "x=np.linspace(-2,2,200)\n",
    "y=np.linspace(-2,2,200)\n",
    "X,Y=np.meshgrid(x,y) \n",
    "\n",
    "surf=ax.plot_surface(X,Y,(2+np.cos(np.pi*X))*np.sin(np.pi*Y), cmap=cm.inferno)\n",
    "fig.colorbar(surf, shrink=1, aspect=5)\n",
    "plt.show()"
   ]
  },
  {
   "cell_type": "markdown",
   "id": "c3a272c7-dee0-4225-bd54-3ce5b0ab2138",
   "metadata": {},
   "source": [
    "## Error graphs"
   ]
  },
  {
   "cell_type": "code",
   "execution_count": null,
   "id": "08a68a6b-7601-45f7-a263-27a14e0a1d81",
   "metadata": {},
   "outputs": [],
   "source": [
    "x=np.linspace(0,10)\n",
    "error_x=np.random.uniform(0,1)\n",
    "\n",
    "f=plt.figure(figsize=(10,8))\n",
    "plt.errorbar(x, x**3, yerr=30, xerr=error_x,  linestyle=\"none\", marker=\"o\", markerfacecolor=\"k\", \n",
    "         markersize=5, ecolor=\"grey\", capsize=3)\n",
    "plt.grid() "
   ]
  },
  {
   "cell_type": "markdown",
   "id": "1de07d9d-6f5a-4629-b3ac-e85ad1514e6a",
   "metadata": {},
   "source": [
    "## Projections"
   ]
  },
  {
   "cell_type": "code",
   "execution_count": null,
   "id": "940e9f75-cd36-4094-adaa-cc7e6ab6a3ef",
   "metadata": {},
   "outputs": [],
   "source": [
    "f=plt.figure(figsize=(8,8))\n",
    "ax = plt.subplot(111, projection='polar')\n",
    "\n",
    "theta=np.linspace(0, 2*np.pi)\n",
    "r=2*(1-np.cos(theta))\n",
    "\n",
    "ax.plot(theta, r)\n",
    "ax.grid(True)"
   ]
  },
  {
   "cell_type": "code",
   "execution_count": null,
   "id": "5658fe69-2eed-4972-82f1-a7b0c1b3b6a3",
   "metadata": {},
   "outputs": [],
   "source": [
    "a=np.linspace(-10,10)\n",
    "b=10**a\n",
    "c = 2 **a\n",
    "f=plt.figure(figsize=(12,8))\n",
    "gs = GridSpec(2,2)\n",
    "\n",
    "plt.subplot(gs[0,0])\n",
    "plt.semilogy(a,b)\n",
    "\n",
    "plt.subplot(gs[0,1])\n",
    "plt.semilogx(b, a)\n",
    "\n",
    "plt.subplot(gs[1,:])\n",
    "plt.loglog(b, c)"
   ]
  },
  {
   "cell_type": "markdown",
   "id": "6955d85d-4d6d-4680-9c96-ac5a19526b2f",
   "metadata": {},
   "source": [
    "## Image Analysis"
   ]
  },
  {
   "cell_type": "code",
   "execution_count": null,
   "id": "4dc45ddc-35fb-4a2a-bbe5-cec8f5d8a076",
   "metadata": {},
   "outputs": [],
   "source": [
    "import matplotlib.image as mpimg"
   ]
  },
  {
   "cell_type": "code",
   "execution_count": null,
   "id": "48c712b6-bec8-41a7-a68d-1fe4c6346573",
   "metadata": {},
   "outputs": [],
   "source": [
    "img=mpimg.imread('pleyadesM45.jpg') #Read the image"
   ]
  },
  {
   "cell_type": "code",
   "execution_count": null,
   "id": "731cffc3-6083-4849-9f77-a76a243024f2",
   "metadata": {},
   "outputs": [],
   "source": [
    "print(img)\n",
    "print(img.shape)"
   ]
  },
  {
   "cell_type": "code",
   "execution_count": null,
   "id": "63b6f132-e0fc-4e74-b552-edc62f23462b",
   "metadata": {},
   "outputs": [],
   "source": [
    "plt.imshow(img)\n",
    "plt.grid(False)"
   ]
  },
  {
   "cell_type": "code",
   "execution_count": null,
   "id": "ce4795a6-ad5e-4c67-8021-33a3232be38c",
   "metadata": {},
   "outputs": [],
   "source": [
    "lum_img = img[:,:,0] # Red\n",
    "print(lum_img)\n",
    "print(lum_img.shape)\n",
    "plt.imshow(lum_img)"
   ]
  },
  {
   "cell_type": "code",
   "execution_count": null,
   "id": "4e6f4814-bc5f-42a9-ad12-8080115dd979",
   "metadata": {},
   "outputs": [],
   "source": [
    "lum_img = img[:,:,1] # Green\n",
    "plt.imshow(lum_img)"
   ]
  },
  {
   "cell_type": "code",
   "execution_count": null,
   "id": "01888486-a2d2-4ded-9afb-132481dbbf2f",
   "metadata": {},
   "outputs": [],
   "source": [
    "lum_img = img[:,:,2] # Blue\n",
    "plt.imshow(lum_img)"
   ]
  },
  {
   "cell_type": "code",
   "execution_count": null,
   "id": "69ee5ee3-f057-4b38-99d6-e04e8f85bc20",
   "metadata": {},
   "outputs": [],
   "source": [
    "lum_img = img[:,:,2]\n",
    "f=plt.figure(figsize=(8,8))\n",
    "result=plt.imshow(lum_img)\n",
    "result.set_cmap('coolwarm')\n",
    "plt.grid(False)\n",
    "plt.colorbar()\n",
    "# Veritasium Led Azul"
   ]
  },
  {
   "cell_type": "code",
   "execution_count": null,
   "id": "bbe11543-fb59-4ad1-b823-66e973863274",
   "metadata": {},
   "outputs": [],
   "source": [
    "lum_img = np.mean(img, axis=2)\n",
    "a =plt.hist(lum_img.reshape(50505,), bins=50)\n",
    "plt.vlines(np.mean(lum_img), ymin=0, ymax =3500, color=\"r\")\n",
    "plt.vlines(np.mean(lum_img) + 2*np.std(lum_img), ymin=0, ymax =3500, color=\"r\")"
   ]
  },
  {
   "cell_type": "code",
   "execution_count": null,
   "id": "869cb046-bcad-475f-935b-ccfc4699c015",
   "metadata": {},
   "outputs": [],
   "source": [
    "result = plt.imshow(lum_img)\n",
    "result.set_cmap('coolwarm')\n",
    "test = plt.contourf(lum_img, [180, np.max(lum_img)], alpha=1)"
   ]
  },
  {
   "cell_type": "code",
   "execution_count": null,
   "id": "1c7dcde4-5fd5-40ef-bbe4-4a8d5bed9fec",
   "metadata": {},
   "outputs": [],
   "source": [
    "len(test.allsegs[0])"
   ]
  },
  {
   "cell_type": "markdown",
   "id": "645a1801-fa4f-4a87-8000-5f589826fecd",
   "metadata": {},
   "source": [
    "### Exercise\n",
    "- Try to hide all \"bright\" stars from the previous image.\n",
    "- Do you have any idea about how to count the number of stars in this image?"
   ]
  },
  {
   "cell_type": "markdown",
   "id": "42dbe296-721f-486e-bcfb-785d66d7f80c",
   "metadata": {},
   "source": [
    "## Image interpolation"
   ]
  },
  {
   "cell_type": "code",
   "execution_count": null,
   "id": "87486f1b-2ab6-49a0-ba92-cffe0b3e0832",
   "metadata": {},
   "outputs": [],
   "source": [
    "from PIL import Image\n",
    "img = Image.open('pleyadesM45.jpg')\n",
    "img.thumbnail((100, 100)) \n",
    "\n",
    "imgplot = plt.imshow(img)"
   ]
  },
  {
   "cell_type": "code",
   "execution_count": null,
   "id": "0c03162e-716a-4b73-bbe9-554d9875e4f5",
   "metadata": {},
   "outputs": [],
   "source": [
    "imgplot = plt.imshow(img, interpolation=\"nearest\")"
   ]
  },
  {
   "cell_type": "code",
   "execution_count": null,
   "id": "738f3657-2585-4652-9ca2-bc6538fc428c",
   "metadata": {},
   "outputs": [],
   "source": [
    "imgplot = plt.imshow(img, interpolation=\"bicubic\")"
   ]
  },
  {
   "cell_type": "markdown",
   "id": "2f5cd47e-1d5b-450a-8eb5-66718dd03e37",
   "metadata": {},
   "source": [
    "## Image Convolution"
   ]
  },
  {
   "cell_type": "code",
   "execution_count": null,
   "id": "6254f41a-094a-43b1-a6c3-aa29303fa260",
   "metadata": {},
   "outputs": [],
   "source": [
    "#Define some example kernels\n",
    "kernels = {\n",
    "    \"Identity\": np.array([[0, 0, 0],\n",
    "                          [0, 1, 0],\n",
    "                          [0, 0, 0]]),\n",
    "    \"Edge Detection\": np.array([[-1, -1, -1],\n",
    "                                [-1,  8, -1],\n",
    "                                [-1, -1, -1]]),\n",
    "    \"Sharpen\": np.array([[0, -1,  0],\n",
    "                         [-1, 5, -1],\n",
    "                         [0, -1,  0]]),\n",
    "    \"Box Blur\": np.array([[1/9, 1/9, 1/9],\n",
    "                          [1/9, 1/9, 1/9],\n",
    "                          [1/9, 1/9, 1/9]]),\n",
    "    \"Gaussian Blur\": np.array([[1/16, 2/16, 1/16],\n",
    "                               [2/16, 4/16, 2/16],\n",
    "                               [1/16, 2/16, 1/16]])\n",
    "}"
   ]
  },
  {
   "cell_type": "code",
   "execution_count": null,
   "id": "9bdaf2b8-e662-4359-8bc1-1ffdce7ac09e",
   "metadata": {},
   "outputs": [],
   "source": [
    "from scipy.signal import convolve2d # Method for doing convolutions"
   ]
  },
  {
   "cell_type": "code",
   "execution_count": null,
   "id": "bdf90803-cccb-4427-9e81-a27b018fcdaf",
   "metadata": {},
   "outputs": [],
   "source": [
    "img=mpimg.imread('pleyadesM45.jpg') #Read the image"
   ]
  },
  {
   "cell_type": "code",
   "execution_count": null,
   "id": "661e9bf9-d5c6-415a-b454-583d019b8d1d",
   "metadata": {},
   "outputs": [],
   "source": [
    "convolved = convolve2d(img, kernels[\"Identity\"], \n",
    "                       mode='same', boundary='symm') # An error"
   ]
  },
  {
   "cell_type": "code",
   "execution_count": null,
   "id": "2499e023-ba74-472c-9346-f7ddd5440c17",
   "metadata": {},
   "outputs": [],
   "source": [
    "img2 = np.sum(img, axis=2) /3\n",
    "img2.shape"
   ]
  },
  {
   "cell_type": "code",
   "execution_count": null,
   "id": "60036e0b-e197-43ca-9db7-2b0bf04bd84b",
   "metadata": {},
   "outputs": [],
   "source": [
    "convolved = convolve2d(img2, kernels[\"Identity\"], \n",
    "                       mode='same', boundary='symm') # An error"
   ]
  },
  {
   "cell_type": "code",
   "execution_count": null,
   "id": "5d64b4c4-2328-437f-a238-4587956062ab",
   "metadata": {},
   "outputs": [],
   "source": [
    "def apply_and_display_convolution(image, kernel_name):\n",
    "    kernel = kernels[kernel_name]\n",
    "    \n",
    "    # Apply convolution\n",
    "    convolved = signal.convolve2d(image, kernel, mode='same', boundary='symm')\n",
    "    \n",
    "    # Display results\n",
    "    fig, (ax1, ax2) = plt.subplots(1, 2, figsize=(16, 8))\n",
    "    \n",
    "    ax1.imshow(image, cmap='gray')\n",
    "    ax1.set_title('Original Image')\n",
    "    ax1.axis('off')\n",
    "    \n",
    "    ax2.imshow(convolved, cmap='gray')\n",
    "    ax2.set_title(f'After {kernel_name} Convolution')\n",
    "    ax2.axis('off')\n",
    "    \n",
    "    plt.show()\n",
    "    \n",
    "    # Display the kernel\n",
    "    print(f\"{kernel_name} Kernel:\")\n",
    "    print(kernel)"
   ]
  },
  {
   "cell_type": "code",
   "execution_count": null,
   "id": "46d4d587-3d5f-49d1-9ccb-6c4ea77cca1e",
   "metadata": {},
   "outputs": [],
   "source": [
    "apply_and_display_convolution(img2, \"Identity\")"
   ]
  },
  {
   "cell_type": "code",
   "execution_count": null,
   "id": "5d3ae316-a4f5-422e-ab51-7db732952f6d",
   "metadata": {},
   "outputs": [],
   "source": [
    "apply_and_display_convolution(img2, \"Edge Detection\")"
   ]
  },
  {
   "cell_type": "code",
   "execution_count": null,
   "id": "97135b90-4c17-4645-a0d4-37ab4e6a302a",
   "metadata": {},
   "outputs": [],
   "source": [
    "apply_and_display_convolution(img2, \"Sharpen\")"
   ]
  },
  {
   "cell_type": "code",
   "execution_count": null,
   "id": "618508c0-0ee7-4399-a74a-b1584a0dfe06",
   "metadata": {},
   "outputs": [],
   "source": [
    "apply_and_display_convolution(img2, \"Box Blur\")"
   ]
  },
  {
   "cell_type": "code",
   "execution_count": null,
   "id": "8cebb165-a4c9-4679-acdc-180e91f27342",
   "metadata": {},
   "outputs": [],
   "source": [
    "apply_and_display_convolution(img2, \"Gaussian Blur\")"
   ]
  },
  {
   "cell_type": "markdown",
   "id": "0ba2b812-29a6-49fe-9781-39ee06abe819",
   "metadata": {},
   "source": [
    "## Animations"
   ]
  },
  {
   "cell_type": "code",
   "execution_count": null,
   "id": "f5640d20-445b-4a92-8fa6-989c5601c20a",
   "metadata": {},
   "outputs": [],
   "source": [
    "# Probably does not work natively on Jupyter\n",
    "import matplotlib.animation as animation \n",
    "def anima(num, data, line):\n",
    "    line.set_data(data[:2, :num])\n",
    "    line.set_3d_properties(data[2, :num])\n",
    "    return line,\n",
    "fig = plt.figure()\n",
    "ax = fig.add_subplot(111, projection='3d')\n",
    "t=np.linspace(-2*np.pi,2*np.pi,100)\n",
    "x=1+np.cos(t)\n",
    "y=np.sin(t)\n",
    "z=2*np.sin(t/2)\n",
    "data=np.vstack((x,y,z)) \n",
    "\n",
    "ax.set_xlim3d(-2, 2)\n",
    "ax.set_ylim3d(-2, 2)\n",
    "ax.set_zlim3d(-2, 2)\n",
    "\n",
    "lines, = ax.plot([],[],[], \"r-\")\n",
    "line_ani = animation.FuncAnimation(fig, anima, 100, fargs=(data, lines),\n",
    "    interval=100, blit=True)\n",
    "plt.show()"
   ]
  },
  {
   "cell_type": "code",
   "execution_count": null,
   "id": "51a3caa6-2b6d-4125-9681-7cd84c70412d",
   "metadata": {},
   "outputs": [],
   "source": [
    "def just_a_point(num,data,line):\n",
    "    line.set_data(data[0][num], data[1][num])\n",
    "    line.set_3d_properties(data[2][num])    \n",
    "    return line,\n",
    "\n",
    "def clear(line):\n",
    "    line.set_data([], [])\n",
    "    line.set_3d_properties([])    \n",
    "    return line,\n",
    "\n",
    "fig = plt.figure()\n",
    "ax = fig.add_subplot(111, projection='3d')\n",
    "t=np.linspace(-2*np.pi,2*np.pi,100)\n",
    "x=1+np.cos(t)\n",
    "y=np.sin(t)\n",
    "z=2*np.sin(t/2)\n",
    "data=np.vstack((x,y,z)) \n",
    "\n",
    "ax.set_xlim3d(-2, 2)\n",
    "ax.set_ylim3d(-2, 2)\n",
    "ax.set_zlim3d(-2, 2)\n",
    "\n",
    "lines, = ax.plot([],[],[], \"r-\")\n",
    "lines2, = ax.plot([],[],[], \"ro\")\n",
    "line_ani2 = animation.FuncAnimation(fig, just_a_point, 100, fargs=(data, lines2),\n",
    "                                   interval=100, blit=False, init_func=lambda: clear(lines2))\n",
    "line_ani = animation.FuncAnimation(fig, anima, 100, fargs=(data, lines),\n",
    "    interval=100, blit=False)\n",
    "\n",
    "plt.show()"
   ]
  },
  {
   "cell_type": "markdown",
   "id": "66f33515-a14a-46c3-9256-e9561f7e5363",
   "metadata": {},
   "source": [
    "## Exercise\n",
    "- Try to animate the random walk that you previously did."
   ]
  },
  {
   "cell_type": "markdown",
   "id": "60727641-bf95-4800-a3b2-50ece7e114c3",
   "metadata": {},
   "source": [
    "### Fourier Transform"
   ]
  },
  {
   "cell_type": "code",
   "execution_count": null,
   "id": "e17b1a1b-7227-428d-9254-0e5eb1b6952b",
   "metadata": {},
   "outputs": [],
   "source": [
    "import numpy as np\n",
    "import matplotlib.pyplot as plt\n",
    "\n",
    "# Set random seed for reproducibility\n",
    "np.random.seed(125)\n",
    "\n",
    "# Time vector\n",
    "t = np.linspace(0, 1, 1000, endpoint=False)\n",
    "\n",
    "# Create a signal with multiple frequency components\n",
    "freq1, freq2, freq3 = 5, 10, 20\n",
    "signal = (np.sin(2 * np.pi * freq1 * t) + \n",
    "          0.5 * np.sin(2 * np.pi * freq2 * t) + \n",
    "          0.25 * np.sin(2 * np.pi * freq3 * t))\n",
    "\n",
    "# Add some noise\n",
    "noise = np.random.normal(0, 0.1, signal.shape)\n",
    "noisy_signal = signal + noise\n",
    "\n",
    "plt.plot(t, noisy_signal)"
   ]
  },
  {
   "cell_type": "code",
   "execution_count": null,
   "id": "9839762d-0307-4cf2-b0b0-b5ba5b8f38b6",
   "metadata": {},
   "outputs": [],
   "source": [
    "help(np.fft.fftfreq)"
   ]
  },
  {
   "cell_type": "code",
   "execution_count": null,
   "id": "ec83c7c2-2835-4355-a6ec-8b938a9f40c1",
   "metadata": {},
   "outputs": [],
   "source": [
    "# Compute the Fast Fourier Transform (FFT)\n",
    "fft_result = np.fft.fft(noisy_signal)\n",
    "fft_freq = np.fft.fftfreq(len(t), t[1] - t[0])\n",
    "\n",
    "# Plot the original signal and its FFT\n",
    "plt.figure(figsize=(12, 8))\n",
    "\n",
    "plt.subplot(2, 1, 1)\n",
    "plt.plot(t, noisy_signal)\n",
    "plt.title('Original Noisy Signal')\n",
    "plt.xlabel('Time')\n",
    "plt.ylabel('Amplitude')\n",
    "\n",
    "plt.subplot(2, 1, 2)\n",
    "plt.plot(fft_freq[:len(fft_freq)//2], np.abs(fft_result)[:len(fft_freq)//2])\n",
    "plt.title('Frequency Spectrum (FFT)')\n",
    "plt.xlabel('Frequency')\n",
    "plt.ylabel('Magnitude')\n",
    "plt.xlim(0, 30)\n",
    "\n",
    "plt.tight_layout()\n",
    "plt.show()"
   ]
  },
  {
   "cell_type": "code",
   "execution_count": null,
   "id": "fee72463-44a3-42f6-bbcf-be64e3ab5509",
   "metadata": {},
   "outputs": [],
   "source": []
  }
 ],
 "metadata": {
  "kernelspec": {
   "display_name": "Python 3 (ipykernel)",
   "language": "python",
   "name": "python3"
  },
  "language_info": {
   "codemirror_mode": {
    "name": "ipython",
    "version": 3
   },
   "file_extension": ".py",
   "mimetype": "text/x-python",
   "name": "python",
   "nbconvert_exporter": "python",
   "pygments_lexer": "ipython3",
   "version": "3.12.6"
  }
 },
 "nbformat": 4,
 "nbformat_minor": 5
}
