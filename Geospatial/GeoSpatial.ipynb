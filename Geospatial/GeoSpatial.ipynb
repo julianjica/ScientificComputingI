{
 "cells": [
  {
   "cell_type": "markdown",
   "id": "a419e1f4-5e8b-4b29-a1da-46fd3427f22a",
   "metadata": {},
   "source": [
    "# Geospatial Python\n",
    "This class will be dedicated to work with geospatial information and perform geospatial analysis. We will need a couple of libraries for that. If you use `pip`, you may run the following command (on bash)\n",
    "```bash\n",
    "pip install folium\n",
    "```"
   ]
  },
  {
   "cell_type": "code",
   "execution_count": null,
   "id": "92dce60f-2ee1-4174-bbe1-16aef0d0ae72",
   "metadata": {},
   "outputs": [],
   "source": [
    "import folium"
   ]
  },
  {
   "cell_type": "markdown",
   "id": "33edcf5e-5e33-4c21-ae1f-7c3569842026",
   "metadata": {},
   "source": [
    "Create a basic map"
   ]
  },
  {
   "cell_type": "code",
   "execution_count": null,
   "id": "ce53fd44-754d-477f-b404-ec2f09773d83",
   "metadata": {},
   "outputs": [],
   "source": [
    "m = folium.Map(location=[4.7110, -74.0721], zoom_start=13)\n",
    "folium.Marker([4.7110, -74.0721], popup=\"Bogota\").add_to(m)\n",
    "m"
   ]
  },
  {
   "cell_type": "markdown",
   "id": "29219763-54c4-41a2-837e-4fde79aeb336",
   "metadata": {},
   "source": [
    "Circles"
   ]
  },
  {
   "cell_type": "code",
   "execution_count": null,
   "id": "88afc67a-b7d1-44bd-b647-d35004d24cfb",
   "metadata": {},
   "outputs": [],
   "source": [
    "folium.CircleMarker(\n",
    "    location=[4.7110, -74.0721],\n",
    "    radius=30,\n",
    "    popup=\"Circle\",\n",
    "    color=\"blue\",\n",
    "    fill=True,\n",
    "    fill_color=\"cyan\"\n",
    ").add_to(m)\n",
    "m"
   ]
  },
  {
   "cell_type": "markdown",
   "id": "8b6ba6c0-28a3-44ba-a734-63990a230c50",
   "metadata": {},
   "source": [
    "We can use a Pandas dataframe to add plenty of places to our map."
   ]
  },
  {
   "cell_type": "code",
   "execution_count": null,
   "id": "56e59bc1-a5a7-4fcb-a958-65829d1a7298",
   "metadata": {},
   "outputs": [],
   "source": [
    "import pandas as pd"
   ]
  },
  {
   "cell_type": "code",
   "execution_count": null,
   "id": "c47af30f-8105-44f1-aac4-d776154ee359",
   "metadata": {},
   "outputs": [],
   "source": [
    "data = {\n",
    "    'City': ['New York', 'London', 'Tokyo'],\n",
    "    'Latitude': [40.7128, 51.5074, 35.6895],\n",
    "    'Longitude': [-74.0060, -0.1278, 139.6917]\n",
    "}\n",
    "\n",
    "df = pd.DataFrame(data)\n",
    "\n",
    "m = folium.Map(location=[20, 0], zoom_start=2)\n",
    "\n",
    "for _, row in df.iterrows():\n",
    "    folium.Marker(\n",
    "        location=[row['Latitude'], row['Longitude']],\n",
    "        popup=row['City']\n",
    "    ).add_to(m)\n",
    "\n",
    "m"
   ]
  },
  {
   "cell_type": "markdown",
   "id": "921c2c53-2136-4677-92b1-547866ffedf3",
   "metadata": {},
   "source": [
    "Of course, we can include more information:"
   ]
  },
  {
   "cell_type": "code",
   "execution_count": null,
   "id": "a8504c73-a450-4259-b332-1e21f6daa0ce",
   "metadata": {},
   "outputs": [],
   "source": [
    "# Sample data: major cities\n",
    "data = {\n",
    "    'City': ['New York', 'London', 'Tokyo', 'Sydney', 'Cairo'],\n",
    "    'Lat': [40.7128, 51.5074, 35.6895, -33.8688, 30.0444],\n",
    "    'Lon': [-74.0060, -0.1278, 139.6917, 151.2093, 31.2357],\n",
    "    'Population (M)': [8.4, 9.0, 37.4, 5.3, 9.5]\n",
    "}\n",
    "\n",
    "df = pd.DataFrame(data)\n",
    "\n",
    "# Create map centered around Europe\n",
    "m = folium.Map(location=[30, 0], zoom_start=2)\n",
    "\n",
    "# Add city markers\n",
    "for _, row in df.iterrows():\n",
    "    folium.Marker(\n",
    "        location=[row['Lat'], row['Lon']],\n",
    "        popup=f\"{row['City']} - Pop: {row['Population (M)']}M\",\n",
    "        tooltip=row['City']\n",
    "    ).add_to(m)\n",
    "\n",
    "m"
   ]
  },
  {
   "cell_type": "markdown",
   "id": "f656586f-eb23-4258-8cad-29938b353423",
   "metadata": {},
   "source": [
    "We can import example data from the `folium` dataset. You can find all the available datasets here https://github.com/python-visualization/folium/tree/main/examples/data"
   ]
  },
  {
   "cell_type": "code",
   "execution_count": null,
   "id": "38ed589c-ea68-4d3e-877c-bef326ac0793",
   "metadata": {},
   "outputs": [],
   "source": [
    "import json\n",
    "import requests"
   ]
  },
  {
   "cell_type": "code",
   "execution_count": null,
   "id": "ca91f724-8a8c-4617-9d45-bf8f7fe4c2cb",
   "metadata": {},
   "outputs": [],
   "source": [
    "# Download GeoJSON of world countries\n",
    "url = 'https://raw.githubusercontent.com/python-visualization/folium/main/examples/data/world-countries.json'\n",
    "geojson_data = requests.get(url).json()"
   ]
  },
  {
   "cell_type": "code",
   "execution_count": null,
   "id": "bf6798d3-dd93-4324-9d17-563ccbb03ae1",
   "metadata": {},
   "outputs": [],
   "source": [
    "m = folium.Map(location=[0, 0], zoom_start=2)\n",
    "\n",
    "folium.GeoJson(\n",
    "    geojson_data,\n",
    "    name='World Countries'\n",
    ").add_to(m)\n",
    "\n",
    "m"
   ]
  },
  {
   "cell_type": "markdown",
   "id": "872437ec-b505-4464-888d-f348f56829d3",
   "metadata": {},
   "source": [
    "Choropleth mapping"
   ]
  },
  {
   "cell_type": "code",
   "execution_count": null,
   "id": "5e0bb7b7-a425-4353-84a5-5f1f25b1a2bd",
   "metadata": {},
   "outputs": [],
   "source": [
    "# Create fake data for 5 countries\n",
    "data = {\n",
    "    'Country': ['FRA', 'BRA', 'IND', 'CHN', 'USA'],\n",
    "    'Score': [65, 80, 70, 90, 85]\n",
    "}\n",
    "df_score = pd.DataFrame(data)"
   ]
  },
  {
   "cell_type": "code",
   "execution_count": null,
   "id": "d2ca68c1-ddda-46d2-b4d8-813ed9dc329d",
   "metadata": {},
   "outputs": [],
   "source": [
    "m = folium.Map(location=[0, 0], zoom_start=2)\n",
    "\n",
    "folium.Choropleth(\n",
    "    geo_data=geojson_data,\n",
    "    data=df_score,\n",
    "    columns=['Country', 'Score'],\n",
    "    key_on='feature.id',  # matches ISO3 codes\n",
    "    fill_color='YlGnBu',\n",
    "    fill_opacity=0.7,\n",
    "    line_opacity=0.2,\n",
    "    legend_name='Sample Score by Country'\n",
    ").add_to(m)\n",
    "\n",
    "m"
   ]
  },
  {
   "cell_type": "markdown",
   "id": "aa6ba630-eea8-455e-bad9-92476ab135bd",
   "metadata": {},
   "source": [
    "Now, let us go more local, using graphs."
   ]
  },
  {
   "cell_type": "code",
   "execution_count": null,
   "id": "be667b45-dc01-4ce6-9761-4a92559088e7",
   "metadata": {},
   "outputs": [],
   "source": [
    "import osmnx as ox"
   ]
  },
  {
   "cell_type": "code",
   "execution_count": null,
   "id": "d2daf9e4-ebf8-4a03-9897-777992b0bf62",
   "metadata": {},
   "outputs": [],
   "source": [
    "place_name = \"Bogotá, Colombia\" # Name place\n",
    "graph = ox.graph_from_place(place_name, network_type='all')"
   ]
  },
  {
   "cell_type": "markdown",
   "id": "1be5e75a-5870-43f9-94c3-189394925511",
   "metadata": {},
   "source": [
    "We convert the graph to nodes and edges GeoDataFrames"
   ]
  },
  {
   "cell_type": "code",
   "execution_count": null,
   "id": "5132c86c-c5bb-4b58-a1c5-b2e79e454282",
   "metadata": {},
   "outputs": [],
   "source": [
    "nodes, edges = ox.graph_to_gdfs(graph)"
   ]
  },
  {
   "cell_type": "markdown",
   "id": "319d3846-abcb-449c-b0f1-b5a6a7ecf967",
   "metadata": {},
   "source": [
    "and use them to plot the street network."
   ]
  },
  {
   "cell_type": "code",
   "execution_count": null,
   "id": "62a8ffaa-527e-439e-8752-7f3a4347890e",
   "metadata": {},
   "outputs": [],
   "source": [
    "import matplotlib.pyplot as plt"
   ]
  },
  {
   "cell_type": "code",
   "execution_count": null,
   "id": "ba3c5460-c580-408d-bda7-a2e2dff71788",
   "metadata": {},
   "outputs": [],
   "source": [
    "fig, ax = plt.subplots(figsize=(10, 10))\n",
    "edges.plot(ax=ax, linewidth=0.5, color='black')\n",
    "ax.set_title('Street Network of Bogotá')\n",
    "plt.show()"
   ]
  },
  {
   "cell_type": "markdown",
   "id": "bd9f3dac-2fe3-44fd-9898-edeac9ac29a1",
   "metadata": {},
   "source": [
    "Now let us calculate some (driving) distances on Chapinero."
   ]
  },
  {
   "cell_type": "code",
   "execution_count": null,
   "id": "8398155b-1436-41ba-a381-b790feb82da7",
   "metadata": {},
   "outputs": [],
   "source": [
    "# Use a small, specific neighborhood to keep memory low\n",
    "place_name = \"Chapinero, Bogotá, Colombia\"\n",
    "\n",
    "# Get the drivable street network\n",
    "G = ox.graph_from_place(place_name, network_type='drive', simplify=True)"
   ]
  },
  {
   "cell_type": "code",
   "execution_count": null,
   "id": "4f8f4fb4-8715-41f8-a6df-663148250c12",
   "metadata": {},
   "outputs": [],
   "source": [
    "# Simple visualization of the graph\n",
    "ox.plot_graph(G, bgcolor='white', node_size=5, edge_color='gray', edge_linewidth=0.5)"
   ]
  },
  {
   "cell_type": "markdown",
   "id": "8329dcc0-ef54-42df-951b-5dae36c755f5",
   "metadata": {},
   "source": [
    "We define two places:"
   ]
  },
  {
   "cell_type": "code",
   "execution_count": null,
   "id": "682f54b3-8aed-44fc-9685-8afac1338d8c",
   "metadata": {},
   "outputs": [],
   "source": [
    "# Point A: Éxito\n",
    "orig_lat, orig_lon = 4.6392, -74.0631\n",
    "\n",
    "# Point B: Somewhere in Chapinero\n",
    "dest_lat, dest_lon = 4.6483, -74.0586"
   ]
  },
  {
   "cell_type": "code",
   "execution_count": null,
   "id": "d34cb1ef-0471-4e99-abd0-2fcdd24dfc79",
   "metadata": {},
   "outputs": [],
   "source": [
    "# Get nearest nodes to origin and destination points\n",
    "orig_node = ox.nearest_nodes(G, orig_lon, orig_lat)\n",
    "dest_node = ox.nearest_nodes(G, dest_lon, dest_lat)"
   ]
  },
  {
   "cell_type": "code",
   "execution_count": null,
   "id": "f95cc9ae-9597-4e0b-b194-3b44fb1be8bb",
   "metadata": {},
   "outputs": [],
   "source": [
    "# Get the shortest distance\n",
    "# for which we use networkx\n",
    "import networkx as nx"
   ]
  },
  {
   "cell_type": "code",
   "execution_count": null,
   "id": "376dab2c-6c7e-4165-acc6-d69ae338688a",
   "metadata": {},
   "outputs": [],
   "source": [
    "shortest_path = nx.shortest_path(G, orig_node, dest_node, weight='length')\n",
    "length = nx.shortest_path_length(G, orig_node, dest_node, weight='length')"
   ]
  },
  {
   "cell_type": "code",
   "execution_count": null,
   "id": "dc3ae3c3-a3bb-45a5-9337-1914193ab818",
   "metadata": {},
   "outputs": [],
   "source": [
    "# and we visualize it on the map\n",
    "fig, ax = ox.plot_graph_route(G, shortest_path, route_color='red', route_linewidth=3, node_size=0)\n",
    "print(f\"Shortest path distance: {length:.2f} meters\")"
   ]
  },
  {
   "cell_type": "code",
   "execution_count": null,
   "id": "ba30cf89-7fd0-4b70-a688-38f23e223b2e",
   "metadata": {},
   "outputs": [],
   "source": [
    "# Get coordinates of each node in the path\n",
    "route_coords = [(G.nodes[node]['y'], G.nodes[node]['x']) for node in shortest_path]\n",
    "route_coords"
   ]
  },
  {
   "cell_type": "code",
   "execution_count": null,
   "id": "66544cfd-eae9-4b90-8bbf-657d14c60dbe",
   "metadata": {},
   "outputs": [],
   "source": [
    "# Center the map near the origin\n",
    "m = folium.Map(location=route_coords[0], zoom_start=15)\n",
    "\n",
    "# Add the route as a line\n",
    "folium.PolyLine(route_coords, color=\"red\", weight=5, opacity=0.8).add_to(m)\n",
    "\n",
    "# Add origin and destination markers\n",
    "folium.Marker(location=route_coords[0], popup=\"Start\", icon=folium.Icon(color='green')).add_to(m)\n",
    "folium.Marker(location=route_coords[-1], popup=\"End\", icon=folium.Icon(color='blue')).add_to(m)\n",
    "\n",
    "m"
   ]
  }
 ],
 "metadata": {
  "kernelspec": {
   "display_name": "Python 3 (ipykernel)",
   "language": "python",
   "name": "python3"
  },
  "language_info": {
   "codemirror_mode": {
    "name": "ipython",
    "version": 3
   },
   "file_extension": ".py",
   "mimetype": "text/x-python",
   "name": "python",
   "nbconvert_exporter": "python",
   "pygments_lexer": "ipython3",
   "version": "3.13.2"
  }
 },
 "nbformat": 4,
 "nbformat_minor": 5
}
