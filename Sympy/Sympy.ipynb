{
 "cells": [
  {
   "cell_type": "markdown",
   "id": "aa1e4ab3-36fb-462d-8a1f-d235534e4e82",
   "metadata": {},
   "source": [
    "# Sympy\n",
    "Symbolic Python library. Useful for symbolic calculations."
   ]
  },
  {
   "cell_type": "code",
   "execution_count": null,
   "id": "74823211-98a6-4a5a-9a72-a8f272779173",
   "metadata": {},
   "outputs": [],
   "source": [
    "import sympy as sp"
   ]
  },
  {
   "cell_type": "code",
   "execution_count": null,
   "id": "fdc24efc-9185-4516-89ad-dc3f274b655e",
   "metadata": {},
   "outputs": [],
   "source": [
    "sp.init_printing(use_unicode=True) # Cool printing (by default)"
   ]
  },
  {
   "cell_type": "markdown",
   "id": "69c4291d-41ac-4f52-9441-907a2d114e1a",
   "metadata": {},
   "source": [
    "### Polynomials"
   ]
  },
  {
   "cell_type": "code",
   "execution_count": null,
   "id": "4cd2da70-8adb-4c1b-a69c-b4f0173c29e5",
   "metadata": {},
   "outputs": [],
   "source": [
    "x,y=sp.symbols(\"x y\")"
   ]
  },
  {
   "cell_type": "code",
   "execution_count": null,
   "id": "8e776c77-31f0-4d4c-b4b5-a8c39f1a2cb5",
   "metadata": {},
   "outputs": [],
   "source": [
    "z=(x+y)**2\n",
    "z"
   ]
  },
  {
   "cell_type": "markdown",
   "id": "b821aee8-f8a2-4973-9f20-37c8781f6828",
   "metadata": {},
   "source": [
    "We can expand this binomial squared."
   ]
  },
  {
   "cell_type": "code",
   "execution_count": null,
   "id": "0f53b50d-6657-4a98-b20e-38696fb8a7c1",
   "metadata": {},
   "outputs": [],
   "source": [
    "sp.expand(z)"
   ]
  },
  {
   "cell_type": "markdown",
   "id": "fd0fe787-2a10-4a24-a8eb-6a21b25e5fc7",
   "metadata": {},
   "source": [
    "Or maybe factorize other polynomial."
   ]
  },
  {
   "cell_type": "code",
   "execution_count": null,
   "id": "9350f4a2-f5a9-4e7e-99ef-6ffd1097efb8",
   "metadata": {},
   "outputs": [],
   "source": [
    "z=x**3-3*x**2*y-3*x*y**2-y**3+6*x*y**2"
   ]
  },
  {
   "cell_type": "code",
   "execution_count": null,
   "id": "5a0f9e13-cfd5-4fa9-9cff-e7de042042bf",
   "metadata": {},
   "outputs": [],
   "source": [
    "sp.factor(z)"
   ]
  },
  {
   "cell_type": "markdown",
   "id": "92e37d1d-ca8a-4c12-bd23-fc77b974c5bc",
   "metadata": {},
   "source": [
    "`collect` is useful when one wants to find the coefficients of a polynomial."
   ]
  },
  {
   "cell_type": "code",
   "execution_count": null,
   "id": "9f06b8ac-4359-4fc2-a6c0-ba65ac29dc4f",
   "metadata": {},
   "outputs": [],
   "source": [
    "a,b,c=sp.symbols(\"a b c\")\n",
    "sp.collect(a*x**2 + b*x**2 + a*x - b*x + c, x)"
   ]
  },
  {
   "cell_type": "markdown",
   "id": "115be9ed-346d-49ff-94a3-88063a6742bf",
   "metadata": {},
   "source": [
    "### Polynomial roots\n",
    "Finding roots of polynomials is easy for polynomials of degree 1 and 2. For 3rd and 4th grade the formulas are really cumbersome, and for degree higher than 5 it is impossible to find a general formula. `sympy` can find roots for polynomials of degree 4 or lower."
   ]
  },
  {
   "cell_type": "code",
   "execution_count": null,
   "id": "fead710f-ece2-4b80-a624-7c4f5a1e6140",
   "metadata": {},
   "outputs": [],
   "source": [
    "sp.solve(x**2-2*x+1,x)"
   ]
  },
  {
   "cell_type": "code",
   "execution_count": null,
   "id": "83e30192-f493-4d4a-bd56-f2450dda3645",
   "metadata": {},
   "outputs": [],
   "source": [
    "sp.solve(x**2+1,x)"
   ]
  },
  {
   "cell_type": "code",
   "execution_count": null,
   "id": "f1192617-29d5-4a6b-863a-0b140bed8a81",
   "metadata": {},
   "outputs": [],
   "source": [
    "sp.solve(3*x**3+2*x+5,x)"
   ]
  },
  {
   "cell_type": "code",
   "execution_count": null,
   "id": "2ea7d310-4de2-4e4c-86ff-58bfc8cf0c41",
   "metadata": {},
   "outputs": [],
   "source": [
    "sp.solve(x**4+3*x**3-2,x)"
   ]
  },
  {
   "cell_type": "code",
   "execution_count": null,
   "id": "50055525-6efa-48f3-bcb4-4d939f2a96c1",
   "metadata": {},
   "outputs": [],
   "source": [
    "sp.solve(x**6-x**4+3*x**3-2,x)"
   ]
  },
  {
   "cell_type": "markdown",
   "id": "96ab6316-a146-49dc-85e6-e3c55803e48d",
   "metadata": {},
   "source": [
    "To find numerical roots, we can use `numpy` (or `scipy`)"
   ]
  },
  {
   "cell_type": "code",
   "execution_count": null,
   "id": "fab8ad14-d813-4ba6-b8ae-b0d08a7c5a9d",
   "metadata": {},
   "outputs": [],
   "source": [
    "import numpy.polynomial.polynomial as poly"
   ]
  },
  {
   "cell_type": "code",
   "execution_count": null,
   "id": "9a5d253f-4869-4da4-aad4-afd77912030e",
   "metadata": {},
   "outputs": [],
   "source": [
    "poly.polyroots([1,0,-1,3,0,0,-2])"
   ]
  },
  {
   "cell_type": "markdown",
   "id": "76489c08-5e67-4c5b-8209-5c124c108f15",
   "metadata": {},
   "source": [
    "`solve` can face other kinds of equations."
   ]
  },
  {
   "cell_type": "code",
   "execution_count": null,
   "id": "432e7441-7c88-4e69-952e-105d3af189af",
   "metadata": {},
   "outputs": [],
   "source": [
    "sp.solve(sp.sin(x),x)"
   ]
  },
  {
   "cell_type": "code",
   "execution_count": null,
   "id": "b1413180-f679-4399-ba6c-d5bcc660ae13",
   "metadata": {},
   "outputs": [],
   "source": [
    "sp.solve(1/(1*x**2)-5,x)"
   ]
  },
  {
   "cell_type": "markdown",
   "id": "98f48376-a79d-4acb-975c-ee3e0741f3ae",
   "metadata": {},
   "source": [
    "### Fractions"
   ]
  },
  {
   "cell_type": "code",
   "execution_count": null,
   "id": "35878ac7-c21e-4bce-a975-79f2d8f1c021",
   "metadata": {},
   "outputs": [],
   "source": [
    "a,b=sp.symbols(\"\\\\Sigma \\\\Omega\") #LaTeX friendly\n",
    "z=x/y+a/b"
   ]
  },
  {
   "cell_type": "code",
   "execution_count": null,
   "id": "d5435ffb-2976-47f4-9152-ac10ea0a0807",
   "metadata": {},
   "outputs": [],
   "source": [
    "z"
   ]
  },
  {
   "cell_type": "code",
   "execution_count": null,
   "id": "1b492a97-0522-4b60-8b74-ac2be417e97d",
   "metadata": {},
   "outputs": [],
   "source": [
    "sp.latex(z)"
   ]
  },
  {
   "cell_type": "code",
   "execution_count": null,
   "id": "9e13b7f5-c357-4983-9d7d-3dc605723475",
   "metadata": {},
   "outputs": [],
   "source": [
    "sp.fraction(sp.together(z))"
   ]
  },
  {
   "cell_type": "markdown",
   "id": "27097d6e-4035-4528-be80-81f111c81151",
   "metadata": {},
   "source": [
    "### Limits"
   ]
  },
  {
   "cell_type": "code",
   "execution_count": null,
   "id": "5d16fb14-2271-484b-a3d7-eb674641694c",
   "metadata": {},
   "outputs": [],
   "source": [
    "x= sp.symbols(\"x\")"
   ]
  },
  {
   "cell_type": "code",
   "execution_count": null,
   "id": "58010b82-07fa-4b48-948c-ede34ce7811d",
   "metadata": {},
   "outputs": [],
   "source": [
    "sp.limit(sp.exp(x)/x, x, sp.oo)"
   ]
  },
  {
   "cell_type": "code",
   "execution_count": null,
   "id": "699283bf-969b-4bf8-a838-51378215c371",
   "metadata": {},
   "outputs": [],
   "source": [
    "sp.limit(sp.sin(x)/x,x,0)"
   ]
  },
  {
   "cell_type": "code",
   "execution_count": null,
   "id": "01eeb1be-bdf5-441c-9225-6003852cd7a6",
   "metadata": {},
   "outputs": [],
   "source": [
    "#Ref: https://math.stackexchange.com/questions/347078/weird-calculus-limit\n",
    "sp.limit((5**x-4**x)/(3**x-2**x),x,0)"
   ]
  },
  {
   "cell_type": "code",
   "execution_count": null,
   "id": "3c8ec8cf-ca8c-4d9e-9b2e-f7367a0174fe",
   "metadata": {},
   "outputs": [],
   "source": [
    "sp.limit((1+1/x)**x,x,sp.oo)"
   ]
  },
  {
   "cell_type": "markdown",
   "id": "aa784a1f-3fdf-4c6a-8c94-67777bc17842",
   "metadata": {},
   "source": [
    "### Derivatives"
   ]
  },
  {
   "cell_type": "code",
   "execution_count": null,
   "id": "ebf8057d-1ec9-4801-b954-fea0ba05500d",
   "metadata": {},
   "outputs": [],
   "source": [
    "sp.diff(sp.sin(x)**2*sp.exp(x),x)"
   ]
  },
  {
   "cell_type": "code",
   "execution_count": null,
   "id": "5aa7e38b-c87b-47bd-a592-8974d5660045",
   "metadata": {},
   "outputs": [],
   "source": [
    "a=sp.diff(sp.sin(x)**2*sp.exp(x),x)\n",
    "a.replace(x,sp.pi/2.)"
   ]
  },
  {
   "cell_type": "markdown",
   "id": "969f6b12-ddea-438e-b625-efd8ec6dcb86",
   "metadata": {},
   "source": [
    "### Integrals"
   ]
  },
  {
   "cell_type": "code",
   "execution_count": null,
   "id": "bd134ff3-5e39-4725-9c41-0981a70564d3",
   "metadata": {},
   "outputs": [],
   "source": [
    "sp.integrate(x**5,x)"
   ]
  },
  {
   "cell_type": "code",
   "execution_count": null,
   "id": "18f714e4-be9b-4c92-9a66-eb42a4859a28",
   "metadata": {},
   "outputs": [],
   "source": [
    "sp.integrate(sp.sqrt(sp.tan(x)), x)"
   ]
  },
  {
   "cell_type": "code",
   "execution_count": null,
   "id": "6ee864dc-db30-4aaa-acd9-632c1691f4bf",
   "metadata": {},
   "outputs": [],
   "source": [
    "sp.integrate(sp.sqrt(sp.tan(x)), (x,0,sp.pi/8.))"
   ]
  },
  {
   "cell_type": "code",
   "execution_count": null,
   "id": "a2ad458b-812e-42a2-a05e-eff5bbb3aa4c",
   "metadata": {},
   "outputs": [],
   "source": [
    "sp.integrate(sp.exp(-x**2), (x,-sp.oo, sp.oo))"
   ]
  },
  {
   "cell_type": "markdown",
   "id": "c0c36508-9d84-41e7-bdc3-ef075f796074",
   "metadata": {},
   "source": [
    "### Ordinary Differential Equations"
   ]
  },
  {
   "cell_type": "code",
   "execution_count": null,
   "id": "3d2a33a7-4a31-4149-9d0b-ca54bd65bb39",
   "metadata": {},
   "outputs": [],
   "source": [
    "f=sp.Function(\"f\")"
   ]
  },
  {
   "cell_type": "markdown",
   "id": "5030aea0-07c8-4aff-aba5-ebe7ecc65632",
   "metadata": {},
   "source": [
    "Let us solve $$f''(x)+f(x)=0$$"
   ]
  },
  {
   "cell_type": "code",
   "execution_count": null,
   "id": "edb2a558-e8a9-48ad-bc77-dd3ce7a27230",
   "metadata": {},
   "outputs": [],
   "source": [
    "sp.dsolve(f(x).diff(x,x)+f(x), f(x))"
   ]
  },
  {
   "cell_type": "markdown",
   "id": "f5d8da28-aadc-4d3c-bfec-4e6ca4b555a0",
   "metadata": {},
   "source": [
    "Now let us solve $$f''(x)-f(x)=e^x$$"
   ]
  },
  {
   "cell_type": "code",
   "execution_count": null,
   "id": "b442273c-c471-48da-b3ef-aba37f294da9",
   "metadata": {},
   "outputs": [],
   "source": [
    "sp.dsolve(f(x).diff(x,x)-f(x)-sp.exp(x), f(x))"
   ]
  },
  {
   "cell_type": "markdown",
   "id": "20d73d7e-20cb-4e04-b2f8-bea2064b5b4b",
   "metadata": {},
   "source": [
    "### Partial Differential Equations"
   ]
  },
  {
   "cell_type": "code",
   "execution_count": null,
   "id": "1eb4272e-e6a7-4bbb-8580-13f4dd4965b6",
   "metadata": {},
   "outputs": [],
   "source": [
    "f = sp.Function('f')\n",
    "u = f(x, y)\n",
    "ux = u.diff(x)\n",
    "uy = u.diff(y)\n",
    "equation = ux+uy\n",
    "equation"
   ]
  },
  {
   "cell_type": "code",
   "execution_count": null,
   "id": "5347682b-d405-4d04-a121-24d719855bdf",
   "metadata": {},
   "outputs": [],
   "source": [
    "m=sp.pdsolve(equation)\n",
    "m"
   ]
  },
  {
   "cell_type": "markdown",
   "id": "c25bd6e5-2c46-4336-b174-3b7b4558a90c",
   "metadata": {},
   "source": [
    "### Matrices"
   ]
  },
  {
   "cell_type": "code",
   "execution_count": null,
   "id": "29846a34-0bb7-4d8c-924b-2869e95a5cce",
   "metadata": {},
   "outputs": [],
   "source": [
    "a,b,c,d=sp.symbols(\"a b c d\")\n",
    "m=sp.Matrix([[a,b], [c,d]])\n",
    "m.eigenvals()"
   ]
  },
  {
   "cell_type": "markdown",
   "id": "bea55a7e-46d3-4524-99f4-fec6aafe00de",
   "metadata": {},
   "source": [
    "### Series\n",
    "#### Taylor Series"
   ]
  },
  {
   "cell_type": "code",
   "execution_count": null,
   "id": "632677a8-75d6-40f8-a323-4ad5b068abb7",
   "metadata": {},
   "outputs": [],
   "source": [
    "f = sp.sin(x)\n",
    "\n",
    "# Compute the Taylor series expansion around x = 0 (Maclaurin series)\n",
    "taylor_series = f.series(x, 0, 10)  # Taylor expansion up to the 9th degree\n",
    "taylor_series"
   ]
  },
  {
   "cell_type": "code",
   "execution_count": null,
   "id": "5f6e0394-9e46-4846-85a8-8be71c9d2fac",
   "metadata": {},
   "outputs": [],
   "source": [
    "taylor_series.simplify()"
   ]
  },
  {
   "cell_type": "code",
   "execution_count": null,
   "id": "6972955b-8460-4f5b-a449-03333ff5f03d",
   "metadata": {},
   "outputs": [],
   "source": [
    "# Convert the symbolic series expression to a numerical function\n",
    "taylor_series_function = sp.lambdify(x, taylor_series.removeO())  # Removing the order term O(x^n)\n",
    "sin_function = sp.lambdify(x, f)"
   ]
  },
  {
   "cell_type": "code",
   "execution_count": null,
   "id": "bb516192-46ca-4d8f-892d-3c8b89b8dd59",
   "metadata": {},
   "outputs": [],
   "source": [
    "sin_function(3.1592)"
   ]
  },
  {
   "cell_type": "markdown",
   "id": "daab422d-9059-4113-bd89-423dae29cb80",
   "metadata": {},
   "source": [
    "#### Fourier Series"
   ]
  },
  {
   "cell_type": "code",
   "execution_count": null,
   "id": "56cb1a6f-0646-4f2d-845f-d25466f485e3",
   "metadata": {},
   "outputs": [],
   "source": [
    "# Define the function f(x) = x in the range (-π, π)\n",
    "f = x\n",
    "\n",
    "# Compute the Fourier series up to the 6th term\n",
    "fourier_series = sp.fourier_series(f, (x, -sp.pi, sp.pi))\n",
    "fourier_series.truncate(10)"
   ]
  },
  {
   "cell_type": "markdown",
   "id": "a879a3ec-5534-406b-9b96-bc140d7f477c",
   "metadata": {},
   "source": [
    "- Plot this fourier series against the original function."
   ]
  },
  {
   "cell_type": "markdown",
   "id": "d9ad7ea0-6c87-47b5-a0fd-4de8e2977d04",
   "metadata": {},
   "source": [
    "### Geometry"
   ]
  },
  {
   "cell_type": "code",
   "execution_count": null,
   "id": "82873c38-d331-4242-af86-f501850998dd",
   "metadata": {},
   "outputs": [],
   "source": [
    "# Define the equation of the circle: x^2 + y^2 = 1\n",
    "circle_eq = sp.Eq(x**2 + y**2, 1)\n",
    "\n",
    "# Define the equation of a line: y = x + 1/2\n",
    "line_eq = sp.Eq(y, x + sp.Rational(1, 2))\n",
    "\n",
    "# Solve the system of equations (circle and line)\n",
    "intersection_points = sp.solve([circle_eq, line_eq], (x, y))\n",
    "intersection_points"
   ]
  },
  {
   "cell_type": "markdown",
   "id": "45dc5429-ab1f-4af6-b7f7-2eca8f7bfa38",
   "metadata": {},
   "source": [
    "### Command Line Interface\n",
    "If you use\n",
    "```python\n",
    "from sympy import init_printing\n",
    "from sympy import init_session\n",
    "init_session(quiet=True) \n",
    "```\n",
    "You can print math equations in ascii as console output."
   ]
  }
 ],
 "metadata": {
  "kernelspec": {
   "display_name": "Python 3 (ipykernel)",
   "language": "python",
   "name": "python3"
  },
  "language_info": {
   "codemirror_mode": {
    "name": "ipython",
    "version": 3
   },
   "file_extension": ".py",
   "mimetype": "text/x-python",
   "name": "python",
   "nbconvert_exporter": "python",
   "pygments_lexer": "ipython3",
   "version": "3.12.6"
  }
 },
 "nbformat": 4,
 "nbformat_minor": 5
}
